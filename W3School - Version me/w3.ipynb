{
 "cells": [
  {
   "cell_type": "markdown",
   "metadata": {},
   "source": [
    "## Python Variable"
   ]
  },
  {
   "cell_type": "code",
   "execution_count": 13,
   "metadata": {},
   "outputs": [
    {
     "name": "stdout",
     "output_type": "stream",
     "text": [
      "5 Adam\n",
      "<class 'int'>\n",
      "<class 'str'>\n",
      "<class 'str'>\n"
     ]
    }
   ],
   "source": [
    "# Python Variable \n",
    "x = 5 # Int\n",
    "y = \"Adam\" # String\n",
    "print(x,y)\n",
    "print(type(x))\n",
    "print(type(y))\n",
    "\n",
    "# Casting\n",
    "\n",
    "x = str(4)\n",
    "print(type(x))"
   ]
  },
  {
   "cell_type": "markdown",
   "metadata": {},
   "source": [
    "## Assign Multiple Variables"
   ]
  },
  {
   "cell_type": "code",
   "execution_count": 3,
   "metadata": {},
   "outputs": [
    {
     "name": "stdout",
     "output_type": "stream",
     "text": [
      "Burger Seafood Beef\n",
      "['Burger', 'Seafood', 'Beef']\n"
     ]
    }
   ],
   "source": [
    "# x,y,z = \"pineapple\", \"banana\" , \"manggo\"\n",
    "# print(x)\n",
    "# print(y)\n",
    "# print(z)\n",
    "\n",
    "# Unpack Collection\n",
    "\n",
    "foods = [\"Burger\", \"Seafood\", \"Beef\"]\n",
    "x , y , z = foods\n",
    "print(x,y,z)\n",
    "print(foods)\n",
    "\n"
   ]
  },
  {
   "cell_type": "markdown",
   "metadata": {},
   "source": [
    "## Global Variables"
   ]
  },
  {
   "cell_type": "code",
   "execution_count": 14,
   "metadata": {},
   "outputs": [
    {
     "name": "stdout",
     "output_type": "stream",
     "text": [
      "Python is awesome\n",
      "python is awesome\n"
     ]
    }
   ],
   "source": [
    "y = \"awesome\"\n",
    "\n",
    "def myfunc():\n",
    "    print(\"Python is \" + y)\n",
    "\n",
    "myfunc()\n",
    "\n",
    "print(\"python is \" + y)"
   ]
  },
  {
   "cell_type": "code",
   "execution_count": 23,
   "metadata": {},
   "outputs": [
    {
     "name": "stdout",
     "output_type": "stream",
     "text": [
      "python is  fantastic ok\n"
     ]
    }
   ],
   "source": [
    "def myfunc2():\n",
    "    global x,o\n",
    "    x = \"fantastic\"\n",
    "    o = \"ok\"\n",
    "myfunc2()\n",
    "\n",
    "print(\"python is \", x , o)"
   ]
  },
  {
   "cell_type": "markdown",
   "metadata": {},
   "source": [
    "## Python Strings"
   ]
  },
  {
   "cell_type": "markdown",
   "metadata": {},
   "source": [
    "### Python Concatenate"
   ]
  },
  {
   "cell_type": "code",
   "execution_count": 1,
   "metadata": {},
   "outputs": [
    {
     "name": "stdout",
     "output_type": "stream",
     "text": [
      "HelloWorld\n"
     ]
    }
   ],
   "source": [
    "a = \"Hello\"\n",
    "b = \"World\"\n",
    "c = a + b\n",
    "print(c)"
   ]
  },
  {
   "cell_type": "markdown",
   "metadata": {},
   "source": [
    "### Format Strings"
   ]
  },
  {
   "cell_type": "code",
   "execution_count": 3,
   "metadata": {},
   "outputs": [
    {
     "name": "stdout",
     "output_type": "stream",
     "text": [
      "This is type 40\n"
     ]
    }
   ],
   "source": [
    "age = 40\n",
    "# type = \"man\"\n",
    "txt = \"This is type {}\"\n",
    "print(txt.format(age))"
   ]
  },
  {
   "cell_type": "code",
   "execution_count": 14,
   "metadata": {},
   "outputs": [
    {
     "name": "stdout",
     "output_type": "stream",
     "text": [
      "I want to pay 50 dollar for 50 pieces of item 1000.\n"
     ]
    }
   ],
   "source": [
    "# Example\n",
    "quantity = 10\n",
    "itemnumber = 1000 \n",
    "price = 50\n",
    "myorder = \"I want to pay {2} dollar for {2} pieces of item {1}.\"\n",
    "print(myorder.format(quantity,itemnumber,price)) "
   ]
  },
  {
   "cell_type": "markdown",
   "metadata": {},
   "source": [
    "#### Strings Method"
   ]
  },
  {
   "cell_type": "code",
   "execution_count": 20,
   "metadata": {},
   "outputs": [
    {
     "name": "stdout",
     "output_type": "stream",
     "text": [
      "Age : 22 is my age.\n"
     ]
    }
   ],
   "source": [
    "# Capitalize -> Converts the first character to upper case\n",
    "txt = \"age : 22 is my age.\"\n",
    "x = txt.capitalize()\n",
    "print (x)"
   ]
  },
  {
   "cell_type": "code",
   "execution_count": 19,
   "metadata": {},
   "outputs": [
    {
     "name": "stdout",
     "output_type": "stream",
     "text": [
      "hello, and welcome to my world!\n"
     ]
    }
   ],
   "source": [
    "# Casefold -> Input String to lower case\n",
    "txt = \"Hello, And Welcome To My World!\"\n",
    "\n",
    "x = txt.casefold()\n",
    "print(x)"
   ]
  },
  {
   "cell_type": "markdown",
   "metadata": {},
   "source": [
    "## Python Boolean"
   ]
  },
  {
   "cell_type": "code",
   "execution_count": 36,
   "metadata": {},
   "outputs": [
    {
     "name": "stdout",
     "output_type": "stream",
     "text": [
      "A is greater than a\n"
     ]
    }
   ],
   "source": [
    "a = 200\n",
    "b = 33\n",
    "\n",
    "if a > b:\n",
    "    print (\"A is greater than a\")\n",
    "else: \n",
    "    print (\"B is less than a\")"
   ]
  },
  {
   "cell_type": "code",
   "execution_count": 39,
   "metadata": {},
   "outputs": [
    {
     "name": "stdout",
     "output_type": "stream",
     "text": [
      "True\n",
      "True\n"
     ]
    }
   ],
   "source": [
    "print (bool(\"Hello\"))\n",
    "print (bool(15))"
   ]
  },
  {
   "cell_type": "markdown",
   "metadata": {},
   "source": [
    "## Python Operators"
   ]
  },
  {
   "cell_type": "markdown",
   "metadata": {},
   "source": [
    "### Python Arithmetic Operators"
   ]
  },
  {
   "cell_type": "code",
   "execution_count": 46,
   "metadata": {},
   "outputs": [
    {
     "name": "stdout",
     "output_type": "stream",
     "text": [
      "8\n",
      "2\n",
      "15\n",
      "1.6666666666666667\n",
      "2\n",
      "125\n",
      "1\n"
     ]
    }
   ],
   "source": [
    "# + Addition\n",
    "x = 5\n",
    "y = 3\n",
    "print(x + y)\n",
    "\n",
    "# - Subtraction\n",
    "x = 5\n",
    "y = 3\n",
    "print(x-y)\n",
    "\n",
    "# * Multiplication\n",
    "x = 5\n",
    "y = 3\n",
    "print(x*y)\n",
    "\n",
    "# / Division\n",
    "x = 5\n",
    "y = 3\n",
    "print(x/y)\n",
    "\n",
    "# % Modulus\n",
    "x = 5\n",
    "y = 3\n",
    "print(x % y)\n",
    "\n",
    "# ** Exponentiation\n",
    "x = 5\n",
    "y = 3\n",
    "print (x ** y)\n",
    "\n",
    "# // Floor Division\n",
    "x = 5\n",
    "y = 3\n",
    "print (x // y)"
   ]
  },
  {
   "cell_type": "markdown",
   "metadata": {},
   "source": [
    "### Python Assignment Operators"
   ]
  },
  {
   "cell_type": "code",
   "execution_count": 10,
   "metadata": {},
   "outputs": [
    {
     "name": "stdout",
     "output_type": "stream",
     "text": [
      "5\n",
      "10\n",
      "0\n",
      "25\n",
      "1.0\n",
      "0\n",
      "1\n",
      "3125\n",
      "5\n",
      "5\n",
      "0\n",
      "0\n",
      "160\n"
     ]
    }
   ],
   "source": [
    "# = \n",
    "x = 5\n",
    "print (x)\n",
    "\n",
    "# +=\n",
    "x = 5\n",
    "x += 5\n",
    "print (x)\n",
    "\n",
    "# -=\n",
    "x = 5\n",
    "x -= 5\n",
    "print (x)\n",
    "\n",
    "# *= \n",
    "x = 5\n",
    "x *= 5\n",
    "print (x)\n",
    "\n",
    "# /=\n",
    "x = 5\n",
    "x /= 5\n",
    "print (x)\n",
    "\n",
    "# %= \n",
    "x = 5\n",
    "x %= 5\n",
    "print (x)\n",
    "\n",
    "# //=\n",
    "x = 5\n",
    "x //= 5\n",
    "print (x)\n",
    "\n",
    "# **=\n",
    "x = 5\n",
    "x **= 5\n",
    "print (x)\n",
    "\n",
    "# &=\n",
    "x = 5\n",
    "x &= 5\n",
    "print (x)\n",
    "\n",
    "# |=\n",
    "x = 5\n",
    "x |= 5\n",
    "print (x)\n",
    "\n",
    "# ^=\n",
    "x = 5\n",
    "x ^= 5\n",
    "print (x)\n",
    "\n",
    "# >>=\n",
    "x = 5\n",
    "x >>= 5\n",
    "print (x)\n",
    "\n",
    "# <<=\n",
    "x = 5\n",
    "x <<= 5\n",
    "print (x)"
   ]
  },
  {
   "cell_type": "markdown",
   "metadata": {},
   "source": [
    "## Python List"
   ]
  },
  {
   "cell_type": "markdown",
   "metadata": {},
   "source": [
    "### Python List"
   ]
  },
  {
   "cell_type": "code",
   "execution_count": 2,
   "metadata": {},
   "outputs": [
    {
     "name": "stdout",
     "output_type": "stream",
     "text": [
      "['apple', 'watermelon', 'cherry']\n",
      "['apple', 'banana', 'cherry'] [1, 5, 7, 9, 2] [True, True, False]\n",
      "<class 'list'>\n",
      "['banana', 'pineapple', 'manggo']\n",
      "['watermelon', 'banana', 'guava']\n"
     ]
    }
   ],
   "source": [
    "mylist = [\"apple\", \"watermelon\", \"cherry\"]\n",
    "print(mylist)\n",
    "\n",
    "\n",
    "# List item - Data Types\n",
    "list1 = [\"apple\", \"banana\", \"cherry\"]\n",
    "list2 = [1, 5, 7, 9, 2]\n",
    "list3 = [True, True, False]\n",
    "\n",
    "print(list1, list2, list3)\n",
    "\n",
    "# List Type\n",
    "mylist = [\"apple\", \"banana\", \"cherry\"]\n",
    "print(type(mylist))\n",
    "\n",
    "# List Constructor\n",
    "mylisting = list((\"banana\", \"pineapple\", \"manggo\"))\n",
    "print(mylisting)\n",
    "\n",
    "# Me \n",
    "nanolisting = list((\"watermelon\", \"banana\", \"guava\"))\n",
    "print(nanolisting)"
   ]
  },
  {
   "cell_type": "code",
   "execution_count": 5,
   "metadata": {},
   "outputs": [
    {
     "name": "stdout",
     "output_type": "stream",
     "text": [
      "['banana', 'manggo', 'strawberry', 'watermelon', 'pineapple']\n"
     ]
    }
   ],
   "source": [
    "testlist = []\n",
    "testlist.append(\"banana\")\n",
    "testlist.append(\"manggo\")\n",
    "testlist.insert(4, \"strawberry\")\n",
    "otherlist = [\"watermelon\",\"pineapple\"]\n",
    "testlist += (otherlist)\n",
    "\n",
    "print(testlist)"
   ]
  },
  {
   "cell_type": "markdown",
   "metadata": {},
   "source": [
    "### Loop List"
   ]
  },
  {
   "cell_type": "markdown",
   "metadata": {},
   "source": [
    "#### Loop Through a List"
   ]
  },
  {
   "cell_type": "code",
   "execution_count": 8,
   "metadata": {},
   "outputs": [
    {
     "name": "stdout",
     "output_type": "stream",
     "text": [
      "apple\n",
      "banana\n",
      "cherry\n",
      "burger\n",
      "takoyaki\n",
      "hot chicken wings\n"
     ]
    }
   ],
   "source": [
    "thislist = [\"apple\", \"banana\", \"cherry\"]\n",
    "for x in thislist:\n",
    "    print(x)\n",
    "\n",
    "# Me\n",
    "\n",
    "mylisted= [\"burger\", \"takoyaki\", \"hot chicken wings\"]\n",
    "for i in mylisted:\n",
    "    print(i)\n"
   ]
  },
  {
   "cell_type": "markdown",
   "metadata": {},
   "source": [
    "#### Loop Through the index numbers"
   ]
  },
  {
   "cell_type": "code",
   "execution_count": 14,
   "metadata": {},
   "outputs": [
    {
     "name": "stdout",
     "output_type": "stream",
     "text": [
      "one\n",
      "two\n",
      "three\n",
      "four\n"
     ]
    }
   ],
   "source": [
    "thislist = [\"one\", \"two\", \"three\", \"four\"]\n",
    "for x in range(len(thislist)):\n",
    "    print(thislist[x])"
   ]
  },
  {
   "cell_type": "markdown",
   "metadata": {},
   "source": [
    "#### Using a While Loop"
   ]
  },
  {
   "cell_type": "code",
   "execution_count": 21,
   "metadata": {},
   "outputs": [
    {
     "name": "stdout",
     "output_type": "stream",
     "text": [
      "black\n",
      "red\n"
     ]
    }
   ],
   "source": [
    "newlist= [\"white\", \"blue\", \"black\", \"red\"]\n",
    "i = 2\n",
    "while i < len(newlist):\n",
    "    print(newlist[i])\n",
    "    i = i + 1"
   ]
  },
  {
   "cell_type": "markdown",
   "metadata": {},
   "source": [
    "#### Looping using comprehension"
   ]
  },
  {
   "cell_type": "code",
   "execution_count": 3,
   "metadata": {},
   "outputs": [
    {
     "name": "stdout",
     "output_type": "stream",
     "text": [
      "tea\n",
      "milk\n",
      "juice\n",
      "water\n"
     ]
    },
    {
     "data": {
      "text/plain": [
       "[None, None, None, None]"
      ]
     },
     "execution_count": 3,
     "metadata": {},
     "output_type": "execute_result"
    }
   ],
   "source": [
    "nanolisting=[\"tea\", \"milk\", \"juice\", \"water\"]\n",
    "[print(u) for u in nanolisting] \n"
   ]
  },
  {
   "cell_type": "markdown",
   "metadata": {},
   "source": [
    "##### List Compherension W3"
   ]
  },
  {
   "cell_type": "code",
   "execution_count": 2,
   "metadata": {},
   "outputs": [
    {
     "name": "stdout",
     "output_type": "stream",
     "text": [
      "['one', 'two', 'three', 'carrot', 'spinach', 'kale', 'brocolli']\n",
      "['kale']\n"
     ]
    }
   ],
   "source": [
    "#  1\n",
    "vegetables=[\"carrot\", \"spinach\", \"kale\", \"brocolli\"]\n",
    "newlist=[\"one\", \"two\", \"three\"]\n",
    "\n",
    "for i in vegetables:\n",
    "    if i in newlist:\n",
    "        newlist.append(i)\n",
    "\n",
    "print(newlist + vegetables)\n",
    "\n",
    "\n",
    "# 2\n",
    "\n",
    "vegetables=[\"carrot\", \"spinach\", \"kale\", \"brocolli\"]\n",
    "newlist=[]\n",
    "\n",
    "for i in vegetables:\n",
    "    if \"k\" in i:\n",
    "        newlist.append(i)\n",
    "\n",
    "print(newlist)\n"
   ]
  },
  {
   "cell_type": "code",
   "execution_count": 16,
   "metadata": {},
   "outputs": [
    {
     "name": "stdout",
     "output_type": "stream",
     "text": [
      "['narnia', 'dracula']\n"
     ]
    }
   ],
   "source": [
    "name_movie = [\"narnia\", \"dracula\"]\n",
    "add_movie = []\n",
    "\n",
    "for n in add_movie:\n",
    "    if not add_movie:\n",
    "        name_movie.append(\"naruto\")\n",
    "    # name_movie.append()\n",
    "\n",
    "print(name_movie)"
   ]
  },
  {
   "cell_type": "markdown",
   "metadata": {},
   "source": [
    "#### List Comprehension you can do all that with only line of code"
   ]
  },
  {
   "cell_type": "code",
   "execution_count": 54,
   "metadata": {},
   "outputs": [
    {
     "name": "stdout",
     "output_type": "stream",
     "text": [
      "['french Fries']\n",
      "['kale']\n",
      "['white']\n"
     ]
    }
   ],
   "source": [
    "# 1\n",
    "foods=[\"pizza\", \"french Fries\", \"hamburger\"]\n",
    "newlist = [x for x in foods if \"f\" in x]\n",
    "print(newlist)\n",
    "\n",
    "# 2\n",
    "eat_vegetables=[\"brocoli\", \"kale\", \"carrot\"]\n",
    "menulist = [i for i in eat_vegetables if \"k\" in i]\n",
    "print(menulist)\n",
    "\n",
    "# 3\n",
    "my_color=[\"red\", \"white\", \"black\", \"blue\"]\n",
    "# col=[]\n",
    "list_menu=[lis for lis in my_color if \"w\" in lis]\n",
    "# mil=[l for l in my_color if \"r\" in l]\n",
    "\n",
    "# # Not Compherension\n",
    "# for i in my_color:\n",
    "#     if \"r\" in i:\n",
    "#         col.append(i)\n",
    "    \n",
    "print(list_menu)\n"
   ]
  },
  {
   "cell_type": "markdown",
   "metadata": {},
   "source": [
    "#### Sort Lists"
   ]
  },
  {
   "cell_type": "code",
   "execution_count": 21,
   "metadata": {},
   "outputs": [
    {
     "name": "stdout",
     "output_type": "stream",
     "text": [
      "[4, 3, 2, 1, 5, 4, 3, 2, 1]\n"
     ]
    }
   ],
   "source": [
    "list1 = [1, 2, 3, 4 ,5, 1 , 2 , 3, 4]\n",
    "list1.reverse()\n",
    "print(list1)"
   ]
  },
  {
   "cell_type": "code",
   "execution_count": 92,
   "metadata": {},
   "outputs": [
    {
     "name": "stdout",
     "output_type": "stream",
     "text": [
      "['guava', 'watermelon', 'banana', 'manggo']\n"
     ]
    }
   ],
   "source": [
    "thislist=[\"manggo\", \"banana\", \"watermelon\", \"guava\"]\n",
    "reversed_list = thislist[::-1]\n",
    "print(reversed_list)\n"
   ]
  },
  {
   "cell_type": "markdown",
   "metadata": {},
   "source": [
    "#### Copy Lists"
   ]
  },
  {
   "cell_type": "code",
   "execution_count": 61,
   "metadata": {},
   "outputs": [
    {
     "name": "stdout",
     "output_type": "stream",
     "text": [
      "[1, 2, 3, 4]\n"
     ]
    }
   ],
   "source": [
    "def reverse_buatsendiri(list_ygmasuk,status=True):\n",
    "    if status:\n",
    "        return list_ygmasuk[::-1]\n",
    "    if status is False:\n",
    "        return list_ygmasuk\n",
    "list123 = [1,2,3,4]\n",
    "print(reverse_buatsendiri(list123,status=False))"
   ]
  },
  {
   "cell_type": "code",
   "execution_count": 14,
   "metadata": {},
   "outputs": [
    {
     "name": "stdout",
     "output_type": "stream",
     "text": [
      "['one', 'two', 'three', 'four']\n"
     ]
    }
   ],
   "source": [
    "thislist = [\"one\", \"two\", \"three\", \"four\"]\n",
    "thlist= list(thislist)\n",
    "print (thlist)"
   ]
  },
  {
   "cell_type": "markdown",
   "metadata": {},
   "source": [
    "#### Join List"
   ]
  },
  {
   "cell_type": "markdown",
   "metadata": {},
   "source": [
    "##### Join Two List Using + Operator"
   ]
  },
  {
   "cell_type": "code",
   "execution_count": 20,
   "metadata": {},
   "outputs": [
    {
     "name": "stdout",
     "output_type": "stream",
     "text": [
      "['a', 'b', 'c', 'd', 1, 2, 3]\n"
     ]
    }
   ],
   "source": [
    "list1=[\"a\", \"b\", \"c\", \"d\"]\n",
    "list2=[1, 2, 3]\n",
    "\n",
    "list3 = list1 + list2\n",
    "print(list3)"
   ]
  },
  {
   "cell_type": "markdown",
   "metadata": {},
   "source": [
    "##### Join Two List Using Append"
   ]
  },
  {
   "cell_type": "code",
   "execution_count": 36,
   "metadata": {},
   "outputs": [
    {
     "name": "stdout",
     "output_type": "stream",
     "text": [
      "['red', 'blue', 'black', 'white', 'yellow']\n",
      "[1, 2, 3, 4, 5, 6, 7, 8, 9, 10]\n",
      "[10, 11, 12, 13, 14, 15, 16]\n"
     ]
    }
   ],
   "source": [
    "# 1\n",
    "list1= [\"red\", \"blue\", \"black\"]\n",
    "list2= [\"white\", \"yellow\"]\n",
    "\n",
    "for x in list2:\n",
    "    list1.append(x)\n",
    "    \n",
    "print(list1)\n",
    "\n",
    "# 2\n",
    "\n",
    "number1= [1, 2, 3, 4]\n",
    "number2= [5, 6, 7, 8, 9, 10]\n",
    "\n",
    "for i in number2:\n",
    "    number1.append(i)\n",
    "\n",
    "\n",
    "print(number1)\n",
    "\n",
    "# 3\n",
    "\n",
    "number_one= [10, 11 ,12 ,13]\n",
    "number_two= [14, 15, 16]\n",
    "\n",
    "for x in number_two:\n",
    "    number_one.append(x)\n",
    "\n",
    "print (number_one)"
   ]
  },
  {
   "cell_type": "markdown",
   "metadata": {},
   "source": [
    "##### Join Two List Using Extend"
   ]
  },
  {
   "cell_type": "code",
   "execution_count": 37,
   "metadata": {},
   "outputs": [
    {
     "name": "stdout",
     "output_type": "stream",
     "text": [
      "['a', 'b', 'c', 'd', 'e', 'f']\n"
     ]
    }
   ],
   "source": [
    "alphabet_one= [\"a\", \"b\", \"c\"]\n",
    "alphabet_two= [\"d\", \"e\", \"f\"]\n",
    "\n",
    "alphabet_one.extend(alphabet_two)\n",
    "print(alphabet_one)"
   ]
  },
  {
   "cell_type": "markdown",
   "metadata": {},
   "source": [
    "### Tuples"
   ]
  },
  {
   "cell_type": "markdown",
   "metadata": {},
   "source": [
    "#### Python Tuple"
   ]
  },
  {
   "cell_type": "markdown",
   "metadata": {},
   "source": [
    "##### Tuple"
   ]
  },
  {
   "cell_type": "code",
   "execution_count": 39,
   "metadata": {},
   "outputs": [
    {
     "name": "stdout",
     "output_type": "stream",
     "text": [
      "<class 'tuple'>\n"
     ]
    }
   ],
   "source": [
    "mytuple = (\"apple\", \"banana\", \"watermelon\")\n",
    "print(type(mytuple))"
   ]
  },
  {
   "cell_type": "markdown",
   "metadata": {},
   "source": [
    "##### Tuple Allow Duplicate"
   ]
  },
  {
   "cell_type": "code",
   "execution_count": 40,
   "metadata": {},
   "outputs": [
    {
     "name": "stdout",
     "output_type": "stream",
     "text": [
      "('one', 'two', 'three', 'one', 'three')\n"
     ]
    }
   ],
   "source": [
    "thistuple=(\"one\", \"two\", \"three\", \"one\", \"three\")\n",
    "print(thistuple)"
   ]
  },
  {
   "cell_type": "markdown",
   "metadata": {},
   "source": [
    "##### Tuple Length"
   ]
  },
  {
   "cell_type": "code",
   "execution_count": 41,
   "metadata": {},
   "outputs": [
    {
     "name": "stdout",
     "output_type": "stream",
     "text": [
      "5\n"
     ]
    }
   ],
   "source": [
    "thistuple=(\"one\", \"two\", \"three\", \"one\", \"three\")\n",
    "print(len(thistuple))"
   ]
  },
  {
   "cell_type": "markdown",
   "metadata": {},
   "source": [
    "##### Create Tuple With One Item\n",
    "\n",
    "Noted : To create a tuple with only one item, you have to add a comma after the item, otherwise Python will not recognize it as a tuple."
   ]
  },
  {
   "cell_type": "code",
   "execution_count": 2,
   "metadata": {},
   "outputs": [
    {
     "name": "stdout",
     "output_type": "stream",
     "text": [
      "<class 'tuple'>\n",
      "<class 'str'>\n"
     ]
    }
   ],
   "source": [
    "thistuple = (\"apple\",)\n",
    "print(type(thistuple))\n",
    "\n",
    "thistuple = (\"apple\")\n",
    "print(type(thistuple))"
   ]
  },
  {
   "cell_type": "markdown",
   "metadata": {},
   "source": [
    "##### Tuple Items - Data Types"
   ]
  },
  {
   "cell_type": "code",
   "execution_count": 3,
   "metadata": {},
   "outputs": [
    {
     "name": "stdout",
     "output_type": "stream",
     "text": [
      "('apple', 'banana', 'watermelon')\n",
      "(1, 2, 3, 4, 5)\n",
      "(True, False, False)\n"
     ]
    }
   ],
   "source": [
    "tuple1= (\"apple\", \"banana\", \"watermelon\")\n",
    "tuple2= (1 ,2 ,3, 4, 5)\n",
    "tuple3= (True, False, False)\n",
    "\n",
    "print(tuple1)\n",
    "print(tuple2)\n",
    "print(tuple3)"
   ]
  },
  {
   "cell_type": "markdown",
   "metadata": {},
   "source": [
    "##### A tuple can contain different data types"
   ]
  },
  {
   "cell_type": "code",
   "execution_count": 6,
   "metadata": {},
   "outputs": [
    {
     "name": "stdout",
     "output_type": "stream",
     "text": [
      "('abc', 31, True, 40, 'male')\n",
      "<class 'tuple'>\n"
     ]
    }
   ],
   "source": [
    "tuple1=(\"abc\", 31, True, 40, \"male\" )\n",
    "print(tuple1)\n",
    "print(type(tuple1))"
   ]
  },
  {
   "cell_type": "markdown",
   "metadata": {},
   "source": [
    "##### Access Tuple"
   ]
  },
  {
   "cell_type": "code",
   "execution_count": 14,
   "metadata": {},
   "outputs": [
    {
     "name": "stdout",
     "output_type": "stream",
     "text": [
      "banana\n",
      "cheryy\n",
      "('banana', 'cheryy')\n",
      "('apple',)\n"
     ]
    }
   ],
   "source": [
    "# Positive Indexing\n",
    "\n",
    "thistuples = (\"apple\", \"banana\", \"cheryy\")\n",
    "print(thistuples[1])\n",
    "\n",
    "\n",
    "# Negative Indexing\n",
    "thistuples = (\"apple\", \"banana\", \"cheryy\")\n",
    "print(thistuples[-1])\n",
    "\n",
    "# Range Indexing Positive\n",
    "thistuples = (\"apple\", \"banana\", \"cheryy\")\n",
    "print(thistuples[1:3])\n",
    "\n",
    "# Range Indexing Negative\n",
    "thistuples = (\"apple\", \"banana\", \"cheryy\")\n",
    "print(thistuples[-0:-2])\n",
    "\n",
    "# "
   ]
  },
  {
   "cell_type": "markdown",
   "metadata": {},
   "source": [
    "##### Tuple : Check If Item Exist"
   ]
  },
  {
   "cell_type": "code",
   "execution_count": 19,
   "metadata": {},
   "outputs": [
    {
     "name": "stdout",
     "output_type": "stream",
     "text": [
      "Yes red is in the tuples\n"
     ]
    }
   ],
   "source": [
    "thistuples= (\"red\", \"black\", \"white\")\n",
    "if \"red\" in thistuples:\n",
    "    print(\"Yes red is in the tuples\")"
   ]
  },
  {
   "cell_type": "markdown",
   "metadata": {},
   "source": [
    "##### Update Tuples\n",
    "\n",
    "Noted : Once a tuple is created, you cannot change its values. Tuples are unchangeable, or immutable as it also is called.\n",
    "\n",
    "But there is a workaround. You can convert the tuple into a list, change the list, and convert the list back into a tuple."
   ]
  },
  {
   "cell_type": "code",
   "execution_count": 26,
   "metadata": {},
   "outputs": [
    {
     "name": "stdout",
     "output_type": "stream",
     "text": [
      "('red', 'black', 'kiwi')\n",
      "<class 'tuple'>\n"
     ]
    }
   ],
   "source": [
    "x = (\"red\", \"black\", \"white\")\n",
    "y = list(x)\n",
    "y[2] = \"kiwi\"\n",
    "x= tuple(y)\n",
    "\n",
    "print(x)\n",
    "print(type(x))"
   ]
  },
  {
   "cell_type": "markdown",
   "metadata": {},
   "source": [
    "##### Change Tuple Use add convert to List"
   ]
  },
  {
   "cell_type": "code",
   "execution_count": 8,
   "metadata": {},
   "outputs": [
    {
     "name": "stdout",
     "output_type": "stream",
     "text": [
      "('tea', 'juice', 'lemonilo', 'milo')\n"
     ]
    }
   ],
   "source": [
    "create_drinks= (\"tea\", \"juice\", \"lemonilo\", \"fanta\")\n",
    "add_drinks= list(create_drinks)\n",
    "add_drinks [3]= \"milo\"\n",
    "# add_drinks.append (\"fruit tea\")\n",
    "create_drinks= tuple(add_drinks)\n",
    "\n",
    "print(create_drinks)"
   ]
  },
  {
   "cell_type": "markdown",
   "metadata": {},
   "source": [
    "##### Add Tuples use Append convert to list"
   ]
  },
  {
   "cell_type": "code",
   "execution_count": 7,
   "metadata": {},
   "outputs": [
    {
     "name": "stdout",
     "output_type": "stream",
     "text": [
      "('tea', 'juice', 'lemonilo', 'fanta', 'fruit tea')\n"
     ]
    }
   ],
   "source": [
    "create_drinks= (\"tea\", \"juice\", \"lemonilo\", \"fanta\")\n",
    "add_drinks= list(create_drinks)\n",
    "# add_drinks [3]= \"milo\"\n",
    "add_drinks.append (\"fruit tea\")\n",
    "create_drinks= tuple(add_drinks)\n",
    "\n",
    "print(create_drinks)"
   ]
  },
  {
   "cell_type": "markdown",
   "metadata": {},
   "source": [
    "##### Add Tuple to a Tuple \n",
    "\n",
    "Noted :  You are allowed to add tuples to tuples, so if you want to add one item, (or many), create a new tuple with the item(s), and add it to the existing tuple:"
   ]
  },
  {
   "cell_type": "code",
   "execution_count": 13,
   "metadata": {},
   "outputs": [
    {
     "name": "stdout",
     "output_type": "stream",
     "text": [
      "('tea', 'juice', 'lemonilo', 'fanta', 'fruit tea', 'milo', 'bearbrand')\n"
     ]
    }
   ],
   "source": [
    "create_drinks= (\"tea\", \"juice\", \"lemonilo\", \"fanta\")\n",
    "add_drinks = (\"fruit tea\", \"milo\", \"bearbrand\")\n",
    "create_drinks += add_drinks\n",
    "\n",
    "print(create_drinks)"
   ]
  },
  {
   "cell_type": "markdown",
   "metadata": {},
   "source": [
    "##### Remove Items Tuples\n",
    "\n",
    "Noted : Tuples are unchangeable, so you cannot remove items from it, but you can use the same workaround as we used for changing and adding tuple items:\n"
   ]
  },
  {
   "cell_type": "markdown",
   "metadata": {},
   "source": [
    "##### Delete Tuple : Use Remove"
   ]
  },
  {
   "cell_type": "code",
   "execution_count": 1,
   "metadata": {},
   "outputs": [
    {
     "name": "stdout",
     "output_type": "stream",
     "text": [
      "('french fries', 'salad', 'pizza')\n",
      "('red', 'black')\n"
     ]
    }
   ],
   "source": [
    "# Use Remove For Delete Tuples\n",
    "\n",
    "create_foods=(\"french fries\", \"salad\", \"pizza\")\n",
    "# add_foods = list(create_foods)\n",
    "# add_foods.remove(\"salad\")\n",
    "# create_foods = tuple(add_foods)\n",
    "print(create_foods)\n",
    "\n",
    "\n",
    "create_color= (\"red\", \"white\", \"black\")\n",
    "add_color = list(create_color)\n",
    "add_color.remove(\"white\")\n",
    "create_color = tuple(add_color)\n",
    "print(create_color)\n",
    "\n"
   ]
  },
  {
   "cell_type": "markdown",
   "metadata": {},
   "source": [
    "##### Delete Tuple : Use Del\n",
    "\n",
    "If use this code will be error because variable create_foods got deleted"
   ]
  },
  {
   "cell_type": "code",
   "execution_count": 17,
   "metadata": {},
   "outputs": [
    {
     "name": "stdout",
     "output_type": "stream",
     "text": [
      "('french fries', 'salad', 'pizza')\n"
     ]
    }
   ],
   "source": [
    "# Use Del for Delete Tuples\n",
    "\n",
    "create_foods=(\"french fries\", \"salad\", \"pizza\")\n",
    "# del create_foods\n",
    "print(create_foods)"
   ]
  },
  {
   "cell_type": "markdown",
   "metadata": {},
   "source": [
    "##### Unpack Tuples"
   ]
  },
  {
   "cell_type": "code",
   "execution_count": 5,
   "metadata": {},
   "outputs": [
    {
     "name": "stdout",
     "output_type": "stream",
     "text": [
      "rheina\n",
      "<class 'list'>\n",
      "erin\n"
     ]
    }
   ],
   "source": [
    "# Packing Tuples\n",
    "color_name=(\"blue\", \"white\", \"yellow\")\n",
    "\n",
    "# But in python, we are also allowed extract the values back into variables. this called \"Unpacking\"\n",
    "all_name= (\"rheina\", \"nafica\", \"dybee\", \"intan\", \"nayla\", \"erin\")\n",
    "(one, *two, three) = all_name\n",
    "\n",
    "print(one)\n",
    "print(type(two))\n",
    "print(three)"
   ]
  },
  {
   "cell_type": "markdown",
   "metadata": {},
   "source": [
    "##### Loop Tuples"
   ]
  },
  {
   "cell_type": "markdown",
   "metadata": {},
   "source": [
    "###### Iterate One"
   ]
  },
  {
   "cell_type": "code",
   "execution_count": 6,
   "metadata": {},
   "outputs": [
    {
     "name": "stdout",
     "output_type": "stream",
     "text": [
      "snake\n",
      "mouse\n",
      "butterfly\n"
     ]
    }
   ],
   "source": [
    "# Iterate\n",
    "name_animals=(\"snake\", \"mouse\", \"butterfly\")\n",
    "for a in name_animals:\n",
    "    print(a)"
   ]
  },
  {
   "cell_type": "markdown",
   "metadata": {},
   "source": [
    "###### Iterate Two"
   ]
  },
  {
   "cell_type": "code",
   "execution_count": 7,
   "metadata": {},
   "outputs": [
    {
     "name": "stdout",
     "output_type": "stream",
     "text": [
      "bolt\n",
      "whiskas\n",
      "fish\n"
     ]
    }
   ],
   "source": [
    "foods_animals=(\"bolt\", \"whiskas\", \"fish\")\n",
    "for f in foods_animals:\n",
    "    print(f)"
   ]
  },
  {
   "cell_type": "markdown",
   "metadata": {},
   "source": [
    "###### Loop Through the Index Number"
   ]
  },
  {
   "cell_type": "code",
   "execution_count": 11,
   "metadata": {},
   "outputs": [
    {
     "name": "stdout",
     "output_type": "stream",
     "text": [
      "whale\n",
      "piranha\n",
      "shark\n"
     ]
    }
   ],
   "source": [
    "type_of_fish=(\"whale\", \"piranha\", \"shark\")\n",
    "for t in range(len(type_of_fish)):\n",
    "    print(type_of_fish[t])"
   ]
  },
  {
   "cell_type": "markdown",
   "metadata": {},
   "source": [
    "###### Using a While Loop \n",
    "\n",
    "You can loop through the tuple items by using a while loop.\n",
    "\n",
    "Use the len() function to determine the length of the tuple, then start at 0 and loop your way through the tuple items by referring to their indexes.\n",
    "\n",
    "Remember to increase the index by 1 after each iteration."
   ]
  },
  {
   "cell_type": "code",
   "execution_count": 23,
   "metadata": {},
   "outputs": [
    {
     "name": "stdout",
     "output_type": "stream",
     "text": [
      "malaysia\n",
      "dubai\n",
      "korea\n",
      "crocodille\n",
      "monkey\n",
      "tiger\n",
      "two\n",
      "three\n",
      "check1\n",
      "check2\n",
      "check3\n",
      "2.55\n",
      "3.44\n",
      "5.44\n",
      "float\n",
      "boolean\n",
      "adam\n",
      "rizqi\n",
      "010\n"
     ]
    }
   ],
   "source": [
    "# One\n",
    "name_country=(\"indonesia\", \"malaysia\", \"dubai\", \"korea\")\n",
    "i = 1\n",
    "while i < len(name_country):\n",
    "    print(name_country[i])\n",
    "    i = i + 1\n",
    "\n",
    "# Two\n",
    "check_list_animals= (\"fish\", \"crocodille\", \"monkey\", \"tiger\")\n",
    "a = 1\n",
    "while a < len(check_list_animals):\n",
    "    print(check_list_animals[a])\n",
    "    a = a + 1\n",
    "\n",
    "# Three\n",
    "check_number=(\"one\", \"two\", \"three\")\n",
    "che = 1\n",
    "while che < len(check_number):\n",
    "    print(check_number[che])\n",
    "    che = che + 1\n",
    "\n",
    "# Four\n",
    "\n",
    "number_checked= (\"check1\", \"check2\", \"check3\")\n",
    "num = 0\n",
    "while num < len(number_checked):\n",
    "    print(number_checked[num])\n",
    "    num = num + 1\n",
    "\n",
    "# Five\n",
    "\n",
    "float_number= (2.55, 3.44, 5.44)\n",
    "flo = 0\n",
    "while flo < len(float_number):\n",
    "    print(float_number[flo])\n",
    "    flo = flo + 1\n",
    "\n",
    "# Six\n",
    "\n",
    "checked_datatype = (\"string\", \"float\", \"boolean\")\n",
    "data_check = 1\n",
    "while data_check < len(checked_datatype):\n",
    "    print(checked_datatype[data_check])\n",
    "    data_check = data_check + 1\n",
    "\n",
    "# Seven\n",
    "\n",
    "new_name = (\"adam\", \"rizqi\", \"010\")\n",
    "pick= 0\n",
    "while pick < len(new_name):\n",
    "    print(new_name[pick])\n",
    "    pick = pick + 1\n"
   ]
  },
  {
   "cell_type": "markdown",
   "metadata": {},
   "source": [
    "##### Join Tuples"
   ]
  },
  {
   "cell_type": "code",
   "execution_count": 27,
   "metadata": {},
   "outputs": [
    {
     "name": "stdout",
     "output_type": "stream",
     "text": [
      "('kuyhaa', 'nesabamedia', 'bagas31', 'epson', 'canon', 'linux')\n",
      "('narnia', 'dracula', 'dilan 1990', 'dilan 1991', 'narnia', 'dracula', 'dilan 1990', 'dilan 1991')\n"
     ]
    }
   ],
   "source": [
    "# One join tuples using +\n",
    "\n",
    "web_download_software= (\"kuyhaa\", \"nesabamedia\", \"bagas31\")\n",
    "web_download_driver= (\"epson\", \"canon\", \"linux\")\n",
    "\n",
    "allin = web_download_software + web_download_driver\n",
    "\n",
    "# print(web_download_software + web_download_driver)\n",
    "print(allin)\n",
    "\n",
    "\n",
    "# Multiple Tuples\n",
    "name_movie = (\"narnia\" , \"dracula\", \"dilan 1990\", \"dilan 1991\")\n",
    "pick_movie = name_movie * 2\n",
    "print (pick_movie)"
   ]
  },
  {
   "cell_type": "markdown",
   "metadata": {},
   "source": [
    "#### Sets"
   ]
  },
  {
   "cell_type": "markdown",
   "metadata": {},
   "source": [
    "##### Python Sets"
   ]
  },
  {
   "cell_type": "code",
   "execution_count": 4,
   "metadata": {},
   "outputs": [
    {
     "name": "stdout",
     "output_type": "stream",
     "text": [
      "{'watermelon', 'apple', 'banana'}\n",
      "3\n",
      "<class 'set'>\n"
     ]
    }
   ],
   "source": [
    "# Duplicate now allowed\n",
    "\n",
    "dup= {\"banana\", \"apple\", \"watermelon\", \"watermelon\"}\n",
    "print(dup)\n",
    "# Len for see how many items a set has\n",
    "print(len(dup))\n",
    "# Type for see what class kind of type\n",
    "print(type(dup))\n"
   ]
  },
  {
   "cell_type": "markdown",
   "metadata": {},
   "source": [
    "##### Set items Data type"
   ]
  },
  {
   "cell_type": "code",
   "execution_count": 2,
   "metadata": {},
   "outputs": [
    {
     "name": "stdout",
     "output_type": "stream",
     "text": [
      "{'guava', 'apple', 'banana'}\n",
      "{1, 3, 5, 7, 9}\n",
      "{False, True}\n"
     ]
    }
   ],
   "source": [
    "set1 = {\"apple\", \"banana\", \"guava\"}\n",
    "set2 = {1, 5, 7, 9 ,3}\n",
    "set3 = {True, False, False}\n",
    "\n",
    "print(set1)\n",
    "print(set2)\n",
    "print(set3)"
   ]
  },
  {
   "cell_type": "markdown",
   "metadata": {},
   "source": [
    "##### Loop Through the set, and print the values"
   ]
  },
  {
   "cell_type": "code",
   "execution_count": 12,
   "metadata": {},
   "outputs": [
    {
     "name": "stdout",
     "output_type": "stream",
     "text": [
      "white\n",
      "black\n",
      "red\n"
     ]
    }
   ],
   "source": [
    "myset={\"red\", \"black\", \"white\"}\n",
    "\n",
    "for x in myset:\n",
    "    print(x)"
   ]
  },
  {
   "cell_type": "markdown",
   "metadata": {},
   "source": [
    "##### Add Set Items"
   ]
  },
  {
   "cell_type": "code",
   "execution_count": 27,
   "metadata": {},
   "outputs": [
    {
     "name": "stdout",
     "output_type": "stream",
     "text": [
      "{'kirito', 'klein', 'asuna', 'sinon'}\n",
      "{'Yowamushi no Pedal', 'Gundam', 'Black Clover', 'SAO', 'Haikyuu!', 'Kuroko no Basket'}\n"
     ]
    }
   ],
   "source": [
    "# Add one Item to a set use the add() method.\n",
    "\n",
    "character_animation_sao = {\"kirito\", \"asuna\", \"klein\"}\n",
    "character_animation_sao.add(\"sinon\")\n",
    "print (character_animation_sao)\n",
    "\n",
    "# To add items from another set into the current set, use the update() method.\n",
    "setlist_anime = {\"SAO\", \"Haikyuu!\", \"Yowamushi no Pedal\"}\n",
    "combine_setlist_anime = {\"Black Clover\", \"Kuroko no Basket\", \"Gundam\"}\n",
    "setlist_anime.update(combine_setlist_anime)\n",
    "print(setlist_anime)"
   ]
  },
  {
   "cell_type": "markdown",
   "metadata": {},
   "source": [
    "##### Add Any Iterable\n",
    "\n",
    "Noted : The object in the update() method does not have to be a set, it can be any iterable object (tuples, lists, dictionaries etc.)."
   ]
  },
  {
   "cell_type": "code",
   "execution_count": 25,
   "metadata": {},
   "outputs": [
    {
     "name": "stdout",
     "output_type": "stream",
     "text": [
      "{'ps4', 'ps2', 'ps1', 'ps3', 'ps5'}\n",
      "<class 'set'>\n"
     ]
    }
   ],
   "source": [
    "buy_something = {\"ps1\", \"ps2\", \"ps3\"}\n",
    "buy_something_use_list = [\"ps4\", \"ps5\"]\n",
    "\n",
    "buy_something.update(buy_something_use_list)\n",
    "print(buy_something)\n",
    "print(type(buy_something))"
   ]
  },
  {
   "cell_type": "markdown",
   "metadata": {},
   "source": [
    "##### Remove Set Items\n",
    "Noted : To remove an item in a set, use the remove(), or the discard() method.\n",
    "\n",
    "3 Ways to Remove, Pop but random item, clear set and del for deleted set"
   ]
  },
  {
   "cell_type": "code",
   "execution_count": 21,
   "metadata": {},
   "outputs": [
    {
     "name": "stdout",
     "output_type": "stream",
     "text": [
      "{'three', 'one'}\n",
      "{2, 3}\n",
      "{2, 3, 4}\n",
      "set()\n",
      "{'three', 'two', 'one'}\n"
     ]
    }
   ],
   "source": [
    "# 1\n",
    "want_to_remove_set = {\"one\", \"two\", \"three\"}\n",
    "want_to_remove_set.remove(\"two\")\n",
    "print(want_to_remove_set)\n",
    "\n",
    "# 2\n",
    "want_to_discard_set = {1 ,2, 3}\n",
    "want_to_discard_set.discard(1)\n",
    "print(want_to_discard_set)\n",
    "\n",
    "# 3\n",
    "want_to_pop_set = {1 , 2, 3, 4}\n",
    "want_to_pop_set.pop()\n",
    "print(want_to_pop_set)\n",
    "\n",
    "# 4\n",
    "want_to_clear_set = {1, 3, 4, 5}\n",
    "want_to_clear_set.clear()\n",
    "print(want_to_clear_set)\n",
    "\n",
    "# 5\n",
    "want_to_del_set = {\"one\", \"two\", \"three\"}\n",
    "# want_to_del_set.del()\n",
    "print(want_to_del_set)"
   ]
  },
  {
   "cell_type": "markdown",
   "metadata": {},
   "source": [
    "##### Python - Loop Sets\n",
    "\n",
    "Noted : You can loop through the set items by using a for loop:"
   ]
  },
  {
   "cell_type": "code",
   "execution_count": 46,
   "metadata": {},
   "outputs": [
    {
     "name": "stdout",
     "output_type": "stream",
     "text": [
      "number:1\n",
      "number:3\n",
      "number:2\n"
     ]
    }
   ],
   "source": [
    "my_set= {\"number:1\", \"number:2\", \"number:3\"}\n",
    "\n",
    "for s in my_set:\n",
    "    print(s)"
   ]
  },
  {
   "cell_type": "markdown",
   "metadata": {},
   "source": [
    "##### Join Two Sets\n",
    "Noted : There are several ways to join two or more sets in Python.\n",
    "\n",
    "You can use the union() method that returns a new set containing all items from both sets, or the update() method that inserts all the items from one set into another:"
   ]
  },
  {
   "cell_type": "code",
   "execution_count": 12,
   "metadata": {},
   "outputs": [
    {
     "name": "stdout",
     "output_type": "stream",
     "text": [
      "{1, 2, 3, 'two', 'three', 'one'}\n",
      "{'kyuubi', 'hinata', 'boruto', 'hanabi'}\n",
      "{'sakura', 'sarada'}\n",
      "{'french fries', 'beef', 'chicken wings'}\n",
      "{'fanta', 'mineral water', 'lemon tea', 'milo'}\n"
     ]
    }
   ],
   "source": [
    "# Union\n",
    "one_set={\"one\", \"two\", \"three\"}\n",
    "two_set={1, 2, 3}\n",
    "\n",
    "three_set= one_set.union(two_set)\n",
    "print(three_set)\n",
    "\n",
    "\n",
    "# Union 2\n",
    "\n",
    "naruto_set={\"boruto\", \"hanabi\"}\n",
    "add_naruto_set={\"hinata\", \"kyuubi\"}\n",
    "\n",
    "want_add_naruto_set= naruto_set.union(add_naruto_set)\n",
    "print(want_add_naruto_set)\n",
    "\n",
    "\n",
    "# Update\n",
    "\n",
    "sasuke_set={\"sarada\"}\n",
    "add_sasuke_set={\"sakura\"}\n",
    "\n",
    "sasuke_set.update(add_sasuke_set)\n",
    "print(sasuke_set)\n",
    "\n",
    "\n",
    "# Update 2\n",
    "\n",
    "store_foods= {\"french fries\", \"beef\"}\n",
    "add_foods= {\"chicken wings\"}\n",
    "\n",
    "store_foods.update(add_foods)\n",
    "print(store_foods)\n",
    "\n",
    "# Update 3\n",
    "\n",
    "buy_drinks = {\"lemon tea\", \"mineral water\"}\n",
    "add_drinks = {\"fanta\", \"milo\"}\n",
    "\n",
    "buy_drinks.update(add_drinks)\n",
    "print(buy_drinks)\n",
    "\n",
    "\n",
    "# Keep Only Duplicates > Use Intersection Method\n"
   ]
  },
  {
   "cell_type": "markdown",
   "metadata": {},
   "source": [
    "##### Join Sets : Keep Only the Duplicates\n",
    "Noted : The intersection_update() method will keep only the items that are present in both sets."
   ]
  },
  {
   "cell_type": "code",
   "execution_count": 9,
   "metadata": {},
   "outputs": [
    {
     "name": "stdout",
     "output_type": "stream",
     "text": [
      "{'apple'}\n",
      "{'blue'}\n",
      "{'ocean'}\n"
     ]
    }
   ],
   "source": [
    "# Intersection\n",
    "\n",
    "x = {\"apple\", \"watermelon\", \"banana\"}\n",
    "y = {\"red\", \"blue\", \"apple\"}\n",
    "\n",
    "x.intersection_update(y)\n",
    "print(x)\n",
    "\n",
    "# Return Intersection 2\n",
    "\n",
    "x = {\"blue\", \"black\", \"white\"}\n",
    "z = {\"blue\", \"freeze\", \"cold\"}\n",
    "\n",
    "y = x.intersection(z)\n",
    "print(y)\n",
    "\n",
    "# Return Intersection 3 Me\n",
    "j = {\"blue\", \"ocean\", \"water\"}\n",
    "k = {\"move\", \"to\", \"ocean\"}\n",
    "l = k.intersection(j)\n",
    "print(l)"
   ]
  },
  {
   "cell_type": "markdown",
   "metadata": {},
   "source": [
    "##### Keep All, But NOT the Duplicates\n",
    "\n",
    "Noted : The symmetric_difference_update() method will keep only the elements that are NOT present in both sets."
   ]
  },
  {
   "cell_type": "code",
   "execution_count": 11,
   "metadata": {},
   "outputs": [
    {
     "name": "stdout",
     "output_type": "stream",
     "text": [
      "{'hospital', 'school'}\n",
      "{'my', 'your'}\n"
     ]
    }
   ],
   "source": [
    "# Symmetric method\n",
    "o = {\"go\", \"to\", \"school\"}\n",
    "p = {\"go\", \"to\", \"hospital\"}\n",
    "\n",
    "o.symmetric_difference_update(p)\n",
    "\n",
    "print(o)\n",
    "\n",
    "# Return Symmetric method\n",
    "\n",
    "k = {\"be\", \"your\", \"self\"}\n",
    "l = {\"be\", \"my\", \"self\"}\n",
    "m = k.symmetric_difference(l)\n",
    "\n",
    "print(m)"
   ]
  },
  {
   "cell_type": "markdown",
   "metadata": {},
   "source": [
    "#### Python Dictionary\n",
    "\n",
    "Noted : Dictionaries are used to store data values in key:value pairs.\n",
    "\n",
    "A dictionary is a collection which is ordered*, changeable and do not allow duplicates.\n",
    "\n",
    "As of Python version 3.7, dictionaries are ordered. In Python 3.6 and earlier, dictionaries are unordered.\n",
    "\n",
    "Dictionaries are written with curly brackets, and have keys and values:"
   ]
  },
  {
   "cell_type": "code",
   "execution_count": 22,
   "metadata": {},
   "outputs": [
    {
     "name": "stdout",
     "output_type": "stream",
     "text": [
      "{'year': '2000'}\n",
      "<class 'dict'>\n",
      "{'years', '2000'}\n",
      "<class 'set'>\n",
      "{'name': 'Adam', 'year': '2023', 'month': '04'}\n",
      "<class 'dict'>\n",
      "3\n"
     ]
    }
   ],
   "source": [
    "k = {\n",
    "    \"year\" : \"2000\"\n",
    "}\n",
    "print(k)\n",
    "print(type(k))\n",
    "\n",
    "l = {\"years\",\"2000\"}\n",
    "print(l)\n",
    "print(type(l))\n",
    "\n",
    "# Duplicate values will overwrite existing values:\n",
    "a = {\n",
    "    \"name\" : \"Adam\",\n",
    "    \"year\" : \"2023\",\n",
    "    \"month\": \"September\",\n",
    "    \"month\": \"04\"\n",
    "}\n",
    "\n",
    "print(a)\n",
    "print(type(a))\n",
    "# Dictionary Length\n",
    "print(len(a))"
   ]
  },
  {
   "cell_type": "code",
   "execution_count": 44,
   "metadata": {},
   "outputs": [
    {
     "name": "stdout",
     "output_type": "stream",
     "text": [
      "<class 'dict'>\n",
      "dict_values([1, False, 2.4, 'string', ['one', 'two', 'three']])\n"
     ]
    }
   ],
   "source": [
    "# Dictionary Items - Data Types\n",
    "\n",
    "typedat = {\n",
    "    \"number\" :1,\n",
    "    \"boolean\": False,\n",
    "    \"float\": 2.4,\n",
    "    \"string\": \"string\",\n",
    "    \"list\" : [\"one\", \"two\", \"three\"]\n",
    "}\n",
    "\n",
    "print(type(typedat))\n",
    "x = typedat.values()\n",
    "print(x)"
   ]
  },
  {
   "cell_type": "markdown",
   "metadata": {},
   "source": [
    "##### Python - Access Dictionary Items\n",
    "Noted : Accessing Items\n",
    "You can access the items of a dictionary by referring to its key name, inside square brackets:\n"
   ]
  },
  {
   "cell_type": "code",
   "execution_count": 24,
   "metadata": {},
   "outputs": [
    {
     "name": "stdout",
     "output_type": "stream",
     "text": [
      "Black\n",
      "Red\n",
      "yellow blue\n"
     ]
    }
   ],
   "source": [
    "# Get the Value of [Three] and [One]\n",
    "pick_color = {\"One\" : \"Red\", \n",
    "              \"Two\" : \"Blue\", \n",
    "              \"Three\" : \"Black\"}\n",
    "print(pick_color[\"Three\"])\n",
    "print(pick_color[\"One\"])\n",
    "\n",
    "# There is also a method called get() that will give you the same result:\n",
    "choose_color = {\"a\" : \"blue\", \"b\" : \"yellow\"}\n",
    "choose= choose_color.get(\"b\")\n",
    "choosee= choose_color.get(\"a\")\n",
    "print(choose, choosee)"
   ]
  },
  {
   "cell_type": "code",
   "execution_count": 86,
   "metadata": {},
   "outputs": [
    {
     "name": "stdout",
     "output_type": "stream",
     "text": [
      "dict_keys(['brand', 'model', 'year'])\n",
      "dict_values(['ford', 'mustang', 1964])\n",
      "\n",
      "dict_keys(['brand', 'model', 'year', 'color'])\n",
      "dict_values(['ford', 'mustang', 1964, 'white'])\n",
      "\n",
      "dict_keys(['brand', 'model', 'year', 'color'])\n",
      "dict_values(['ford', 'mustang', 2020, 'white'])\n",
      "\n",
      "dict_keys(['brand', 'model', 'year', 'color'])\n",
      "dict_values(['ford', 'Ferrari', 2020, 'white'])\n",
      "\n"
     ]
    }
   ],
   "source": [
    "# Add a new item to the original dictionary, and see that the keys list gets updated as well:\n",
    "\n",
    "car = {\n",
    "    \"brand\" : \"ford\",\n",
    "    \"model\" : \"mustang\",\n",
    "    \"year\" : 1964\n",
    "}\n",
    "\n",
    "x = car.keys()\n",
    "y = car.values()\n",
    "\n",
    "print(x)\n",
    "print(y)\n",
    "print(\"\")\n",
    "\n",
    "car[\"color\"] = \"white\"\n",
    "print(x)\n",
    "print(y)\n",
    "print(\"\")\n",
    "\n",
    "# Change\n",
    "car[\"year\"] = 2020\n",
    "print(x)\n",
    "print(y)\n",
    "print(\"\")\n",
    "\n",
    "car[\"model\"]= \"Ferrari\"\n",
    "print(x)\n",
    "print(y)\n",
    "print(\"\")"
   ]
  },
  {
   "cell_type": "code",
   "execution_count": 92,
   "metadata": {},
   "outputs": [
    {
     "name": "stdout",
     "output_type": "stream",
     "text": [
      "Yes, 'model', is one of the keys in the thisdict dictionary\n"
     ]
    }
   ],
   "source": [
    "# Check if Key Exist\n",
    "\n",
    "thisdict = {\n",
    "    \"brand\" : \"Ford\",\n",
    "    \"model\" : \"Mustang\",\n",
    "    \"year\" : 1999\n",
    "}\n",
    "\n",
    "if \"model\" in thisdict:\n",
    "    print(\"Yes, 'model', is one of the keys in the thisdict dictionary\")\n"
   ]
  },
  {
   "cell_type": "markdown",
   "metadata": {},
   "source": [
    "#### Change Items"
   ]
  },
  {
   "cell_type": "code",
   "execution_count": 121,
   "metadata": {},
   "outputs": [
    {
     "name": "stdout",
     "output_type": "stream",
     "text": [
      "{'brand': 'Ford', 'model': 'Mustang', 'year': 2020, 'ss': 1999}\n"
     ]
    }
   ],
   "source": [
    "# Change Values\n",
    "# You can change the value of a specific item by referring to its key name:\n",
    "\n",
    "thisdict={\n",
    "    \"brand\" : \"Ford\",\n",
    "    \"model\" : \"Mustang\",\n",
    "    \"year\" : 2000\n",
    "}\n",
    "thisdict[\"ss\"]= 1999\n",
    "\n",
    "\n",
    "# Update Dictionary\n",
    "# The update() method will update the dictionary with the items from the given argument.\n",
    "# The argument must be a dictionary, or an iterable object with key:value pairs.\n",
    "\n",
    "\n",
    "thisdict.update({\"year\" :  2020})\n",
    "print(thisdict)"
   ]
  },
  {
   "cell_type": "markdown",
   "metadata": {},
   "source": [
    "#### Dictionary - Add Items\n",
    "\n",
    "Adding Items\n",
    "Adding an item to the dictionary is done by using a new index key and assigning a value to it:\n"
   ]
  },
  {
   "cell_type": "code",
   "execution_count": 141,
   "metadata": {},
   "outputs": [
    {
     "name": "stdout",
     "output_type": "stream",
     "text": [
      "{'select_1': 'one', 'select_2': 'two', 'select_3': 'three'}\n",
      "{'select_1': 'one', 'select_2': 'two', 'select_3': 'three', 'select_4': 'four'}\n",
      "{'select_1': 'one', 'select_2': 'two', 'select_3': 'three', 'select_4': 'four', 'select_5': 'five'}\n"
     ]
    }
   ],
   "source": [
    "tester_dict = {\n",
    "    \"select_1\": \"one\",\n",
    "    \"select_2\": \"two\",\n",
    "    \"select_3\": \"three\"\n",
    "    }\n",
    "print(tester_dict)\n",
    "tester_dict[\"select_4\"]= \"four\"\n",
    "\n",
    "print(tester_dict)\n",
    "\n",
    "# Use Update can add items too\n",
    "\n",
    "tester_dict.update({\"select_5\" : \"five\"})\n",
    "print(tester_dict)"
   ]
  },
  {
   "cell_type": "markdown",
   "metadata": {},
   "source": [
    "#### Dictionary - Remove Items\n",
    "Removing Items\n",
    "There are several methods to remove items from a dictionary:"
   ]
  },
  {
   "cell_type": "code",
   "execution_count": 142,
   "metadata": {},
   "outputs": [
    {
     "name": "stdout",
     "output_type": "stream",
     "text": [
      "{'select_1': 'one', 'select_2': 'two', 'select_3': 'three', 'select_4': 'four', 'select_5': 'five'}\n"
     ]
    }
   ],
   "source": [
    "# Step One, Use pop()\n",
    "\n",
    "tester_dict.pop(\"select_1\")\n",
    "\n",
    "# Step Two, Use del (Specific recomended use this)\n",
    "del tester_dict[\"select_2\"]\n",
    "\n",
    "# Step Three, Use clear()\n",
    "tester_dict.clear()"
   ]
  },
  {
   "cell_type": "markdown",
   "metadata": {},
   "source": [
    "#### Dictionary - Loop Dictionary\n",
    "You can loop through a dictionary by using a for loop.\n",
    "\n",
    "When looping through a dictionary, the return value are the keys of the dictionary, but there are methods to return the values as well."
   ]
  },
  {
   "cell_type": "code",
   "execution_count": 163,
   "metadata": {},
   "outputs": [
    {
     "name": "stdout",
     "output_type": "stream",
     "text": [
      "select_1\n",
      "select_2\n",
      "select_3\n",
      "select_4\n",
      "select_5\n",
      "one\n",
      "two\n",
      "three\n",
      "four\n",
      "five\n",
      "one\n",
      "two\n",
      "three\n",
      "four\n",
      "five\n",
      "select_1\n",
      "select_2\n",
      "select_3\n",
      "select_4\n",
      "select_5\n",
      "('select_1', 'one')\n",
      "('select_2', 'two')\n",
      "('select_3', 'three')\n",
      "('select_4', 'four')\n",
      "('select_5', 'five')\n"
     ]
    }
   ],
   "source": [
    "# Print all key names in the dictionary, one by one:\n",
    "for a in tester_dict:\n",
    "    print(a)\n",
    "\n",
    "# Print all values in the dictionary, one by one:\n",
    "for b in tester_dict:\n",
    "    print(tester_dict[b])\n",
    "\n",
    "# You can also use the values() method to return values of a dictionary:\n",
    "for c in tester_dict.values():\n",
    "    print(c)\n",
    "\n",
    "# You can use the keys() method to return the keys of a dictionary:\n",
    "for d in tester_dict.keys():\n",
    "    print(d)\n",
    "\n",
    "# You can use the keys() method to return the keys of a dictionary:\n",
    "# Recomended\n",
    "for e in tester_dict.items():\n",
    "    print(e)"
   ]
  },
  {
   "cell_type": "markdown",
   "metadata": {},
   "source": [
    "#### Dictionary - Copy Dictionary\n",
    "You cannot copy a dictionary simply by typing dict2 = dict1, because: dict2 will only be a reference to dict1, and changes made in dict1 will automatically also be made in dict2.\n",
    "\n",
    "There are ways to make a copy, one way is to use the built-in Dictionary method copy()."
   ]
  },
  {
   "cell_type": "code",
   "execution_count": 1,
   "metadata": {},
   "outputs": [
    {
     "name": "stdout",
     "output_type": "stream",
     "text": [
      "{'brand': 'Ford', 'model': 'Mustang', 'year': 1964}\n"
     ]
    }
   ],
   "source": [
    "thisdict = {\n",
    "    \"brand\" : \"Ford\",\n",
    "    \"model\" : \"Mustang\",\n",
    "    \"year\" : 1964\n",
    "}\n",
    "\n",
    "# mydict = thisdict.copy()\n",
    "\n",
    "# print(mydict)\n",
    "\n",
    "mydict_two = dict(thisdict)\n",
    "print(mydict_two)"
   ]
  },
  {
   "cell_type": "markdown",
   "metadata": {},
   "source": [
    "#### Dictionary - Nested Dictionary\n",
    "A dictionary can contain dictionaries, this is called nested dictionaries."
   ]
  },
  {
   "cell_type": "code",
   "execution_count": 9,
   "metadata": {},
   "outputs": [
    {
     "name": "stdout",
     "output_type": "stream",
     "text": [
      "{'child1': {'name': 'Emil', 'year': 2004}, 'child2': {'name': 'Tobias', 'year': 2007}, 'child3': {'name': 'Linus', 'year': 2011}}\n"
     ]
    }
   ],
   "source": [
    "# Create a dictionary that contain three dictionaries:\n",
    "\n",
    "myfamily = {\n",
    "    \"child1\" : {\n",
    "        \"name\" : \"Emil\",\n",
    "        \"year\" : 2004\n",
    "    },\n",
    "    \"child2\" : {\n",
    "        \"name\" : \"Tobias\",\n",
    "        \"year\" : 2007\n",
    "    },\n",
    "    \"child3\" : {\n",
    "        \"name\" : \"Linus\",\n",
    "        \"year\" : 2011\n",
    "    }\n",
    "}\n",
    "\n",
    "print(myfamily)"
   ]
  },
  {
   "cell_type": "code",
   "execution_count": 10,
   "metadata": {},
   "outputs": [
    {
     "name": "stdout",
     "output_type": "stream",
     "text": [
      "{'child4': {'name': 'Nissa', 'year': 1999}, 'child5': {'name': 'Desi', 'year': 2000}, 'child6': {'name': 'Nabila', 'years': 2001}}\n"
     ]
    }
   ],
   "source": [
    "# Or, if you want to add three dictionaries into a new dictionary:\n",
    "# Create three dictionaries, then create one dictionary that will contain the other three dictionaries:\n",
    "\n",
    "child4 ={\n",
    "    \"name\" : \"Nissa\",\n",
    "    \"year\" : 1999\n",
    "}\n",
    "\n",
    "child5 = {\n",
    "    \"name\" : \"Desi\",\n",
    "    \"year\" : 2000\n",
    "}\n",
    "\n",
    "child6 = {\n",
    "    \"name\" : \"Nabila\",\n",
    "    \"years\" : 2001\n",
    "}\n",
    "\n",
    "myfamily= {\n",
    "    \"child4\" : child4,\n",
    "    \"child5\" : child5,  \n",
    "    \"child6\" : child6\n",
    "}\n",
    "\n",
    "print(myfamily)"
   ]
  },
  {
   "cell_type": "code",
   "execution_count": 14,
   "metadata": {},
   "outputs": [
    {
     "name": "stdout",
     "output_type": "stream",
     "text": [
      "Nabila\n"
     ]
    }
   ],
   "source": [
    "# Access Items in Nested Dictionaries\n",
    "# To access items from a nested dictionary, you use the name of the dictionaries, starting with the outer dictionary:\n",
    "# Print the name of child 2:\n",
    "\n",
    "print(myfamily[\"child6\"][\"name\"])"
   ]
  },
  {
   "cell_type": "markdown",
   "metadata": {},
   "source": [
    "#### Python If..Else\n",
    "Python supports the usual logical conditions from mathematics:\n",
    "\n",
    "``Equals: a == b``\n",
    "\n",
    "``Not Equals: a != b``\n",
    "\n",
    "``Less than: a < b``\n",
    "\n",
    "``Less than or equal to: a <= b``\n",
    "\n",
    "``Greater than: a > b``\n",
    "\n",
    "``Greater than or equal to: a >= b``\n",
    "\n",
    "These conditions can be used in several ways, most commonly in \"if statements\" and loops.\n",
    "\n",
    "An \"if statement\" is written by using the if keyword."
   ]
  },
  {
   "cell_type": "markdown",
   "metadata": {},
   "source": [
    "------"
   ]
  },
  {
   "cell_type": "markdown",
   "metadata": {},
   "source": [
    "In this example we use two variables, a and b, which are used as part of the if statement to test whether b is greater than a. As a is 33, and b is 200, we know that 200 is greater than 33, and so we print to screen that \"b is greater than a\"."
   ]
  },
  {
   "cell_type": "code",
   "execution_count": 17,
   "metadata": {},
   "outputs": [
    {
     "name": "stdout",
     "output_type": "stream",
     "text": [
      "b is greater than a\n"
     ]
    },
    {
     "data": {
      "text/plain": [
       "' In this example we use two variables, a and b, which are used as part of the if statement to \\ntest whether b is greater than a. As a is 33, and b is 200, we know that 200 is greater than 33, \\nand so we print to screen that \"b is greater than a\". '"
      ]
     },
     "execution_count": 17,
     "metadata": {},
     "output_type": "execute_result"
    }
   ],
   "source": [
    "# If Statement\n",
    "a = 33\n",
    "b = 200\n",
    "if b > a:\n",
    "    print(\"b is greater than a\")\n"
   ]
  },
  {
   "cell_type": "code",
   "execution_count": 42,
   "metadata": {},
   "outputs": [
    {
     "name": "stdout",
     "output_type": "stream",
     "text": [
      "Defeat\n"
     ]
    }
   ],
   "source": [
    "# Elif\n",
    "\n",
    "# a = 20\n",
    "# b = 50\n",
    "\n",
    "# if a > b:\n",
    "#     print(\"a is less than b\")\n",
    "# elif b > a:\n",
    "#     print(\"b is greater than a\")\n",
    "\n",
    "# My Tester 2\n",
    "boss = False\n",
    "attack = 50\n",
    "heal = 20\n",
    "\n",
    "\n",
    "if boss == 1:\n",
    "    print(\"Boss spawned... roarr \")\n",
    "elif attack > 50:\n",
    "    print(\"Boss got attack 50 damage\")\n",
    "elif attack < 50:\n",
    "    print(\"Boss got attacked les than 50 damage\")\n",
    "elif boss > 50:\n",
    "    print(\"Boss got healed 50 health\")\n",
    "else:\n",
    "    print(\"Defeat\")\n",
    "\n"
   ]
  },
  {
   "cell_type": "markdown",
   "metadata": {},
   "source": [
    "------"
   ]
  },
  {
   "cell_type": "markdown",
   "metadata": {},
   "source": [
    "In this example a is greater than b, so the first condition is not true, also the elif condition is not true, so we go to the else condition and print to screen that \"a is greater than b\"."
   ]
  },
  {
   "cell_type": "code",
   "execution_count": 45,
   "metadata": {},
   "outputs": [
    {
     "name": "stdout",
     "output_type": "stream",
     "text": [
      "a is greater than b\n"
     ]
    }
   ],
   "source": [
    "# Else\n",
    "# The else keyword catches anything which isn't caught by the preceding conditions.\n",
    "\n",
    "a = 400\n",
    "b = 10\n",
    "if b > a:\n",
    "    print(\"b is greater than a\")\n",
    "elif a == b:\n",
    "    print(\"a and b are equal\")\n",
    "else:\n",
    "    print(\"a is greater than b\")"
   ]
  },
  {
   "cell_type": "code",
   "execution_count": 63,
   "metadata": {},
   "outputs": [
    {
     "name": "stdout",
     "output_type": "stream",
     "text": [
      "b is not greater than a\n"
     ]
    }
   ],
   "source": [
    "# You can also have an else without the elif:\n",
    "\n",
    "a = 440\n",
    "b = 300\n",
    "\n",
    "if b > a:\n",
    "    print(\"a is greater than b\")\n",
    "else:\n",
    "    print(\"b is not greater than a\")"
   ]
  },
  {
   "cell_type": "markdown",
   "metadata": {},
   "source": [
    "-------"
   ]
  },
  {
   "cell_type": "markdown",
   "metadata": {},
   "source": [
    "This technique is known as Ternary Operators, or Conditional Expressions."
   ]
  },
  {
   "cell_type": "code",
   "execution_count": 67,
   "metadata": {},
   "outputs": [
    {
     "name": "stdout",
     "output_type": "stream",
     "text": [
      "B\n"
     ]
    }
   ],
   "source": [
    "# Short Hand Elif\n",
    "# If you have only one statement to execute, you can put it on the same line as the if statement.\n",
    "\n",
    "# One line if statement:\n",
    "if a > b: print (\"a is greater than b\")\n",
    "\n",
    "# Short Hand If..Else\n",
    "a = 2\n",
    "b= 330\n",
    "print(\"A\") if a > b else print(\"B\")"
   ]
  },
  {
   "cell_type": "code",
   "execution_count": 69,
   "metadata": {},
   "outputs": [
    {
     "name": "stdout",
     "output_type": "stream",
     "text": [
      "=\n"
     ]
    }
   ],
   "source": [
    "# You can also have multiple else statements on the same line:\n",
    "\n",
    "a = 330\n",
    "b = 330\n",
    "print(\"A\") if a > b else print(\"=\") if a == b else print(\"B\") "
   ]
  },
  {
   "cell_type": "markdown",
   "metadata": {},
   "source": [
    "-------"
   ]
  },
  {
   "cell_type": "markdown",
   "metadata": {},
   "source": [
    "And"
   ]
  },
  {
   "cell_type": "markdown",
   "metadata": {},
   "source": [
    "The ``and`` keyword is a logical operator, and is used to combine conditional statements:"
   ]
  },
  {
   "cell_type": "code",
   "execution_count": 74,
   "metadata": {},
   "outputs": [
    {
     "name": "stdout",
     "output_type": "stream",
     "text": [
      "Both Conditions are True\n"
     ]
    }
   ],
   "source": [
    "# Test if a is greater than b, AND if c is greater than a:\n",
    "\n",
    "a = 200\n",
    "b = 20\n",
    "c = 500\n",
    "\n",
    "if a > b and c > a:\n",
    "    print(\"Both Conditions are True\")\n",
    "else:\n",
    "    print(\"False\")\n"
   ]
  },
  {
   "cell_type": "markdown",
   "metadata": {},
   "source": [
    "------"
   ]
  },
  {
   "cell_type": "markdown",
   "metadata": {},
   "source": [
    "Or"
   ]
  },
  {
   "cell_type": "markdown",
   "metadata": {},
   "source": [
    "The or keyword is a logical operator, and is used to combine conditional statements:"
   ]
  },
  {
   "cell_type": "code",
   "execution_count": 80,
   "metadata": {},
   "outputs": [
    {
     "name": "stdout",
     "output_type": "stream",
     "text": [
      "At least one of the conditions is True\n"
     ]
    }
   ],
   "source": [
    "# Example\n",
    "# Test if a is greater than b, OR if a is greater than c\n",
    "\n",
    "a = 500\n",
    "b = 200\n",
    "c = 400\n",
    "\n",
    "if b > a or a > c:\n",
    "    print(\"At least one of the conditions is True\")\n",
    "\n",
    "# Noted for this = If u use or method for loop, at least on of the that conditions is will be true and get true, if two false you get false\n"
   ]
  },
  {
   "cell_type": "markdown",
   "metadata": {},
   "source": [
    "---------"
   ]
  },
  {
   "cell_type": "markdown",
   "metadata": {},
   "source": [
    "Not"
   ]
  },
  {
   "cell_type": "markdown",
   "metadata": {},
   "source": [
    "The not keyword is a logical operator, and is used to reverse the result of the conditional statement:"
   ]
  },
  {
   "cell_type": "code",
   "execution_count": 86,
   "metadata": {},
   "outputs": [
    {
     "name": "stdout",
     "output_type": "stream",
     "text": [
      "a is `not` greater than b\n"
     ]
    }
   ],
   "source": [
    "# Tes if a is `NOT` greater than b\n",
    "\n",
    "a = 50\n",
    "b = 200\n",
    "\n",
    "if not a > b:\n",
    "    print(\"a is `not` greater than b\")"
   ]
  },
  {
   "cell_type": "markdown",
   "metadata": {},
   "source": [
    "-------"
   ]
  },
  {
   "cell_type": "markdown",
   "metadata": {},
   "source": [
    "Nested If"
   ]
  },
  {
   "cell_type": "markdown",
   "metadata": {},
   "source": [
    "You can have if statements inside if statements, this is called nested if statements."
   ]
  },
  {
   "cell_type": "code",
   "execution_count": 95,
   "metadata": {},
   "outputs": [
    {
     "name": "stdout",
     "output_type": "stream",
     "text": [
      "Above ten,\n",
      "and also above 20!\n"
     ]
    }
   ],
   "source": [
    "x = 30\n",
    "\n",
    "if x > 10:\n",
    "    print(\"Above ten,\")\n",
    "    if x > 20:\n",
    "        print(\"and also above 20!\")\n",
    "    else:\n",
    "        print(\"but not above 20.\")"
   ]
  },
  {
   "cell_type": "markdown",
   "metadata": {},
   "source": [
    "---------"
   ]
  },
  {
   "cell_type": "markdown",
   "metadata": {},
   "source": [
    "The Pass Statement"
   ]
  },
  {
   "cell_type": "markdown",
   "metadata": {},
   "source": [
    "if statements cannot be empty, but if you for some reason have an if statement with no content, put in the pass statement to avoid getting an error."
   ]
  },
  {
   "cell_type": "code",
   "execution_count": 99,
   "metadata": {},
   "outputs": [],
   "source": [
    "a = 33\n",
    "b = 200\n",
    "\n",
    "if b > a:\n",
    "    pass"
   ]
  },
  {
   "cell_type": "markdown",
   "metadata": {},
   "source": [
    "#### Python - Python While Loops"
   ]
  },
  {
   "cell_type": "markdown",
   "metadata": {},
   "source": [
    "Python Loops\n",
    "Python has two primitive loop commands:\n",
    "\n",
    "    `while loops`\n",
    "    \n",
    "    `for loops`\n",
    "\n",
    "\n",
    "The while Loop\n",
    "\n",
    "With the while loop we can execute a set of statements as long as a condition is true."
   ]
  },
  {
   "cell_type": "code",
   "execution_count": 137,
   "metadata": {},
   "outputs": [
    {
     "name": "stdout",
     "output_type": "stream",
     "text": [
      "1\n",
      "2\n",
      "3\n",
      "4\n",
      "5\n",
      "\n",
      "1\n",
      "2\n",
      "3\n",
      "4\n",
      "5\n",
      "6\n",
      "7\n",
      "8\n",
      "9\n",
      "10\n",
      "\n",
      "1\n",
      "2\n",
      "3\n",
      "4\n",
      "5\n",
      "6\n",
      "7\n",
      "8\n",
      "9\n",
      "10\n"
     ]
    }
   ],
   "source": [
    "# Print i as long as i is less than 6:\n",
    "\n",
    "i = 1\n",
    "while i < 6:\n",
    "    print(i)\n",
    "    i += 1\n",
    "\n",
    "print(\"\")\n",
    "\n",
    "# My Examp 1\n",
    "# Brief : Print a as long a is less than 10\n",
    "\n",
    "# Result One , this use less than equal <= for get number 10\n",
    "a = 1\n",
    "while a <= 10:\n",
    "    print(a)\n",
    "    a += 1\n",
    "\n",
    "print(\"\")\n",
    "\n",
    "# Result Two, this use less than for get number than but in variable set to 0 and the print set to +1\n",
    "a = 0\n",
    "while a < 10:\n",
    "    print(a+1)\n",
    "    a += 1\n",
    "\n",
    "# Noted : Remember to increment i, or else the loop will continue forever.\n",
    "\n"
   ]
  },
  {
   "cell_type": "markdown",
   "metadata": {},
   "source": [
    "-------"
   ]
  },
  {
   "cell_type": "markdown",
   "metadata": {},
   "source": [
    "The Break Statement - While Loops\n",
    "\n",
    "With the break statement we can stop the loop even if the while condition is true:"
   ]
  },
  {
   "cell_type": "code",
   "execution_count": 162,
   "metadata": {},
   "outputs": [
    {
     "name": "stdout",
     "output_type": "stream",
     "text": [
      "1\n",
      "2\n",
      "3\n"
     ]
    }
   ],
   "source": [
    "i = 1\n",
    "while 1 < 5:\n",
    "    print(i)\n",
    "    if i == 3:\n",
    "        break\n",
    "    i += 1\n",
    "\n"
   ]
  },
  {
   "cell_type": "markdown",
   "metadata": {},
   "source": [
    "-------"
   ]
  },
  {
   "cell_type": "markdown",
   "metadata": {},
   "source": [
    "The continue Statement\n",
    "\n",
    "With the continue statement we can stop the current iteration, and continue with the next:"
   ]
  },
  {
   "cell_type": "code",
   "execution_count": 173,
   "metadata": {},
   "outputs": [
    {
     "name": "stdout",
     "output_type": "stream",
     "text": [
      "1\n",
      "2\n",
      "3\n",
      "4\n",
      "6\n"
     ]
    }
   ],
   "source": [
    "i = 0\n",
    "while i < 6:\n",
    "    i += 1\n",
    "    if i == 5:\n",
    "        continue\n",
    "    print(i)"
   ]
  },
  {
   "cell_type": "markdown",
   "metadata": {},
   "source": [
    "-------"
   ]
  },
  {
   "cell_type": "markdown",
   "metadata": {},
   "source": [
    "The else Statement\n",
    "\n",
    "With the `else` statement we can run a block of code once when the condition no longer is true:"
   ]
  },
  {
   "cell_type": "code",
   "execution_count": 179,
   "metadata": {},
   "outputs": [
    {
     "name": "stdout",
     "output_type": "stream",
     "text": [
      "1\n",
      "2\n",
      "3\n",
      "4\n",
      "5\n",
      "i is no longer less than 6\n",
      "\n",
      "1\n",
      "2\n",
      "3\n",
      "4\n",
      "5\n",
      "6\n",
      "7\n",
      "8\n",
      "9\n",
      "10\n",
      "a is no longer less than 10\n"
     ]
    }
   ],
   "source": [
    "i = 1\n",
    "while i < 6:\n",
    "    print(i)\n",
    "    i += 1\n",
    "else:\n",
    "    print(\"i is no longer less than 6\") \n",
    "\n",
    "# Two\n",
    "\n",
    "print()\n",
    "\n",
    "a = 1\n",
    "while a < 11:\n",
    "    print(a)\n",
    "    a += 1\n",
    "else:\n",
    "    print(\"a is no longer less than 10\")"
   ]
  },
  {
   "cell_type": "markdown",
   "metadata": {},
   "source": [
    "--------"
   ]
  },
  {
   "cell_type": "markdown",
   "metadata": {},
   "source": [
    "Python For Loops\n",
    "A for loop is used for iterating over a sequence (that is either a list, a tuple, a dictionary, a set, or a string).\n",
    "\n",
    "This is less like the for keyword in other programming languages, and works more like an iterator method as found in other object-orientated programming languages.\n",
    "\n",
    "With the for loop we can execute a set of statements, once for each item in a list, tuple, set etc"
   ]
  },
  {
   "cell_type": "markdown",
   "metadata": {},
   "source": [
    "#### Python - For Loops"
   ]
  },
  {
   "cell_type": "code",
   "execution_count": 1,
   "metadata": {},
   "outputs": [
    {
     "name": "stdout",
     "output_type": "stream",
     "text": [
      "\n",
      "Ferrari\n",
      "Wuling\n",
      "Civic\n",
      "Mazda\n"
     ]
    }
   ],
   "source": [
    "# # Print Each Fruit in a fruit list:\n",
    "# fruits = [\"apple\", \"banana\", \"watermelon\"]\n",
    "# for x in fruits:\n",
    "#     print(x)\n",
    "\n",
    "print()\n",
    "# Print two Each in a car list:\n",
    "car = [\"Ferrari\", \"Wuling\", \"Civic\", \"Mazda\"]\n",
    "for a in car:\n",
    "    new_var = a\n",
    "    print(new_var)\n",
    "\n",
    "# print(car)"
   ]
  },
  {
   "cell_type": "code",
   "execution_count": 34,
   "metadata": {},
   "outputs": [
    {
     "name": "stdout",
     "output_type": "stream",
     "text": [
      "0\n",
      "1\n",
      "2\n",
      "3\n",
      "4\n",
      "red apple\n",
      "red banana\n",
      "red cherry\n",
      "big apple\n",
      "big banana\n",
      "big cherry\n",
      "tasty apple\n",
      "tasty banana\n",
      "tasty cherry\n"
     ]
    }
   ],
   "source": [
    "# # Looping Through a String\n",
    "# # Even strings are iterable objects, they contain a sequence of characters:\n",
    "\n",
    "# # Example\n",
    "# for x in \"Wuling\":\n",
    "#     print(x)\n",
    "\n",
    "\n",
    "\n",
    "# # The break statement\n",
    "# # Example\n",
    "# # Exit the loop when x is \"banana\":\n",
    "\n",
    "# fruits = [\"apple\", \"banana\", \"cherry\",\"watermelon\"]\n",
    "# for x in fruits:\n",
    "#     if x == \"watermelon\":\n",
    "#         break\n",
    "#     print(x)\n",
    "\n",
    "\n",
    "\n",
    "# # The range() Function\n",
    "# # To loop through a set of code a specified number of times, we can use the range() function,\n",
    "# # The range() function returns a sequence of numbers, starting from 0 by default, and increments by 1 (by default), and ends at a specified number.\n",
    "\n",
    "# # Example\n",
    "# # Using the range() function:\n",
    "\n",
    "# for x in range(6):\n",
    "#     print(x +1) # If only print x, range will print 0-5, if use +1 will print 1-6\n",
    "\n",
    "# # The range Function defaults to 0 as a string value, however it is possible to specify the starting value by adding a parameter : range(2, 6), which means values from 2 to 6 (but not including 6)\n",
    "\n",
    "# # Example \n",
    "# # Using the Start parameter\n",
    "\n",
    "# for x in range (2,6):\n",
    "#     print(x)\n",
    "\n",
    "# # The range() function defaults to increment the sequence by 1, however it is possible to specify the increment value by adding a third parameter: range(2, 30, 3):\n",
    "\n",
    "# # Increment the sequence with 3 (default is 1):\n",
    "# for x in range(2,30,3):\n",
    "#     print(x)\n",
    "\n",
    "# # Else in For Loop\n",
    "# # The else keyword in a for loop specifies a block of code to be executed when the loops is finished:\n",
    "\n",
    "# # Example \n",
    "# # Print all number from 0 to 5, and print a message when the loop has ended:\n",
    "\n",
    "# for x in range(6):\n",
    "#     print(x)\n",
    "# else:\n",
    "#     print(\"Finally Finished!\")\n",
    "\n",
    "# Example\n",
    "# Break the loop when x is 3, and see what happens with the else block:\n",
    "\n",
    "for x in range(6):\n",
    "    if x == 5:break\n",
    "    print(x)\n",
    "else:\n",
    "    print(\"finally finished!\")\n",
    "\n",
    "# Nested Loop\n",
    "# A nested loop is a loop inside a loop.\n",
    "# The \"inner loop\" will be executed one time for each iteration of the \"outer loop\":\n",
    "\n",
    "# Example\n",
    "# Print each adjective for every fruit:\n",
    "adj = [\"red\", \"big\",\"tasty\"]\n",
    "fruits = [\"apple\", \"banana\", \"cherry\"]\n",
    "\n",
    "for x in adj:\n",
    "    for y in fruits:\n",
    "        print(x,y)\n",
    "\n",
    "# The pass statement \n",
    "# for loops cannot be empty, but if you for some reason have a for loop with no content, put in the pass statement to avoid getting an error.\n",
    "\n",
    "# Example\n",
    "for x in [0, 1, 2]:\n",
    "    pass\n"
   ]
  },
  {
   "cell_type": "markdown",
   "metadata": {},
   "source": [
    "#### Python- Python Functions\n",
    "\n",
    "A function is a block of code which only runs when it is called.\n",
    "\n",
    "You can pass data, known as parameters, into a function.\n",
    "\n",
    "A function can return data as a result."
   ]
  },
  {
   "cell_type": "code",
   "execution_count": 72,
   "metadata": {},
   "outputs": [
    {
     "name": "stdout",
     "output_type": "stream",
     "text": [
      "Nana print test 123\n",
      "Guin Refsness\n",
      "Amel Refsness\n",
      "His last name is Refness\n",
      "Iam from China\n",
      "Iam from Korea Selatan\n",
      "Iam from Japan\n",
      "apple\n",
      "banana\n",
      "watermelon\n",
      "15\n",
      "25\n",
      "45\n"
     ]
    },
    {
     "data": {
      "text/plain": [
       "10"
      ]
     },
     "execution_count": 72,
     "metadata": {},
     "output_type": "execute_result"
    }
   ],
   "source": [
    "# Creating a Function : \n",
    "# In Python a function is defined using the def keyword:\n",
    "\n",
    "# Arguments\n",
    "\n",
    "\"\"\" Information can be passed into functions as arguments.\n",
    "\n",
    "Arguments are specified after the function name, inside the parentheses. You can add as many arguments as you want, just separate them with a comma.\n",
    "\n",
    "The following example has a function with one argument (fname). When the function is called, we pass along a first name, which is used inside the function to print the full name:\"\"\"\n",
    "\n",
    "def testfunction(test):\n",
    "    print(test + \"print test 123\")\n",
    "\n",
    "testfunction(\"Nana \")\n",
    "\n",
    "# Parameter or Arguments\n",
    "# The terms parameter and argument can be used for the same thing: information that are passed into a function.\n",
    "\n",
    "\"\"\" From a function's perspective:\n",
    "\n",
    "A parameter is the variable listed inside the parentheses in the function definition.\n",
    "\n",
    "An argument is the value that is sent to the function when it is called. \"\"\"\n",
    "\n",
    "# Number of arguments \n",
    "# By default, a function must be called with the correct number of arguments. Meaning that if your function expects 2 arguments, you have to call the function with 2 arguments, not more, and not less.\n",
    "\n",
    "# Example\n",
    "# This function expects 2 arguments , and gets 2 arguments:\n",
    "def myfunc(fname, lname):\n",
    "    print(fname + \" \" + lname)\n",
    "myfunc(\"Guin\", \"Refsness\")\n",
    "myfunc(\"Amel\", \"Refsness\")\n",
    "\n",
    "\n",
    "# Arbitrary Keyword Arguments , **Kwargs\n",
    "# If you do not know how many keyword arguments that will be passed into your function, add two asterisk: ** before the parameter name in the function definition.\n",
    "# This way the function will receive a dictionary of arguments, and can access the items accordingly:\n",
    "\n",
    "# Example\n",
    "# If the number of keyword arguments is unknown, add a double ** before the parameter name:\n",
    "\n",
    "def my_function(**kid):\n",
    "    print(\"His last name is\" + kid[\"lname\"])\n",
    "\n",
    "my_function(fname = \"Tobias\", lname = \" Refness\")\n",
    "\n",
    "# Default Parameter Value\n",
    "def test_parameter_default_value(country= \"China\"):\n",
    "    print(\"Iam from \" + country)\n",
    "\n",
    "test_parameter_default_value()\n",
    "test_parameter_default_value(\"Korea Selatan\")\n",
    "test_parameter_default_value(\"Japan\")\n",
    "\n",
    "# Passing a List as an Argument\n",
    "\"\"\" You can send any data types of argument to a function (string, number, list, dictionary etc.), and it will be treated as the same data type inside the function.\n",
    "E.g. if you send a List as an argument, it will still be a List when it reaches the function \"\"\"\n",
    "\n",
    "def my_food(foods):\n",
    "    for x in foods:\n",
    "        print(x)\n",
    "\n",
    "fruits=[\"apple\", \"banana\", \"watermelon\"]\n",
    "my_food(fruits)\n",
    "\n",
    "\n",
    "# Return Values\n",
    "\n",
    "# To let a function return a value, use the 'return' statement:\n",
    "\n",
    "# Example\n",
    "\n",
    "def my_function_return(x):\n",
    "    return 5 * x\n",
    "\n",
    "print(my_function_return(3))\n",
    "print(my_function_return(5))\n",
    "print(my_function_return(9))\n",
    "\n",
    "\n",
    "# The pass Statement \n",
    "\"\"\" function definitions cannot be empty, but if you for some reason have a function definition with no content, put in the pass statement to avoid getting an error. \"\"\"\n",
    "\n",
    "def myfunction_two():\n",
    "    pass\n",
    "\n",
    "\n",
    "# Recursion\n",
    "\n",
    "\"\"\" Python also accepts function recursion, which means a defined function can call itself.\n",
    "\n",
    "Recursion is a common mathematical and programming concept. It means that a function calls itself. This has the benefit of meaning that you can loop through data to reach a result.\n",
    "\n",
    "The developer should be very careful with recursion as it can be quite easy to slip into writing a function which never terminates, or one that uses excess amounts of memory or processor power. However, when written correctly recursion can be a very efficient and mathematically-elegant approach to programming.\n",
    "\n",
    "In this example, 'tri_recursion()' is a function that we have defined to call itself (\"recurse\"). We use the 'k' variable as the data, which decrements '(-1)' every time we recurse. The recursion ends when the condition is not greater than 0 (i.e. when it is 0).\n",
    "\n",
    "To a new developer it can take some time to work out how exactly this works, best way to find out is by testing and modifying it. \"\"\"\n",
    "\n",
    "\n",
    "# Example\n",
    "# Recursion Example\n",
    "\n",
    "# def tri_recursion(k):\n",
    "#     if(k > 0):\n",
    "#         result = k + tri_recursion(k - 1)\n",
    "#         print(result)\n",
    "#     else:\n",
    "#         result = 0\n",
    "#     return result\n",
    "\n",
    "# print(\"\\n\\nRecursion Example Results\")\n",
    "# tri_recursion(6)\n",
    "\n",
    "# def test_tri_recursion(tested):\n",
    "#     if(tested > 0):\n",
    "#         myresult = tested + test_tri_recursion(tested - 1)\n",
    "#         print(myresult)\n",
    "#     else:\n",
    "#         myresult = 0\n",
    "#     return myresult\n",
    "\n",
    "# print(\"\\n\\nRecursion Tested Results All\")\n",
    "# test_tri_recursion(11)\n",
    "\n",
    "# def tested_tri_meaning(a):\n",
    "#     if (a > 0):\n",
    "#         thisresult = a + tested_tri_meaning(a - 9)\n",
    "#         print(thisresult)\n",
    "#     else:\n",
    "#         thisresult = 0\n",
    "#     return thisresult\n",
    "\n",
    "# tested_tri_meaning(6)\n",
    "\n",
    "# def this_will_be_func_recursion(t):\n",
    "#     if(t > 0):\n",
    "#         results = t + this_will_be_func_recursion(t - 9)\n",
    "#         print(results)\n",
    "#     else: \n",
    "#         results = 30\n",
    "#     return results\n",
    "\n",
    "# this_will_be_func_recursion(9)\n",
    "\n",
    "\n",
    "def will_be_use_parameter(useparam_new):\n",
    "    if (useparam_new == 0):\n",
    "        var_use = useparam_new + will_be_use_parameter(useparam_new - 5)\n",
    "        print(var_use)\n",
    "    else:\n",
    "        var_use = 10\n",
    "    return var_use\n",
    "\n",
    "will_be_use_parameter(5)"
   ]
  },
  {
   "cell_type": "code",
   "execution_count": 97,
   "metadata": {},
   "outputs": [
    {
     "name": "stdout",
     "output_type": "stream",
     "text": [
      "True\n",
      "False\n"
     ]
    }
   ],
   "source": [
    "def genap(x):\n",
    "     if x == 0:\n",
    "         return True\n",
    "     else:\n",
    "         return ganjil(x-1)\n",
    "     \n",
    "def ganjil(x):\n",
    "     return not genap(x)\n",
    "\n",
    "print(ganjil(17))\n",
    "print(genap(23))\n",
    "\n",
    "# genap(1)\n",
    "\n",
    "# ganjil(4)"
   ]
  },
  {
   "cell_type": "code",
   "execution_count": 107,
   "metadata": {},
   "outputs": [
    {
     "name": "stdout",
     "output_type": "stream",
     "text": [
      "more add chicken wings and french fries\n",
      "more add salad and french fries\n",
      "more add kebab turkey and french fries\n",
      "more add chicken afrika and french fries\n",
      "more add add ice tea drink , sunday cream and french fries\n"
     ]
    }
   ],
   "source": [
    "def multiple_foods(add_food):\n",
    "    print(\"more add \" + add_food + \" and french fries\")\n",
    "\n",
    "multiple_foods(\"chicken wings\")\n",
    "multiple_foods(\"salad\")\n",
    "multiple_foods(\"kebab turkey\")\n",
    "multiple_foods(\"chicken afrika\")\n",
    "multiple_foods(\"add ice tea drink , sunday cream\")"
   ]
  },
  {
   "cell_type": "code",
   "execution_count": 1,
   "metadata": {},
   "outputs": [
    {
     "ename": "KeyError",
     "evalue": "'age'",
     "output_type": "error",
     "traceback": [
      "\u001b[1;31m---------------------------------------------------------------------------\u001b[0m",
      "\u001b[1;31mKeyError\u001b[0m                                  Traceback (most recent call last)",
      "\u001b[1;32mc:\\Users\\1846\\Documents\\crash-course\\W3School\\w3.ipynb Cell 197\u001b[0m line \u001b[0;36m2\n\u001b[0;32m      <a href='vscode-notebook-cell:/c%3A/Users/1846/Documents/crash-course/W3School/w3.ipynb#Y400sZmlsZQ%3D%3D?line=0'>1</a>\u001b[0m dict1 \u001b[39m=\u001b[39m {\u001b[39m\"\u001b[39m\u001b[39mname:\u001b[39m\u001b[39m\"\u001b[39m : \u001b[39m\"\u001b[39m\u001b[39mmike\u001b[39m\u001b[39m\"\u001b[39m, \u001b[39m\"\u001b[39m\u001b[39msalary\u001b[39m\u001b[39m\"\u001b[39m : \u001b[39m8000\u001b[39m}\n\u001b[1;32m----> <a href='vscode-notebook-cell:/c%3A/Users/1846/Documents/crash-course/W3School/w3.ipynb#Y400sZmlsZQ%3D%3D?line=1'>2</a>\u001b[0m temp \u001b[39m=\u001b[39m dict1\u001b[39m.\u001b[39;49mpop(\u001b[39m\"\u001b[39;49m\u001b[39mage\u001b[39;49m\u001b[39m\"\u001b[39;49m)\n\u001b[0;32m      <a href='vscode-notebook-cell:/c%3A/Users/1846/Documents/crash-course/W3School/w3.ipynb#Y400sZmlsZQ%3D%3D?line=3'>4</a>\u001b[0m \u001b[39mprint\u001b[39m(temp)\n",
      "\u001b[1;31mKeyError\u001b[0m: 'age'"
     ]
    }
   ],
   "source": [
    "dict1 = {\"name:\" : \"mike\", \"salary\" : 8000}\n",
    "temp = dict1.pop(\"age\")\n",
    "\n",
    "print(temp)"
   ]
  },
  {
   "cell_type": "code",
   "execution_count": 125,
   "metadata": {},
   "outputs": [
    {
     "name": "stdout",
     "output_type": "stream",
     "text": [
      "True\n",
      "{'key1': 1, 'key2': 2} {'key2': 2, 'key1': 1} {'key1': 1, 'key2': 2}\n",
      "{'key1': 1, 'key2': 2}\n"
     ]
    }
   ],
   "source": [
    "dict1 = {\"key1\" : 1, \"key2\" : 2}\n",
    "dict2 = {\"key2\" : 2 , \"key1\" : 1}\n",
    "\n",
    "print(dict1 == dict2)\n",
    "\n",
    "dict3 = dict1.copy()\n",
    "dict4 = dict(dict1)\n",
    "print(dict1, dict2, dict3)\n",
    "print(dict4)\n"
   ]
  },
  {
   "cell_type": "code",
   "execution_count": 1,
   "metadata": {},
   "outputs": [
    {
     "name": "stdout",
     "output_type": "stream",
     "text": [
      "75 75\n"
     ]
    }
   ],
   "source": [
    "students = {\n",
    "    \"name\" : \"Emma\",\n",
    "    \"class\" : 9,\n",
    "    \"marks\" : 75\n",
    "}\n",
    "\n",
    "# students.pop(\"marks\")\n",
    "# del students [\"marks\"]\n",
    "# students.remove(\"marks\")\n",
    "# print(students)\n",
    "\n",
    "s1 = students.get(\"marks\")\n",
    "s2 = students['marks']\n",
    "# s = students.get(2)\n",
    "print(s1,s2)"
   ]
  },
  {
   "cell_type": "code",
   "execution_count": 114,
   "metadata": {},
   "outputs": [
    {
     "data": {
      "text/plain": [
       "80"
      ]
     },
     "execution_count": 114,
     "metadata": {},
     "output_type": "execute_result"
    }
   ],
   "source": [
    "sampleDict = {\n",
    "    \"class\" : {\n",
    "        \"student\" : {\n",
    "            \"name\" : \"Mike\",\n",
    "            \"marks\":{\n",
    "                \"physics\" : 70,\n",
    "                \"history\" : 80\n",
    "            }\n",
    "        }\n",
    "    }\n",
    "}\n",
    "\n",
    "sampleDict[\"class\"][\"student\"][\"marks\"][\"history\"]"
   ]
  },
  {
   "cell_type": "code",
   "execution_count": 128,
   "metadata": {},
   "outputs": [],
   "source": [
    "sampledict = dict()\n",
    "\n",
    "sampledict={}"
   ]
  },
  {
   "cell_type": "code",
   "execution_count": 131,
   "metadata": {},
   "outputs": [
    {
     "name": "stdout",
     "output_type": "stream",
     "text": [
      "{'first :': 1}\n"
     ]
    }
   ],
   "source": [
    "sampleDict= dict ({\n",
    "    (\"first :\", 1),\n",
    "\n",
    "})\n",
    "\n",
    "print(sampleDict)"
   ]
  },
  {
   "cell_type": "markdown",
   "metadata": {},
   "source": [
    "#### Python Classes and Objects\n",
    "Python is an object oriented programming language.\n",
    "\n",
    "Almost everything in Python is an object, with its properties and methods.\n",
    "\n",
    "A Class is like an object constructor, or a \"blueprint\" for creating objects.\n",
    "\n"
   ]
  },
  {
   "cell_type": "code",
   "execution_count": 2,
   "metadata": {},
   "outputs": [],
   "source": [
    "# Create a Class\n",
    "\n",
    "# Example\n",
    "\n",
    "class MyClass:\n",
    "    x = 5"
   ]
  },
  {
   "cell_type": "code",
   "execution_count": 3,
   "metadata": {},
   "outputs": [
    {
     "name": "stdout",
     "output_type": "stream",
     "text": [
      "5\n"
     ]
    }
   ],
   "source": [
    "# Create a Object \n",
    "\n",
    "# Example\n",
    "\n",
    "p1 = MyClass()\n",
    "print(p1.x)"
   ]
  },
  {
   "cell_type": "markdown",
   "metadata": {},
   "source": [
    "##### The __init__() Function\n",
    "\n",
    "The examples above are classes and objects in their simplest form, and are not really useful in real life applications.\n",
    "\n",
    "To understand the meaning of classes we have to understand the built-in __init__() function.\n",
    "\n",
    "All classes have a function called __init__(), which is always executed when the class is being initiated.\n",
    "\n",
    "Use the __init__() function to assign values to object properties, or other operations that are necessary to do when the object is being created:"
   ]
  },
  {
   "cell_type": "code",
   "execution_count": 5,
   "metadata": {},
   "outputs": [
    {
     "name": "stdout",
     "output_type": "stream",
     "text": [
      "John\n",
      "36\n"
     ]
    }
   ],
   "source": [
    "# The __init__() Function\n",
    "\n",
    "# Example\n",
    "\n",
    "class Person:\n",
    "    def __init__(self, name, age):\n",
    "        self.name   = name\n",
    "        self.age =  age\n",
    "\n",
    "p1 = Person(\"John\", 36)\n",
    "\n",
    "print(p1.name)\n",
    "print(p1.age)\n",
    "\n",
    "# Note: The __init__() function is called automatically every time the class is being used to create a new object."
   ]
  },
  {
   "cell_type": "code",
   "execution_count": 18,
   "metadata": {},
   "outputs": [
    {
     "name": "stdout",
     "output_type": "stream",
     "text": [
      "John(36)\n"
     ]
    }
   ],
   "source": [
    "# The __str__() Function\n",
    "\n",
    "# The __str__() function controls what should be returned when the class object is represented as a string.\n",
    "\n",
    "# If the __str__() function is not set, the string representation of the object is returned:\n",
    "\n",
    "# class Person:\n",
    "#     def __init__(self, name, age) :\n",
    "#         self.name = name\n",
    "#         self.age = age\n",
    "\n",
    "# p1 = Person(\"John\", 36)\n",
    "# print(p1)\n",
    "\n",
    "\n",
    "class Person:\n",
    "    def __init__(self, name, age) :\n",
    "        self.name = name\n",
    "        self.age = age\n",
    "\n",
    "    def __str__(self) :\n",
    "        return f\"{self.name}({self.age})\"\n",
    "\n",
    "p1 = Person(\"John\", 36)\n",
    "print(p1)"
   ]
  },
  {
   "cell_type": "markdown",
   "metadata": {},
   "source": [
    "##### Objects Methods\n",
    "Objects can also contain methods. Methods in objects are functions that belong to the object.\n",
    "\n",
    "Let us create a method in the Person class:"
   ]
  },
  {
   "cell_type": "code",
   "execution_count": 24,
   "metadata": {},
   "outputs": [
    {
     "name": "stdout",
     "output_type": "stream",
     "text": [
      "Hello my name is John\n"
     ]
    }
   ],
   "source": [
    "class Person:\n",
    "    def __init__(self, name, age):\n",
    "     self.name = name\n",
    "     self.age = age\n",
    "\n",
    "    def myfunc(self):\n",
    "       print(\"Hello my name is \" + self.name)\n",
    "\n",
    "p1 = Person(\"John\", 36)\n",
    "p1.myfunc()"
   ]
  },
  {
   "cell_type": "code",
   "execution_count": 28,
   "metadata": {},
   "outputs": [
    {
     "name": "stdout",
     "output_type": "stream",
     "text": [
      "Hello my name is John\n"
     ]
    }
   ],
   "source": [
    "# Example\n",
    "# Use the words mysillyobject and abc instead of self:\n",
    "\n",
    "class Person :\n",
    "    def __init__(mysillyobject, name, age) -> None:\n",
    "        mysillyobject.name = name\n",
    "        mysillyobject.age = age\n",
    "\n",
    "    def myfunc(abc):\n",
    "        print(\"Hello my name is \" + abc.name)\n",
    "\n",
    "p1 = Person(\"John\", 36)\n",
    "p1.age = 40\n",
    "p1.myfunc()"
   ]
  },
  {
   "cell_type": "code",
   "execution_count": 30,
   "metadata": {},
   "outputs": [
    {
     "ename": "SyntaxError",
     "evalue": "cannot delete function call (764437900.py, line 4)",
     "output_type": "error",
     "traceback": [
      "\u001b[1;36m  Cell \u001b[1;32mIn[30], line 4\u001b[1;36m\u001b[0m\n\u001b[1;33m    del p1.age()\u001b[0m\n\u001b[1;37m        ^\u001b[0m\n\u001b[1;31mSyntaxError\u001b[0m\u001b[1;31m:\u001b[0m cannot delete function call\n"
     ]
    }
   ],
   "source": [
    "# Deleted Object Properties\n",
    "# You can deleted properties on objects by using the del keyword\n",
    "\n",
    "# del p1.age()"
   ]
  },
  {
   "cell_type": "markdown",
   "metadata": {},
   "source": [
    "##### The pass Statement"
   ]
  },
  {
   "cell_type": "code",
   "execution_count": 44,
   "metadata": {},
   "outputs": [],
   "source": [
    "class Person:\n",
    "    pass"
   ]
  },
  {
   "cell_type": "code",
   "execution_count": 46,
   "metadata": {},
   "outputs": [
    {
     "name": "stdout",
     "output_type": "stream",
     "text": [
      "Mike Olsen\n"
     ]
    }
   ],
   "source": [
    "# Create a Child Class\n",
    "# To create a class that inherits the functionality from another class, send the parent class as a parameter when creating the child class:\n",
    "\n",
    "class Person:\n",
    "  def __init__(self, fname, lname):\n",
    "    self.firstname = fname\n",
    "    self.lastname = lname\n",
    "\n",
    "  def printname(self):\n",
    "    print(self.firstname, self.lastname)\n",
    "\n",
    "class Student(Person):\n",
    "  pass\n",
    "\n",
    "x = Student(\"Mike\", \"Olsen\")\n",
    "x.printname()\n"
   ]
  },
  {
   "cell_type": "code",
   "execution_count": null,
   "metadata": {},
   "outputs": [],
   "source": []
  },
  {
   "cell_type": "markdown",
   "metadata": {},
   "source": [
    "### MineXample"
   ]
  },
  {
   "cell_type": "code",
   "execution_count": 92,
   "metadata": {},
   "outputs": [],
   "source": [
    "# Calculator Program\n",
    "\n",
    "def add(num1, num2):\n",
    "    addnumber= num1 + num2\n",
    "    # print(addnumber)\n",
    "    return num1 + num2\n",
    "    # return addnumber\n",
    "\n",
    "def subtraction(num1, num2):\n",
    "    subtractnumber= num1 - num2\n",
    "    # print(subtractnumber)\n",
    "    return num1 - num2\n",
    "    # return subtractnumber\n",
    "\n",
    "def multiply(num1,num2):\n",
    "    multiplynumber= num1 * num2\n",
    "    # print(multiplynumber)\n",
    "    return num1 * num2\n",
    "    # return multiplynumber\n",
    "\n",
    "def divide(num1,num2):\n",
    "    dividenumber= num1 / num2\n",
    "    # print(dividenumber)\n",
    "    return num1 / num2\n",
    "    # return dividenumber"
   ]
  },
  {
   "cell_type": "code",
   "execution_count": 95,
   "metadata": {},
   "outputs": [
    {
     "name": "stdout",
     "output_type": "stream",
     "text": [
      "150 + 50 = 200\n"
     ]
    }
   ],
   "source": [
    "# print(\"Please select operation -\\n\" \\\n",
    "#         \"1. Add\\n\" \\\n",
    "#         \"2. Subtract\\n\" \\\n",
    "#         \"3. Multiply\\n\" \\\n",
    "#         \"4. Divide\\n\")\n",
    "\n",
    "# Take input\n",
    "\n",
    "selectoperation= 1\n",
    "number_1 = 150\n",
    "number_2 = 50\n",
    "\n",
    "if selectoperation == 1:\n",
    "    print(number_1, \"+\", number_2, \"=\", add(number_1, number_2))\n",
    "elif selectoperation == 2:\n",
    "    print(number_1, \"-\", number_2, \"=\", subtraction(number_1, number_2))\n",
    "elif selectoperation == 3:\n",
    "    print(number_1, \"*\", number_2, \"=\", multiply(number_1, number_2)) \n",
    "elif selectoperation == 4:\n",
    "    print(number_1, \"/\", number_2, \"=\", divide(number_1, number_2)) \n",
    "else:\n",
    "    print(\"Invalid Input\")"
   ]
  },
  {
   "cell_type": "code",
   "execution_count": 77,
   "metadata": {},
   "outputs": [
    {
     "name": "stdout",
     "output_type": "stream",
     "text": [
      "42\n",
      "hello\n",
      "[1, 2, 3]\n"
     ]
    }
   ],
   "source": [
    "def get_value():\n",
    "    yield 42\n",
    "    yield \"hello\"\n",
    "    yield [1, 2, 3]\n",
    "\n",
    "# Test code\n",
    "result = get_value() # This called Variable and pick up paramater function to get result\n",
    "\n",
    "# This code for final result from yield \n",
    "print(next(result))\n",
    "print(next(result))\n",
    "print(next(result))\n",
    "\n",
    "# # This code for check type\n",
    "# print(type(next(result)))\n",
    "# print(type(next(result)))\n",
    "# print(type(next(result)))"
   ]
  },
  {
   "cell_type": "code",
   "execution_count": 48,
   "metadata": {},
   "outputs": [
    {
     "name": "stdout",
     "output_type": "stream",
     "text": [
      "[60, 77, 80, 100]\n"
     ]
    }
   ],
   "source": [
    "def reverse_buatsendiri(list_ygmasuk,status):\n",
    "    if status:\n",
    "        return list_ygmasuk[::-1]\n",
    "    # if status is False:\n",
    "    return list_ygmasuk\n",
    "list123 = [100,80,77,60]\n",
    "print(reverse_buatsendiri(list123,status=True))"
   ]
  },
  {
   "cell_type": "code",
   "execution_count": 11,
   "metadata": {},
   "outputs": [
    {
     "name": "stdout",
     "output_type": "stream",
     "text": [
      "[4, 3, 2, 1]\n"
     ]
    }
   ],
   "source": [
    "def myreverse(listrev, status= True):\n",
    "    if status:\n",
    "        return listrev[::-1]\n",
    "    return listrev\n",
    "listnum = [1,2,3,4]\n",
    "print(myreverse(listnum,status= True))\n"
   ]
  },
  {
   "cell_type": "code",
   "execution_count": null,
   "metadata": {},
   "outputs": [],
   "source": []
  },
  {
   "cell_type": "code",
   "execution_count": 54,
   "metadata": {},
   "outputs": [],
   "source": [
    "# Create simple calculator code using python\n",
    "\n",
    "def add(num_one, num_two):\n",
    "    return num_one + num_two\n",
    "\n",
    "def subtraction(num_one, num_two):\n",
    "    return num_one - num_two\n",
    "\n",
    "def multiply (num_one, num_two):\n",
    "    return num_one * num_two\n",
    "\n",
    "def dividen (num_one, num_two):\n",
    "    return num_one / num_two"
   ]
  },
  {
   "cell_type": "code",
   "execution_count": 63,
   "metadata": {},
   "outputs": [
    {
     "name": "stdout",
     "output_type": "stream",
     "text": [
      "10 * 20 = 200\n"
     ]
    }
   ],
   "source": [
    "# If u want select this operator, change select to number \n",
    "# 1. For Add\n",
    "# 2. For Subtraction\n",
    "# 3. For Multiply\n",
    "# 4. For Divide\n",
    "\n",
    "select = 3\n",
    "number1 = 10\n",
    "number2 = 20\n",
    "\n",
    "if select == 1:\n",
    "    print(number1, \"+\" ,number2, \"=\", add(number1, number2))\n",
    "elif select == 2:\n",
    "    print(number1, \"-\", number2, \"=\", subtraction(number1, number2))\n",
    "elif select == 3:\n",
    "    print(number1, \"*\", number2, \"=\", multiply(number1, number2))\n",
    "elif select == 4:\n",
    "    print(number1, \"/\", number2, \"=\", dividen(number1, number2))\n",
    "else:\n",
    "    print(\"invalid select\")\n",
    "\n"
   ]
  },
  {
   "cell_type": "code",
   "execution_count": 62,
   "metadata": {},
   "outputs": [
    {
     "name": "stdout",
     "output_type": "stream",
     "text": [
      "5\n"
     ]
    }
   ],
   "source": [
    "# li=[\"test\", \"one\"]\n",
    "# tu= (\"test\",)\n",
    "# set= {\"one\",\"set\"}\n",
    "# dict= {\"One\" : \"Two\"}\n",
    "\n",
    "# print(type(li))\n",
    "\n",
    "# print(type(tu))\n",
    "\n",
    "# print(type(set))\n",
    "\n",
    "# print(type(dict))\n",
    "\n",
    "x = int(5)\n",
    "print(x)"
   ]
  }
 ],
 "metadata": {
  "kernelspec": {
   "display_name": "base",
   "language": "python",
   "name": "python3"
  },
  "language_info": {
   "codemirror_mode": {
    "name": "ipython",
    "version": 3
   },
   "file_extension": ".py",
   "mimetype": "text/x-python",
   "name": "python",
   "nbconvert_exporter": "python",
   "pygments_lexer": "ipython3",
   "version": "3.11.3"
  },
  "orig_nbformat": 4
 },
 "nbformat": 4,
 "nbformat_minor": 2
}
