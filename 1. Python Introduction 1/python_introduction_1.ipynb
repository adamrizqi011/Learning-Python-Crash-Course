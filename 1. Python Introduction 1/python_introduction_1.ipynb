{
 "cells": [
  {
   "cell_type": "markdown",
   "metadata": {},
   "source": [
    "# What is Python?"
   ]
  },
  {
   "cell_type": "markdown",
   "metadata": {},
   "source": [
    "source : https://www.w3schools.com/python/python_intro.asp"
   ]
  },
  {
   "cell_type": "markdown",
   "metadata": {},
   "source": [
    "Python is a popular programming language. It was created by Guido van Rossum, and released in 1991.\n",
    "\n",
    "It is used for:\n",
    "\n",
    "- web development (server-side),\n",
    "- software development,\n",
    "- mathematics,\n",
    "- system scripting."
   ]
  },
  {
   "cell_type": "markdown",
   "metadata": {},
   "source": [
    "## What can Python do?"
   ]
  },
  {
   "cell_type": "markdown",
   "metadata": {},
   "source": [
    "- Python can be used on a server to create web applications.\n",
    "- Python can be used alongside software to create workflows.\n",
    "- Python can connect to database systems. It can also read and modify files.\n",
    "- Python can be used to handle big data and perform complex mathematics.\n",
    "- Python can be used for rapid prototyping, or for production-ready software development."
   ]
  },
  {
   "cell_type": "markdown",
   "metadata": {},
   "source": [
    "## Why Python?"
   ]
  },
  {
   "cell_type": "markdown",
   "metadata": {},
   "source": [
    "- Python works on different platforms (Windows, Mac, Linux, Raspberry Pi, etc).\n",
    "- Python has a simple syntax similar to the English language.\n",
    "- Python has syntax that allows developers to write programs with fewer lines than some other programming languages.\n",
    "- Python runs on an interpreter system, meaning that code can be executed as soon as it is written. This means that prototyping can - be very quick.\n",
    "- Python can be treated in a procedural way, an object-oriented way or a functional way."
   ]
  },
  {
   "cell_type": "markdown",
   "metadata": {},
   "source": [
    "## Python Syntax compared to other programming languages"
   ]
  },
  {
   "cell_type": "markdown",
   "metadata": {},
   "source": [
    "- Python was designed for readability, and has some similarities to the English language with influence from mathematics.\n",
    "- Python uses new lines to complete a command, as opposed to other programming languages which often use semicolons or parentheses.\n",
    "- Python relies on indentation, using whitespace, to define scope; such as the scope of loops, functions and classes. Other programming languages often use curly-brackets for this purpose."
   ]
  },
  {
   "cell_type": "markdown",
   "metadata": {},
   "source": [
    "# Introduction"
   ]
  },
  {
   "cell_type": "markdown",
   "metadata": {},
   "source": [
    "In jupyter notebook format <mark>**(.ipynb)**</mark> run python script by clicking triangle button on the left side of the block. Another method is to use shortcut such as pressing **CTRL (or Command for Mac) + ENTER**"
   ]
  },
  {
   "cell_type": "code",
   "execution_count": 1,
   "metadata": {},
   "outputs": [
    {
     "name": "stdout",
     "output_type": "stream",
     "text": [
      "Hello, World!\n"
     ]
    }
   ],
   "source": [
    "print(\"Hello, World!\")"
   ]
  },
  {
   "cell_type": "markdown",
   "metadata": {},
   "source": [
    "To run python script with <mark>**.py**</mark> extension, open terminal and enter this command **\"python script_name.py\"**. If you have python 3, the command can also be written like this **\"python3 script_nane.py\"**\n",
    "\n",
    "Open terminal and try run the \"python_introduction.py\" script"
   ]
  },
  {
   "cell_type": "markdown",
   "metadata": {},
   "source": [
    "## Printing"
   ]
  },
  {
   "cell_type": "markdown",
   "metadata": {},
   "source": [
    "Use syntax ```print()``` to display some variable in terminal"
   ]
  },
  {
   "cell_type": "code",
   "execution_count": 2,
   "metadata": {},
   "outputs": [
    {
     "name": "stdout",
     "output_type": "stream",
     "text": [
      "Hello, World!\n"
     ]
    }
   ],
   "source": [
    "print(\"Hello, World!\")"
   ]
  },
  {
   "cell_type": "markdown",
   "metadata": {},
   "source": [
    "In jupyter notebook, you can just write the variable to print it"
   ]
  },
  {
   "cell_type": "code",
   "execution_count": 3,
   "metadata": {},
   "outputs": [
    {
     "data": {
      "text/plain": [
       "'Hello, World!'"
      ]
     },
     "execution_count": 3,
     "metadata": {},
     "output_type": "execute_result"
    }
   ],
   "source": [
    "\"Hello, World!\""
   ]
  },
  {
   "cell_type": "markdown",
   "metadata": {},
   "source": [
    "Be careful, you can't print multiple variable with just writing it. Else, you will only print the last variable"
   ]
  },
  {
   "cell_type": "code",
   "execution_count": 4,
   "metadata": {},
   "outputs": [
    {
     "data": {
      "text/plain": [
       "'Hello, World!'"
      ]
     },
     "execution_count": 4,
     "metadata": {},
     "output_type": "execute_result"
    }
   ],
   "source": [
    "\"Hello, World!\"\n",
    "\"Hello, World!\""
   ]
  },
  {
   "cell_type": "markdown",
   "metadata": {},
   "source": [
    "Alternatively, you can use ```display()```, this work like writing the variable"
   ]
  },
  {
   "cell_type": "code",
   "execution_count": 6,
   "metadata": {},
   "outputs": [
    {
     "data": {
      "text/plain": [
       "'Hello, World!'"
      ]
     },
     "metadata": {},
     "output_type": "display_data"
    },
    {
     "data": {
      "text/plain": [
       "'Hello, World!'"
      ]
     },
     "metadata": {},
     "output_type": "display_data"
    },
    {
     "data": {
      "text/plain": [
       "'Test'"
      ]
     },
     "metadata": {},
     "output_type": "display_data"
    }
   ],
   "source": [
    "display(\"Hello, World!\")\n",
    "display(\"Hello, World!\")\n",
    "\n",
    "# Me\n",
    "\n",
    "display(\"Test\")"
   ]
  },
  {
   "cell_type": "markdown",
   "metadata": {},
   "source": [
    "## Comment"
   ]
  },
  {
   "cell_type": "markdown",
   "metadata": {},
   "source": [
    "Comments starts with a #, and Python will ignore them"
   ]
  },
  {
   "cell_type": "code",
   "execution_count": 7,
   "metadata": {},
   "outputs": [
    {
     "name": "stdout",
     "output_type": "stream",
     "text": [
      "Hello, World!\n"
     ]
    }
   ],
   "source": [
    "# This is a comment\n",
    "print(\"Hello, World!\")"
   ]
  },
  {
   "cell_type": "code",
   "execution_count": 8,
   "metadata": {},
   "outputs": [
    {
     "name": "stdout",
     "output_type": "stream",
     "text": [
      "Hello, World!\n"
     ]
    }
   ],
   "source": [
    "print(\"Hello, World!\") # This is a comment"
   ]
  },
  {
   "cell_type": "code",
   "execution_count": 9,
   "metadata": {},
   "outputs": [
    {
     "name": "stdout",
     "output_type": "stream",
     "text": [
      "Cheers, Mate!\n"
     ]
    }
   ],
   "source": [
    "# print(\"Hello, World!\")\n",
    "print(\"Cheers, Mate!\")"
   ]
  },
  {
   "cell_type": "markdown",
   "metadata": {},
   "source": [
    "Multiline comment"
   ]
  },
  {
   "cell_type": "code",
   "execution_count": 10,
   "metadata": {},
   "outputs": [
    {
     "name": "stdout",
     "output_type": "stream",
     "text": [
      "Hello, World!\n"
     ]
    }
   ],
   "source": [
    "# This is a comment\n",
    "# written in\n",
    "# more than just one line\n",
    "print(\"Hello, World!\")"
   ]
  },
  {
   "cell_type": "code",
   "execution_count": 11,
   "metadata": {},
   "outputs": [
    {
     "name": "stdout",
     "output_type": "stream",
     "text": [
      "Hello, World!\n"
     ]
    }
   ],
   "source": [
    "\"\"\"\n",
    "This is a comment\n",
    "written in\n",
    "more than just one line\n",
    "\"\"\"\n",
    "print(\"Hello, World!\")"
   ]
  },
  {
   "cell_type": "markdown",
   "metadata": {},
   "source": [
    "For shortcut you can press **CTRL + /**"
   ]
  },
  {
   "cell_type": "code",
   "execution_count": 12,
   "metadata": {},
   "outputs": [],
   "source": [
    "# Try to comment and uncomment\n",
    "# this line\n",
    "# with shortcout"
   ]
  },
  {
   "cell_type": "markdown",
   "metadata": {},
   "source": [
    "# Variables"
   ]
  },
  {
   "cell_type": "markdown",
   "metadata": {},
   "source": [
    "Python has no command for declaring a variable.\n",
    "A variable is created the moment you first assign a value to it."
   ]
  },
  {
   "cell_type": "code",
   "execution_count": 19,
   "metadata": {},
   "outputs": [
    {
     "name": "stdout",
     "output_type": "stream",
     "text": [
      "5\n",
      "John\n",
      "To\n",
      "Me\n"
     ]
    }
   ],
   "source": [
    "x = 5\n",
    "y = \"John\"\n",
    "print(x)\n",
    "print(y)\n",
    "\n",
    "# Me\n",
    "a = \"To\"\n",
    "y = \"Me\"\n",
    "print(a)\n",
    "print(y)"
   ]
  },
  {
   "cell_type": "markdown",
   "metadata": {},
   "source": [
    "Variables do not need to be declared with any particular type, and can even change type after they have been set."
   ]
  },
  {
   "cell_type": "code",
   "execution_count": 21,
   "metadata": {},
   "outputs": [
    {
     "name": "stdout",
     "output_type": "stream",
     "text": [
      "4\n",
      "Sally\n"
     ]
    }
   ],
   "source": [
    "x = 4       # x is of type int\n",
    "print(x)\n",
    "x = \"Sally\" # x is now of type str\n",
    "print(x)"
   ]
  },
  {
   "cell_type": "markdown",
   "metadata": {},
   "source": [
    "**Legal variable names :**\n",
    "\n",
    "```\n",
    "myvar = \"John\"\n",
    "my_var = \"John\"\n",
    "_my_var = \"John\"\n",
    "myVar = \"John\"\n",
    "MYVAR = \"John\"\n",
    "myvar2 = \"John\"\n",
    "```\n",
    "\n",
    "**Illegal variable names :**\n",
    "\n",
    "```\n",
    "2myvar = \"John\"\n",
    "my-var = \"John\"\n",
    "my var = \"John\"\n",
    "```"
   ]
  },
  {
   "cell_type": "markdown",
   "metadata": {},
   "source": [
    "**Multi Words Variable Names**\n",
    "\n",
    "- Camel Case\n",
    "```myVariableName = \"John\"```\n",
    "\n",
    "- Pascal Case\n",
    "```MyVariableName = \"John\"```\n",
    "\n",
    "- Snake Case (often used)\n",
    "```my_variable_name = \"John\"```"
   ]
  },
  {
   "cell_type": "code",
   "execution_count": 26,
   "metadata": {},
   "outputs": [
    {
     "name": "stdout",
     "output_type": "stream",
     "text": [
      "2\n",
      "adam\n",
      "oke\n",
      "John John John\n"
     ]
    }
   ],
   "source": [
    "# Legal Variable \n",
    "myvar= 2\n",
    "print(myvar)\n",
    "\n",
    "this_name= \"adam\"\n",
    "print(this_name)\n",
    "\n",
    "name2 = \"oke\"\n",
    "print(name2)\n",
    "\n",
    "# Multi Words Variable Names\n",
    "\n",
    "# Camel Case\n",
    "myVariableName = \"John\"\n",
    "# Pascasl Case\n",
    "MyVariableName=\"John\"\n",
    "# Snake Case\n",
    "my_variable_name=\"John\"\n",
    "\n",
    "print(myVariableName, MyVariableName, my_variable_name)"
   ]
  },
  {
   "cell_type": "markdown",
   "metadata": {},
   "source": [
    "# Data Types"
   ]
  },
  {
   "cell_type": "markdown",
   "metadata": {},
   "source": [
    "Python has the following data types built-in by default, in these categories:\n",
    "\n",
    "- Text Type         :   `str`\n",
    "- Numeric Types     :   `int`, `float`, `complex`\n",
    "- Sequence Types    :   `list`, `tuple`, `range`\n",
    "- Mapping Type      :   `dict`\n",
    "- Set Types         :   `set`, `frozenset`\n",
    "- Boolean Type      :   `bool`\n",
    "- Binary Types      :   `bytes`, `bytearray`, `memoryview`\n",
    "- None Type         :   `NoneType`\n",
    "\n",
    "To speed up learning process, we will only discuss `str`, `int`, `float`, `bool`"
   ]
  },
  {
   "cell_type": "markdown",
   "metadata": {},
   "source": [
    "### Checking variable data type"
   ]
  },
  {
   "cell_type": "code",
   "execution_count": 27,
   "metadata": {},
   "outputs": [
    {
     "name": "stdout",
     "output_type": "stream",
     "text": [
      "<class 'str'>\n"
     ]
    }
   ],
   "source": [
    "# Checking variable type\n",
    "var = \"Hello, World!\"\n",
    "print(type(var))"
   ]
  },
  {
   "cell_type": "markdown",
   "metadata": {},
   "source": [
    "### Data type examples"
   ]
  },
  {
   "cell_type": "code",
   "execution_count": 48,
   "metadata": {},
   "outputs": [],
   "source": [
    "# # This is string\n",
    "# var1 = \"Hello, World!\"\n",
    "# print(var1, type(var1))\n",
    "\n",
    "# # This is also string\n",
    "# var2 = 'Hello, World!'\n",
    "# print(var2, type(var2))\n",
    "\n",
    "# # This is integer\n",
    "# var3 = 7\n",
    "# print(var3, type(var3))\n",
    "\n",
    "# # This is float\n",
    "# var4 = 7.0\n",
    "# print(var4, type(var4))\n",
    "\n",
    "# This is list\n",
    "# var5 = [\"apple\", \"banana\", \"cherry\"]\n",
    "# print(var5, type(var5))\n",
    "# var55 = [\"manggo\", \"guava\", \"watermelon\"]\n",
    "# print(var55, type(var55))\n",
    "\n",
    "# # This is dictionary\n",
    "# var6 = {\"name\" : \"John\", \"age\" : 36}\n",
    "# print(var6, type(var6))\n",
    "\n",
    "# var66 = {\"name\" : \"Rizqi\",\"age\" : 21}\n",
    "# print(var66, type(var66))\n",
    "\n",
    "# # # This is boolean\n",
    "# var7, var8 = True, False\n",
    "# print(var7, type(var7))\n",
    "# print(var8, type(var8))\n",
    "\n",
    "# # This is NoneType\n",
    "# var9 = None\n",
    "# print(var9, type(var9))"
   ]
  },
  {
   "cell_type": "markdown",
   "metadata": {},
   "source": [
    "### Casting variable data type"
   ]
  },
  {
   "cell_type": "code",
   "execution_count": 62,
   "metadata": {},
   "outputs": [
    {
     "name": "stdout",
     "output_type": "stream",
     "text": [
      "7.7 <class 'str'>\n",
      "7.6 <class 'str'>\n",
      "7.7 <class 'float'>\n",
      "7.7 <class 'float'>\n",
      "7 <class 'int'>\n"
     ]
    }
   ],
   "source": [
    "# Casting data type\n",
    "var = '7.7'\n",
    "print(var, type(var))\n",
    "\n",
    "var1 = '7.6'\n",
    "print(var1, type(var))\n",
    "\n",
    "# Cast to float\n",
    "var1 = float(var)\n",
    "print(var1, type(var1))\n",
    "\n",
    "var= float(var)\n",
    "print(var, type(var))\n",
    "\n",
    "# Cast to integer\n",
    "var = int(var)\n",
    "print(var, type(var))"
   ]
  },
  {
   "cell_type": "markdown",
   "metadata": {},
   "source": [
    "# Common Data Operator"
   ]
  },
  {
   "cell_type": "markdown",
   "metadata": {},
   "source": [
    "## Numbers (int & float)"
   ]
  },
  {
   "cell_type": "markdown",
   "metadata": {},
   "source": [
    "### Arithmetic"
   ]
  },
  {
   "cell_type": "code",
   "execution_count": 16,
   "metadata": {},
   "outputs": [
    {
     "name": "stdout",
     "output_type": "stream",
     "text": [
      "Addition: a + b = 3\n",
      "Subtraction: a - b = -1.0\n",
      "Multiplication: a * b = 2\n",
      "Division: a / b = 0.5\n",
      "Exponentiation: a ** b = 1\n",
      "Assignment Addition: a + b = 12\n"
     ]
    }
   ],
   "source": [
    "# Addition\n",
    "a, b = 1, 2\n",
    "c = a + b\n",
    "print(\"Addition: a + b =\", c)\n",
    "\n",
    "# Subtraction\n",
    "a, b = 1, 2.\n",
    "c = a - b\n",
    "print(\"Subtraction: a - b =\", c)\n",
    "\n",
    "# Multiplication\n",
    "a, b = 1, 2\n",
    "c = a * b\n",
    "print(\"Multiplication: a * b =\", c)\n",
    "\n",
    "# Division\n",
    "a, b = 1, 2\n",
    "c = a / b\n",
    "print(\"Division: a / b =\", c)\n",
    "\n",
    "# Exponentiation\n",
    "a, b = 1, 2\n",
    "c = a ** b\n",
    "print(\"Exponentiation: a ** b =\", c)\n",
    "\n",
    "# Assignment Addition (equal to a+b)\n",
    "# also work with other operator\n",
    "a, b = 10, 2\n",
    "a += b\n",
    "print(\"Assignment Addition: a + b =\", a)"
   ]
  },
  {
   "cell_type": "markdown",
   "metadata": {},
   "source": [
    "### Comparison"
   ]
  },
  {
   "cell_type": "code",
   "execution_count": 25,
   "metadata": {},
   "outputs": [
    {
     "name": "stdout",
     "output_type": "stream",
     "text": [
      "a is equal b? False\n",
      "a is not equal b? True\n",
      "a is grater than b? False\n",
      "a is less than b? True\n",
      "a is greater than or equal to b? False\n",
      "a is less than or equal to b? True\n"
     ]
    }
   ],
   "source": [
    "# Equal\n",
    "a, b, = 1, 2\n",
    "c = a==b\n",
    "print(\"a is equal b?\", c)\n",
    "\n",
    "# Not equal\n",
    "a, b, = 1, 2\n",
    "c = a!=b\n",
    "print(\"a is not equal b?\", c)\n",
    "\n",
    "# Greater than\n",
    "a, b, = 1, 2\n",
    "c = a>b\n",
    "print(\"a is grater than b?\", c)\n",
    "\n",
    "# Less than\n",
    "a, b, = 1, 2\n",
    "c = a<b\n",
    "print(\"a is less than b?\", c)\n",
    "\n",
    "# Greater than or equal to\n",
    "a, b, = 1, 2\n",
    "c = a>=b\n",
    "print(\"a is greater than or equal to b?\", c)\n",
    "\n",
    "# Less than or equal to\n",
    "a, b, = 1, 2\n",
    "c = a<=b\n",
    "print(\"a is less than or equal to b?\", c)"
   ]
  },
  {
   "cell_type": "markdown",
   "metadata": {},
   "source": [
    "## Text (str)"
   ]
  },
  {
   "cell_type": "markdown",
   "metadata": {},
   "source": [
    "### Multiline"
   ]
  },
  {
   "cell_type": "code",
   "execution_count": null,
   "metadata": {},
   "outputs": [],
   "source": [
    "# Multiline string variable\n",
    "a = \"\"\"Lorem ipsum dolor sit amet,\n",
    "consectetur adipiscing elit,\n",
    "sed do eiusmod tempor incididunt\n",
    "ut labore et dolore magna aliqua.\"\"\"\n",
    "print(a)\n",
    "\n",
    "# Another multiline string variable\n",
    "a = '''Lorem ipsum dolor sit amet,\n",
    "consectetur adipiscing elit,\n",
    "sed do eiusmod tempor incididunt\n",
    "ut labore et dolore magna aliqua.'''\n",
    "print(a)"
   ]
  },
  {
   "cell_type": "markdown",
   "metadata": {},
   "source": [
    "### Combine"
   ]
  },
  {
   "cell_type": "code",
   "execution_count": 23,
   "metadata": {},
   "outputs": [
    {
     "name": "stdout",
     "output_type": "stream",
     "text": [
      "IniibuBudi\n",
      "Ini ibu Budi\n"
     ]
    }
   ],
   "source": [
    "# Create several str variable\n",
    "a, b, c = 'Ini', 'ibu', 'Budi'\n",
    "\n",
    "# Using '+'\n",
    "print(a + b + c)\n",
    "\n",
    "# Using join\n",
    "print(' '.join([a, b, c]))"
   ]
  },
  {
   "cell_type": "markdown",
   "metadata": {},
   "source": [
    "### Replace"
   ]
  },
  {
   "cell_type": "code",
   "execution_count": 28,
   "metadata": {},
   "outputs": [
    {
     "name": "stdout",
     "output_type": "stream",
     "text": [
      "Ini ibu Budi\n",
      "Ini ibu Desi\n"
     ]
    }
   ],
   "source": [
    "# Create several str variable\n",
    "a, b, c = 'Ini', 'ibu', 'Budi'\n",
    "d = ' '.join([a, b, c])\n",
    "print(d)\n",
    "\n",
    "# Replace 'Budi' with 'Desi'\n",
    "d = d.replace('Budi', 'Desi')\n",
    "print(d)"
   ]
  },
  {
   "cell_type": "markdown",
   "metadata": {},
   "source": [
    "## Boolean (bool)"
   ]
  },
  {
   "cell_type": "markdown",
   "metadata": {},
   "source": [
    "### Logical"
   ]
  },
  {
   "cell_type": "code",
   "execution_count": 11,
   "metadata": {},
   "outputs": [
    {
     "name": "stdout",
     "output_type": "stream",
     "text": [
      "a and b = False\n",
      "a and b = False\n",
      "a or b = True\n",
      "a or b = True\n",
      "not a = False\n",
      "not b = True\n"
     ]
    }
   ],
   "source": [
    "# And\n",
    "a, b = True, False\n",
    "c = a and b\n",
    "print('a and b =', c)\n",
    "\n",
    "# And (another way)\n",
    "a, b = True, False\n",
    "c = a & b\n",
    "print('a and b =', c)\n",
    "\n",
    "# Or\n",
    "a, b = True, False\n",
    "c = a or b\n",
    "print('a or b =', c)\n",
    "\n",
    "# Or (another way)\n",
    "a, b = True, False\n",
    "c = a | b\n",
    "print('a or b =', c)\n",
    "\n",
    "# Not\n",
    "a, b = True, False\n",
    "c, d = not a, not b\n",
    "print('not a =', c)\n",
    "print('not b =', d)"
   ]
  }
 ],
 "metadata": {
  "kernelspec": {
   "display_name": "base",
   "language": "python",
   "name": "python3"
  },
  "language_info": {
   "codemirror_mode": {
    "name": "ipython",
    "version": 3
   },
   "file_extension": ".py",
   "mimetype": "text/x-python",
   "name": "python",
   "nbconvert_exporter": "python",
   "pygments_lexer": "ipython3",
   "version": "3.11.3"
  },
  "orig_nbformat": 4
 },
 "nbformat": 4,
 "nbformat_minor": 2
}
