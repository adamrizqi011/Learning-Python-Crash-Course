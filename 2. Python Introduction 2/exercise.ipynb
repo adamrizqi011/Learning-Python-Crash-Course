{
 "cells": [
  {
   "cell_type": "markdown",
   "metadata": {},
   "source": [
    "# **TUGAS**\n",
    "\n",
    "Buatlah function dengan tujuan, input, dan output sesuai ketentuan berikut"
   ]
  },
  {
   "cell_type": "markdown",
   "metadata": {},
   "source": [
    "## 1. List angka berurutan (1)\n",
    "- Tujuan : membuat list angka dari 1 sampai n\n",
    "- Input :\n",
    "    1. banyaknya angka (n) di dalam list\n",
    "- Ouput : list dari angka 1 sampai n\n",
    "\n",
    "Contoh\n",
    "\n",
    "(1) n = 5\n",
    "```\n",
    "[1, 2, 3, 4, 5]\n",
    "```\n",
    "\n",
    "(2) n = 10\n",
    "```\n",
    "[1, 2, 3, 4, 5, 6, 7, 8, 9, 10]\n",
    "```"
   ]
  },
  {
   "cell_type": "code",
   "execution_count": 1,
   "metadata": {},
   "outputs": [],
   "source": [
    "def sequence_1(n:int):\n",
    "    result = []\n",
    "\n",
    "    for i in range(n):\n",
    "        \n",
    "        result.append(i+1)\n",
    "\n",
    "    return result"
   ]
  },
  {
   "cell_type": "code",
   "execution_count": 2,
   "metadata": {},
   "outputs": [
    {
     "name": "stdout",
     "output_type": "stream",
     "text": [
      "<class 'list'>\n",
      "[1, 2, 3, 4, 5]\n"
     ]
    }
   ],
   "source": [
    "n = 5\n",
    "result = sequence_1(n)\n",
    "\n",
    "print(type(result))\n",
    "print(result)"
   ]
  },
  {
   "cell_type": "markdown",
   "metadata": {},
   "source": [
    "## 2. List angka berurutan (2)\n",
    "- Tujuan : membuat list angka genap atau ganjil dari 1 sampai n\n",
    "- Input :\n",
    "    1. batas akhir bilangan terbesar di dalam list\n",
    "    2. ganjil atau genap\n",
    "- Ouput : list dari angka >= 1 sampai n yang ganjil atau genap\n",
    "\n",
    "Contoh\n",
    "\n",
    "(1) limit = 5, ganjil\n",
    "```\n",
    "[1, 3, 5]\n",
    "```\n",
    "\n",
    "(2) limit = 10, genap\n",
    "```\n",
    "[2, 4, 6, 8, 10]\n",
    "```"
   ]
  },
  {
   "cell_type": "code",
   "execution_count": 3,
   "metadata": {},
   "outputs": [],
   "source": [
    "def sequence_2(limit:int, even:bool):\n",
    "    result = []\n",
    "\n",
    "    for i in range(1, limit+1):\n",
    "        if even and i%2 == 0:\n",
    "            result.append(i)\n",
    "        elif not even and i%2 != 0:\n",
    "            result.append(i)\n",
    "    \n",
    "    return result"
   ]
  },
  {
   "cell_type": "code",
   "execution_count": 8,
   "metadata": {},
   "outputs": [
    {
     "name": "stdout",
     "output_type": "stream",
     "text": [
      "<class 'list'>\n",
      "[2, 4]\n"
     ]
    }
   ],
   "source": [
    "limit = 5\n",
    "even = True\n",
    "result = sequence_2(limit, even)\n",
    "\n",
    "print(type(result))\n",
    "print(result)"
   ]
  },
  {
   "cell_type": "markdown",
   "metadata": {},
   "source": [
    "## 3. Piramida bintang (1)\n",
    "- Tujuan : membuat piramida dengan memprint karakter bintang (*)\n",
    "- Input :\n",
    "   1. jumlah baris\n",
    "   2. alignment (kiri, kanan)\n",
    "- Output : None\n",
    "- Bonus : tambahkan spasi diantara karakter bintang (*)\n",
    "\n",
    "Contoh\n",
    "\n",
    "(1) jumlah baris = 3, alignment = kiri\n",
    "```\n",
    "*\n",
    "**\n",
    "***\n",
    "```\n",
    "\n",
    "(2) jumlah baris = 4, alignment = kanan\n",
    "```\n",
    "   *\n",
    "  **\n",
    " ***\n",
    "****\n",
    "```"
   ]
  },
  {
   "cell_type": "code",
   "execution_count": 25,
   "metadata": {},
   "outputs": [],
   "source": [
    "def pyramid_1(row:int, align:str):\n",
    "    for i in range(1, row+1):\n",
    "        if align == 'left':\n",
    "            print('*'*i)\n",
    "        elif align == 'right':\n",
    "            print(' '*(row-i) + '*'*i)\n",
    "\n",
    "def pyramid_1_space(row:int, align:str):\n",
    "    for i in range(1, row+1):\n",
    "        if align == 'left':\n",
    "            print('* '*i)\n",
    "        elif align == 'right':\n",
    "            max_col = (row*2)-1\n",
    "            elements = '* '*(i-1) + '*'\n",
    "            print(' '*(max_col-len(elements)) + elements)"
   ]
  },
  {
   "cell_type": "code",
   "execution_count": 24,
   "metadata": {},
   "outputs": [
    {
     "name": "stdout",
     "output_type": "stream",
     "text": [
      "* \n",
      "* * \n",
      "* * * \n"
     ]
    }
   ],
   "source": [
    "row = 3\n",
    "align = 'left'\n",
    "pyramid_1(row, align)"
   ]
  },
  {
   "cell_type": "code",
   "execution_count": 9,
   "metadata": {},
   "outputs": [],
   "source": [
    "def pyramid_1(row:int, align:str):\n",
    "    for i in range(1, row+1):\n",
    "        if align == 'left':\n",
    "            print('*'*i)\n",
    "        elif align == 'right':\n",
    "            print(' '*(row-i) + '*'*i)\n",
    "\n",
    "def pyramid_1_space(row:int, align:str):\n",
    "    for i in range(1, row+1):\n",
    "        if align == 'left':\n",
    "            print('* '*i)\n",
    "        elif align == 'right':\n",
    "            max_col = (row*2)-1\n",
    "            elements = '* '*(i-1) + '*'\n",
    "            print(' '*(max_col-len(elements)) + elements)"
   ]
  },
  {
   "cell_type": "code",
   "execution_count": 18,
   "metadata": {},
   "outputs": [
    {
     "name": "stdout",
     "output_type": "stream",
     "text": [
      "  *\n",
      " **\n",
      "***\n"
     ]
    }
   ],
   "source": [
    "row = 3\n",
    "align = 'right'\n",
    "pyramid_1(row, align)"
   ]
  },
  {
   "cell_type": "code",
   "execution_count": 21,
   "metadata": {},
   "outputs": [
    {
     "name": "stdout",
     "output_type": "stream",
     "text": [
      "      *\n",
      "    * *\n",
      "  * * *\n",
      "* * * *\n"
     ]
    }
   ],
   "source": [
    "row = 4\n",
    "align = 'right'\n",
    "pyramid_1_space(row, align)"
   ]
  },
  {
   "cell_type": "markdown",
   "metadata": {},
   "source": [
    "## 4. Piramida bintang (2)\n",
    "- Tujuan : membuat piramida rata tengah dengan memprint karakter bintang\n",
    "- Input :\n",
    "  1. jumlah baris\n",
    "- Output : None\n",
    "\n",
    "Contoh\n",
    "\n",
    "(1) jumlah baris = 3\n",
    "```\n",
    "  *\n",
    " ***\n",
    "*****\n",
    "```\n",
    "\n",
    "(2) jumlah baris = 4\n",
    "```\n",
    "   *\n",
    "  ***\n",
    " *****\n",
    "*******\n",
    "```"
   ]
  },
  {
   "cell_type": "code",
   "execution_count": 107,
   "metadata": {},
   "outputs": [],
   "source": [
    "def pyramid_3(row:int):\n",
    "    for i in range(1, row+1):\n",
    "        # initate row elements\n",
    "        elements = \"\"\n",
    "        \n",
    "        # tambah element di sisi kiri (rata kanan)\n",
    "        elements += ' '*(row-i) + '*'*+i\n",
    "\n",
    "        # tambah piramida kecil rata kiri\n",
    "        elements += \"*\"*(+i -1)\n",
    "\n",
    "        print(elements)"
   ]
  },
  {
   "cell_type": "code",
   "execution_count": 108,
   "metadata": {},
   "outputs": [
    {
     "name": "stdout",
     "output_type": "stream",
     "text": [
      "    *\n",
      "   ***\n",
      "  *****\n",
      " *******\n",
      "*********\n"
     ]
    }
   ],
   "source": [
    "row = 5\n",
    "pyramid_3(row)"
   ]
  },
  {
   "cell_type": "code",
   "execution_count": 32,
   "metadata": {},
   "outputs": [],
   "source": [
    "def pyramid_2(row:int):\n",
    "    for i in range(1, row+1):\n",
    "        # initate row elements\n",
    "        elements = ''\n",
    "\n",
    "        # tambah element di sisi kiri (rata kanan)\n",
    "        elements += ' '*(row-i) + '*'*i \n",
    "\n",
    "        # tambah piramida kecil rata kiri\n",
    "        elements += '*'*(i-1)\n",
    "        \n",
    "        print(elements)"
   ]
  },
  {
   "cell_type": "code",
   "execution_count": 33,
   "metadata": {},
   "outputs": [
    {
     "name": "stdout",
     "output_type": "stream",
     "text": [
      "  *\n",
      " ***\n",
      "*****\n"
     ]
    }
   ],
   "source": [
    "row = 3\n",
    "pyramid_2(row)"
   ]
  },
  {
   "cell_type": "markdown",
   "metadata": {},
   "source": [
    "## 5. List angka berpola\n",
    "- Tujuan : membuat list angka sesuai dengan pola dengan n item di dalam list\n",
    "- Input :\n",
    "    1. banyaknya angka (n) di dalam list\n",
    "- Ouput : list angka berpola dengan n item di dalam list\n",
    "- **pola harus sama dengan yang tertulis di contoh**\n",
    "\n",
    "Contoh\n",
    "\n",
    "(1) n = 5\n",
    "```\n",
    "[2, -3, 10, -15, 26]\n",
    "```\n",
    "\n",
    "**Pola** : angka ke n adalah n kuadrat dikali 1 jika ganjil atau -1 jika genap lalu ditambah 1"
   ]
  },
  {
   "cell_type": "code",
   "execution_count": 109,
   "metadata": {},
   "outputs": [],
   "source": [
    "def pattern(n:int):\n",
    "    result = []\n",
    "\n",
    "    for i in range(1, n+1):\n",
    "        number = i**2\n",
    "        if i%2 == 0:\n",
    "            number = -number\n",
    "        number += 1\n",
    "        result.append(number)\n",
    "\n",
    "    return result"
   ]
  },
  {
   "cell_type": "code",
   "execution_count": 110,
   "metadata": {},
   "outputs": [
    {
     "name": "stdout",
     "output_type": "stream",
     "text": [
      "<class 'list'>\n",
      "[2, -3]\n"
     ]
    }
   ],
   "source": [
    "n = 2\n",
    "result = pattern(n)\n",
    "\n",
    "print(type(result))\n",
    "print(result)"
   ]
  }
 ],
 "metadata": {
  "kernelspec": {
   "display_name": "base",
   "language": "python",
   "name": "python3"
  },
  "language_info": {
   "codemirror_mode": {
    "name": "ipython",
    "version": 3
   },
   "file_extension": ".py",
   "mimetype": "text/x-python",
   "name": "python",
   "nbconvert_exporter": "python",
   "pygments_lexer": "ipython3",
   "version": "3.11.3"
  },
  "orig_nbformat": 4
 },
 "nbformat": 4,
 "nbformat_minor": 2
}
