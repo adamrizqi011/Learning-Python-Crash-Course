{
 "cells": [
  {
   "cell_type": "markdown",
   "metadata": {},
   "source": [
    "# Condition (if, elif, else)"
   ]
  },
  {
   "cell_type": "markdown",
   "metadata": {},
   "source": [
    "## Normal usage"
   ]
  },
  {
   "cell_type": "code",
   "execution_count": 6,
   "metadata": {},
   "outputs": [
    {
     "name": "stdout",
     "output_type": "stream",
     "text": [
      "a is grater than b\n"
     ]
    }
   ],
   "source": [
    "# Sample variable\n",
    "a, b = 5, 10\n",
    "\n",
    "# Make if-elif-else condition\n",
    "if a > b:\n",
    "    print('a is less than b')\n",
    "elif a == b:\n",
    "    print('a is equal to b')\n",
    "else:\n",
    "    print('a is grater than b')"
   ]
  },
  {
   "cell_type": "code",
   "execution_count": 7,
   "metadata": {},
   "outputs": [
    {
     "name": "stdout",
     "output_type": "stream",
     "text": [
      "enter if condition\n"
     ]
    }
   ],
   "source": [
    "# With boolean condition\n",
    "to_if = True\n",
    "to_elif = True\n",
    "\n",
    "# Make if-elif-else condition\n",
    "if to_if:\n",
    "    print('enter if condition')\n",
    "elif to_elif:\n",
    "    print('enter elif condition')\n",
    "else:\n",
    "    print('enter else condition')"
   ]
  },
  {
   "cell_type": "code",
   "execution_count": 4,
   "metadata": {},
   "outputs": [
    {
     "name": "stdout",
     "output_type": "stream",
     "text": [
      "enter elif condition 2\n"
     ]
    }
   ],
   "source": [
    "# Multiple elif condition\n",
    "to_if = False\n",
    "to_elif_1 = False\n",
    "to_elif_2 = True\n",
    "\n",
    "# Make if-elif-else condition\n",
    "if to_if:\n",
    "    print('enter if condition')\n",
    "elif to_elif_1:\n",
    "    print('enter elif condition 1')\n",
    "elif to_elif_2:\n",
    "    print('enter elif condition 2')\n",
    "else:\n",
    "    print('enter else condition')"
   ]
  },
  {
   "cell_type": "markdown",
   "metadata": {},
   "source": [
    "## Short Hand"
   ]
  },
  {
   "cell_type": "code",
   "execution_count": 8,
   "metadata": {},
   "outputs": [
    {
     "name": "stdout",
     "output_type": "stream",
     "text": [
      "a is less than or equal to b\n",
      "a is less than b\n"
     ]
    }
   ],
   "source": [
    "# Sample variable\n",
    "a, b = 5, 10\n",
    "\n",
    "# Sort hand if\n",
    "if a > b: print(\"a is greater than b\")\n",
    "\n",
    "# Sort hand if-else\n",
    "print(\"a is grater than b\") if a > b else print(\"a is less than or equal to b\")\n",
    "\n",
    "# Sort hand multiple if-else\n",
    "print(\"a is grater than b\") if a > b else print(\"a is equal to b\") if a == b else print(\"a is less than b\")"
   ]
  },
  {
   "cell_type": "markdown",
   "metadata": {},
   "source": [
    "# Python Collections (Arrays)"
   ]
  },
  {
   "cell_type": "markdown",
   "metadata": {},
   "source": [
    "There are four collection data types in the Python programming language:\n",
    "\n",
    "- **List** is a collection which is ordered and changeable. Allows duplicate members.\n",
    "- **Tuple** is a collection which is ordered and unchangeable. Allows duplicate members.\n",
    "- **Set** is a collection which is unordered, unchangeable*, and unindexed. No duplicate members.\n",
    "- **Dictionary** is a collection which is ordered** and changeable. No duplicate members."
   ]
  },
  {
   "cell_type": "markdown",
   "metadata": {},
   "source": [
    "## List"
   ]
  },
  {
   "cell_type": "markdown",
   "metadata": {},
   "source": [
    "### Create list variable"
   ]
  },
  {
   "cell_type": "code",
   "execution_count": 6,
   "metadata": {},
   "outputs": [],
   "source": [
    "# String list\n",
    "list1 = [\"apple\", \"banana\", \"cherry\"]\n",
    "\n",
    "# Integer list\n",
    "list2 = [1, 5, 7, 9, 3]\n",
    "\n",
    "# Boolean list\n",
    "list3 = [True, False, False]\n",
    "\n",
    "# Combined list\n",
    "list4 = [\"abc\", 34, True, 40, \"male\"]"
   ]
  },
  {
   "cell_type": "code",
   "execution_count": 7,
   "metadata": {},
   "outputs": [
    {
     "name": "stdout",
     "output_type": "stream",
     "text": [
      "['apple', 'banana', 'cherry']\n",
      "<class 'list'>\n",
      "3\n"
     ]
    }
   ],
   "source": [
    "# Sample list\n",
    "mylist = [\"apple\", \"banana\", \"cherry\"]\n",
    "print(mylist)\n",
    "print(type(mylist))\n",
    "print(len(mylist))"
   ]
  },
  {
   "cell_type": "markdown",
   "metadata": {},
   "source": [
    "### Items"
   ]
  },
  {
   "cell_type": "markdown",
   "metadata": {},
   "source": [
    "#### Access item(s)"
   ]
  },
  {
   "cell_type": "code",
   "execution_count": 8,
   "metadata": {},
   "outputs": [
    {
     "name": "stdout",
     "output_type": "stream",
     "text": [
      "apple\n",
      "mango\n",
      "['banana', 'cherry', 'orange', 'kiwi', 'melon']\n"
     ]
    }
   ],
   "source": [
    "# Sample list\n",
    "mylist = [\"apple\", \"banana\", \"cherry\", \"orange\", \"kiwi\", \"melon\", \"mango\"]\n",
    "\n",
    "# Get first item (python idexing start with 0)\n",
    "print(mylist[0])\n",
    "\n",
    "# Get last item\n",
    "print(mylist[-1])\n",
    "\n",
    "# Get second until before last items\n",
    "print(mylist[1:-1])"
   ]
  },
  {
   "cell_type": "markdown",
   "metadata": {},
   "source": [
    "#### Change, Add, and Remove item(s)"
   ]
  },
  {
   "cell_type": "markdown",
   "metadata": {},
   "source": [
    "##### Change"
   ]
  },
  {
   "cell_type": "code",
   "execution_count": 9,
   "metadata": {},
   "outputs": [
    {
     "name": "stdout",
     "output_type": "stream",
     "text": [
      "['apple', 'banana', 'cherry', 'orange', 'kiwi', 'melon', 'mango']\n",
      "['apple', 'durian', 'cherry', 'orange', 'kiwi', 'melon', 'mango']\n",
      "['apple', 'blackcurrant', 'watermelon', 'orange', 'kiwi', 'melon', 'mango']\n",
      "['apple', 'banana', 'cherry']\n"
     ]
    }
   ],
   "source": [
    "# Sample list\n",
    "mylist = [\"apple\", \"banana\", \"cherry\", \"orange\", \"kiwi\", \"melon\", \"mango\"]\n",
    "print(mylist)\n",
    "\n",
    "# Change item\n",
    "mylist[1] = \"durian\"\n",
    "print(mylist)\n",
    "\n",
    "# Change items\n",
    "mylist[1:3] = [\"blackcurrant\", \"watermelon\"]\n",
    "print(mylist)\n",
    "\n",
    "# Change items with different number value\n",
    "mylist[1:] = [\"banana\", \"cherry\"]\n",
    "print(mylist)"
   ]
  },
  {
   "cell_type": "markdown",
   "metadata": {},
   "source": [
    "##### Add"
   ]
  },
  {
   "cell_type": "code",
   "execution_count": 10,
   "metadata": {},
   "outputs": [
    {
     "name": "stdout",
     "output_type": "stream",
     "text": [
      "['apple', 'banana', 'cherry']\n",
      "['apple', 'banana', 'durian', 'cherry']\n",
      "['apple', 'banana', 'durian', 'cherry', 'strawberry']\n",
      "['apple', 'banana', 'durian', 'cherry', 'strawberry', 'blackcurrant', 'watermelon']\n",
      "['apple', 'banana', 'durian', 'cherry', 'strawberry', 'blackcurrant', 'watermelon', 'grape', 'orange']\n"
     ]
    }
   ],
   "source": [
    "# Sample list\n",
    "mylist = [\"apple\", \"banana\", \"cherry\"]\n",
    "print(mylist)\n",
    "\n",
    "# Insert item\n",
    "mylist.insert(2, \"durian\")\n",
    "print(mylist)\n",
    "\n",
    "# Append item\n",
    "mylist.append(\"strawberry\")\n",
    "print(mylist)\n",
    "\n",
    "# Extend with other list\n",
    "otherlist = [\"blackcurrant\", \"watermelon\"]\n",
    "mylist.extend(otherlist)\n",
    "print(mylist)\n",
    "\n",
    "# Extend with other list (another way)\n",
    "otherlist = [\"grape\", \"orange\"]\n",
    "mylist += otherlist\n",
    "print(mylist)"
   ]
  },
  {
   "cell_type": "markdown",
   "metadata": {},
   "source": [
    "##### Remove"
   ]
  },
  {
   "cell_type": "code",
   "execution_count": 11,
   "metadata": {},
   "outputs": [
    {
     "name": "stdout",
     "output_type": "stream",
     "text": [
      "['apple', 'banana', 'cherry', 'orange', 'kiwi', 'melon', 'mango']\n",
      "['apple', 'cherry', 'orange', 'kiwi', 'melon', 'mango']\n",
      "['apple', 'orange', 'kiwi', 'melon', 'mango']\n",
      "['orange', 'kiwi', 'melon', 'mango']\n",
      "[]\n"
     ]
    }
   ],
   "source": [
    "# Sample list\n",
    "mylist = [\"apple\", \"banana\", \"cherry\", \"orange\", \"kiwi\", \"melon\", \"mango\"]\n",
    "print(mylist)\n",
    "\n",
    "# Remove by value\n",
    "mylist.remove(\"banana\")\n",
    "print(mylist)\n",
    "\n",
    "# Remove by index (if you do not specify the index, the pop() method removes the last item.)\n",
    "mylist.pop(1)\n",
    "print(mylist)\n",
    "\n",
    "# Remove by index (another way)\n",
    "del mylist[0]\n",
    "print(mylist)\n",
    "\n",
    "# Clear list\n",
    "mylist.clear()\n",
    "print(mylist)\n",
    "\n",
    "# # Delete variable\n",
    "# del mylist\n",
    "# print(mylist)"
   ]
  },
  {
   "cell_type": "markdown",
   "metadata": {},
   "source": [
    "### Loop"
   ]
  },
  {
   "cell_type": "markdown",
   "metadata": {},
   "source": [
    "#### Through the Index Numbers"
   ]
  },
  {
   "cell_type": "code",
   "execution_count": 12,
   "metadata": {},
   "outputs": [
    {
     "name": "stdout",
     "output_type": "stream",
     "text": [
      "Using 'for' loop :\n",
      "apple\n",
      "banana\n",
      "cherry\n"
     ]
    }
   ],
   "source": [
    "# Through the index numbers using 'for'\n",
    "mylist = [\"apple\", \"banana\", \"cherry\"]\n",
    "print(\"Using 'for' loop :\")\n",
    "for i in range(len(mylist)):\n",
    "  print(mylist[i])"
   ]
  },
  {
   "cell_type": "code",
   "execution_count": 13,
   "metadata": {},
   "outputs": [
    {
     "name": "stdout",
     "output_type": "stream",
     "text": [
      "Using 'while' loop :\n",
      "apple\n",
      "banana\n",
      "cherry\n"
     ]
    }
   ],
   "source": [
    "# Through the index numbers using 'while'\n",
    "mylist = [\"apple\", \"banana\", \"cherry\"]\n",
    "print(\"Using 'while' loop :\")\n",
    "i = 0\n",
    "while i < len(mylist):\n",
    "  print(mylist[i])\n",
    "  i = i + 1"
   ]
  },
  {
   "cell_type": "markdown",
   "metadata": {},
   "source": [
    "#### Through the Values of the list"
   ]
  },
  {
   "cell_type": "code",
   "execution_count": 14,
   "metadata": {},
   "outputs": [
    {
     "name": "stdout",
     "output_type": "stream",
     "text": [
      "apple\n",
      "banana\n",
      "cherry\n"
     ]
    }
   ],
   "source": [
    "# Through list values\n",
    "mylist = [\"apple\", \"banana\", \"cherry\"]\n",
    "for val in mylist:\n",
    "    print(val)"
   ]
  },
  {
   "cell_type": "code",
   "execution_count": 15,
   "metadata": {},
   "outputs": [
    {
     "name": "stdout",
     "output_type": "stream",
     "text": [
      "0 apple\n",
      "1 banana\n",
      "2 cherry\n"
     ]
    }
   ],
   "source": [
    "# Through list values while get index information\n",
    "mylist = [\"apple\", \"banana\", \"cherry\"]\n",
    "for i, val in enumerate(mylist):\n",
    "    print(i, val)"
   ]
  },
  {
   "cell_type": "markdown",
   "metadata": {},
   "source": [
    "### Comprehension"
   ]
  },
  {
   "cell_type": "code",
   "execution_count": 16,
   "metadata": {},
   "outputs": [
    {
     "name": "stdout",
     "output_type": "stream",
     "text": [
      "['apple', 'banana']\n",
      "['apple', 'banana']\n"
     ]
    }
   ],
   "source": [
    "# Change value with list comprehension\n",
    "mylist = [\"apple\", \"banana\", \"cherry\"]\n",
    "\n",
    "# Without list comprehension\n",
    "newlist = []\n",
    "for x in mylist:\n",
    "    if \"a\" in x:\n",
    "        newlist.append(x)\n",
    "print(newlist)\n",
    "\n",
    "# With list comprehension\n",
    "newlist = [x for x in mylist if \"a\" in x]\n",
    "print(newlist)"
   ]
  },
  {
   "cell_type": "markdown",
   "metadata": {},
   "source": [
    "### List methods"
   ]
  },
  {
   "cell_type": "markdown",
   "metadata": {},
   "source": [
    "https://www.w3schools.com/python/python_lists_methods.asp"
   ]
  },
  {
   "cell_type": "markdown",
   "metadata": {},
   "source": [
    "## Tuple & Set"
   ]
  },
  {
   "cell_type": "code",
   "execution_count": 17,
   "metadata": {},
   "outputs": [
    {
     "name": "stdout",
     "output_type": "stream",
     "text": [
      "(1, 2, 3)\n",
      "<class 'tuple'>\n",
      "<class 'list'>\n"
     ]
    }
   ],
   "source": [
    "# Sample tuple\n",
    "mytuple = (1, 2, 3)\n",
    "print(mytuple)\n",
    "print(type(mytuple))\n",
    "\n",
    "# cast tuple to list\n",
    "mytuple = list(mytuple)\n",
    "print(type(mytuple))"
   ]
  },
  {
   "cell_type": "code",
   "execution_count": 18,
   "metadata": {},
   "outputs": [
    {
     "name": "stdout",
     "output_type": "stream",
     "text": [
      "{1, 2, 3}\n",
      "<class 'set'>\n",
      "1\n"
     ]
    }
   ],
   "source": [
    "# Sample set\n",
    "myset = {1, 2, 3, 3}\n",
    "print(myset)\n",
    "print(type(myset))\n",
    "\n",
    "# cast set to tuple\n",
    "myset = tuple(myset)\n",
    "print(myset[0])"
   ]
  },
  {
   "cell_type": "markdown",
   "metadata": {},
   "source": [
    "## Dictionary"
   ]
  },
  {
   "cell_type": "code",
   "execution_count": 19,
   "metadata": {},
   "outputs": [
    {
     "name": "stdout",
     "output_type": "stream",
     "text": [
      "{'name': 'John', 'age': 36}\n",
      "<class 'dict'>\n"
     ]
    }
   ],
   "source": [
    "# Sample dictionary\n",
    "mydict = {\"name\" : \"John\", \"age\" : 36}\n",
    "print(mydict)\n",
    "print(type(mydict))"
   ]
  },
  {
   "cell_type": "code",
   "execution_count": 20,
   "metadata": {},
   "outputs": [
    {
     "name": "stdout",
     "output_type": "stream",
     "text": [
      "John\n",
      "John\n"
     ]
    }
   ],
   "source": [
    "# Accessing value of specific key\n",
    "print(mydict['name'])\n",
    "\n",
    "print(mydict.get('name', None))"
   ]
  },
  {
   "cell_type": "code",
   "execution_count": 21,
   "metadata": {},
   "outputs": [
    {
     "name": "stdout",
     "output_type": "stream",
     "text": [
      "{'name': 'John', 'age': 36, 'address': 'Jakarta'}\n",
      "{'name': 'John', 'age': 36}\n"
     ]
    }
   ],
   "source": [
    "# Adding new key to dictionary\n",
    "mydict['address'] = \"Jakarta\"\n",
    "print(mydict)\n",
    "\n",
    "# Removing key from dictionary\n",
    "del mydict['address']\n",
    "print(mydict)"
   ]
  },
  {
   "cell_type": "code",
   "execution_count": 22,
   "metadata": {},
   "outputs": [
    {
     "name": "stdout",
     "output_type": "stream",
     "text": [
      "dict_keys(['name', 'age'])\n",
      "name\n",
      "age\n"
     ]
    }
   ],
   "source": [
    "# Get dictionary keys\n",
    "print(mydict.keys())\n",
    "\n",
    "# Iterate dictionary over keys\n",
    "for key in mydict.keys():\n",
    "    print(key)"
   ]
  },
  {
   "cell_type": "code",
   "execution_count": 23,
   "metadata": {},
   "outputs": [
    {
     "name": "stdout",
     "output_type": "stream",
     "text": [
      "dict_values(['John', 36])\n",
      "John\n",
      "36\n"
     ]
    }
   ],
   "source": [
    "# Get dictionary values\n",
    "print(mydict.values())\n",
    "\n",
    "# Iterate dictionary over values\n",
    "for value in mydict.values():\n",
    "    print(value)"
   ]
  },
  {
   "cell_type": "code",
   "execution_count": 24,
   "metadata": {},
   "outputs": [
    {
     "name": "stdout",
     "output_type": "stream",
     "text": [
      "name John\n",
      "age 36\n"
     ]
    }
   ],
   "source": [
    "# Iterate dictionary over keys and values\n",
    "for key, val in mydict.items():\n",
    "    print(key, val)"
   ]
  },
  {
   "cell_type": "markdown",
   "metadata": {},
   "source": [
    "# Try-Except"
   ]
  },
  {
   "cell_type": "markdown",
   "metadata": {},
   "source": [
    "myset variable is 'set' type, so it doesn.t have index. if the code use indexing on myset, it will raise error"
   ]
  },
  {
   "cell_type": "code",
   "execution_count": 25,
   "metadata": {},
   "outputs": [
    {
     "ename": "TypeError",
     "evalue": "'set' object is not subscriptable",
     "output_type": "error",
     "traceback": [
      "\u001b[0;31m---------------------------------------------------------------------------\u001b[0m",
      "\u001b[0;31mTypeError\u001b[0m                                 Traceback (most recent call last)",
      "\u001b[0;32m/var/folders/9w/7fqcvsrd2c59116zd_vrcw_c0000gn/T/ipykernel_1332/2123591477.py\u001b[0m in \u001b[0;36m<module>\u001b[0;34m\u001b[0m\n\u001b[1;32m      3\u001b[0m \u001b[0;34m\u001b[0m\u001b[0m\n\u001b[1;32m      4\u001b[0m \u001b[0;31m# Sample error (sample has no indexing)\u001b[0m\u001b[0;34m\u001b[0m\u001b[0;34m\u001b[0m\u001b[0m\n\u001b[0;32m----> 5\u001b[0;31m \u001b[0mprint\u001b[0m\u001b[0;34m(\u001b[0m\u001b[0mmyset\u001b[0m\u001b[0;34m[\u001b[0m\u001b[0;36m0\u001b[0m\u001b[0;34m]\u001b[0m\u001b[0;34m)\u001b[0m\u001b[0;34m\u001b[0m\u001b[0;34m\u001b[0m\u001b[0m\n\u001b[0m",
      "\u001b[0;31mTypeError\u001b[0m: 'set' object is not subscriptable"
     ]
    }
   ],
   "source": [
    "# Sample set\n",
    "myset = {1, 2, 3}\n",
    "\n",
    "# Sample error (sample has no indexing)\n",
    "print(myset[0])"
   ]
  },
  {
   "cell_type": "markdown",
   "metadata": {},
   "source": [
    "to prevent code stop running, we should implement try-catch (except) in the code.\n",
    "\n",
    "for example, the code raise an error in the 'try' section, but because we implement try-except, the code wouldn't raise error.\n",
    "\n",
    "the code will enter 'except' section after occuring error end will continue ru run the script below it"
   ]
  },
  {
   "cell_type": "code",
   "execution_count": 26,
   "metadata": {},
   "outputs": [
    {
     "name": "stdout",
     "output_type": "stream",
     "text": [
      "set has no index\n",
      "finish\n"
     ]
    }
   ],
   "source": [
    "# Sample set\n",
    "myset = {1, 2, 3}\n",
    "\n",
    "try:\n",
    "    # try to get set item by index\n",
    "    print(myset[0])\n",
    "except:\n",
    "    # will enter this section because the code above will raise error\n",
    "    # do something if error occured\n",
    "    print('set has no index')\n",
    "\n",
    "print('finish')"
   ]
  },
  {
   "cell_type": "markdown",
   "metadata": {},
   "source": [
    "python can catch specific error type such as:\n",
    "- `NameError`\n",
    "- `TypeError`\n",
    "- `ValueError`\n",
    "- and so on\n",
    "you can also create your own error type and raise specific error message\n",
    "\n",
    "to catch un specified error type, you can use `Exception` type"
   ]
  },
  {
   "cell_type": "code",
   "execution_count": 27,
   "metadata": {},
   "outputs": [
    {
     "name": "stdout",
     "output_type": "stream",
     "text": [
      "no gulu gulu gulu\n"
     ]
    }
   ],
   "source": [
    "try:\n",
    "    # try to print undefined variable\n",
    "    print(gulu)\n",
    "except NameError:\n",
    "    # will raise NameError\n",
    "    print('no gulu gulu gulu')\n",
    "except Exception as err:\n",
    "    # won't reach this section after entering NameError exception\n",
    "    print(err)"
   ]
  },
  {
   "cell_type": "markdown",
   "metadata": {},
   "source": [
    "# Function"
   ]
  },
  {
   "cell_type": "markdown",
   "metadata": {},
   "source": [
    "more detailed source : https://www.w3schools.com/python/python_functions.asp"
   ]
  },
  {
   "cell_type": "code",
   "execution_count": 28,
   "metadata": {},
   "outputs": [
    {
     "name": "stdout",
     "output_type": "stream",
     "text": [
      "Hello, World!\n"
     ]
    }
   ],
   "source": [
    "# Sample function\n",
    "def hello():\n",
    "    print(\"Hello, World!\")\n",
    "\n",
    "# Call funtion\n",
    "hello()"
   ]
  },
  {
   "cell_type": "code",
   "execution_count": 32,
   "metadata": {},
   "outputs": [
    {
     "name": "stdout",
     "output_type": "stream",
     "text": [
      "example 1 : 3\n",
      "example 2 : 3\n",
      "example 3 : 3\n",
      "example 4 : 3\n",
      "example 5 : 3\n"
     ]
    }
   ],
   "source": [
    "# Sample function with returned variable\n",
    "def addition(a, b):\n",
    "    return a + b\n",
    "\n",
    "# Call function example 1\n",
    "a, b = 1, 2\n",
    "c = addition(a, b)\n",
    "print('example 1 :', c)\n",
    "\n",
    "# Call function example 2\n",
    "c = addition(1, 2)\n",
    "print('example 2 :', c)\n",
    "\n",
    "# Call function example 3\n",
    "print('example 3 :', addition(1, 2))\n",
    "\n",
    "# Call function example 4\n",
    "print('example 4 :', addition(a=1, b=2))\n",
    "\n",
    "# Call function example 5\n",
    "print('example 5 :', addition(b=1, a=2))"
   ]
  },
  {
   "cell_type": "code",
   "execution_count": 33,
   "metadata": {},
   "outputs": [
    {
     "name": "stdout",
     "output_type": "stream",
     "text": [
      "two input : 10\n",
      "one input : 15\n"
     ]
    }
   ],
   "source": [
    "# Sample function with default parameter\n",
    "def multiplication(a, b=3):\n",
    "    return a * b\n",
    "\n",
    "# Call function with two parameters input\n",
    "print('two input :', multiplication(a=5, b=2))\n",
    "\n",
    "# Call function with single parameter input\n",
    "print('one input :', multiplication(5))"
   ]
  },
  {
   "cell_type": "code",
   "execution_count": 34,
   "metadata": {},
   "outputs": [
    {
     "data": {
      "text/plain": [
       "'equal'"
      ]
     },
     "execution_count": 34,
     "metadata": {},
     "output_type": "execute_result"
    }
   ],
   "source": [
    "# Stating expected input parameter and output variable\n",
    "def comparison(a:int, b:int) -> str:\n",
    "    if a < b:\n",
    "        return 'less than'\n",
    "    elif a > b:\n",
    "        return 'greater than'\n",
    "    else:\n",
    "        return 'equal'\n",
    "\n",
    "# Try to hover on the function to see expected input and output\n",
    "comparison(1, 1)"
   ]
  }
 ],
 "metadata": {
  "kernelspec": {
   "display_name": "base",
   "language": "python",
   "name": "python3"
  },
  "language_info": {
   "codemirror_mode": {
    "name": "ipython",
    "version": 3
   },
   "file_extension": ".py",
   "mimetype": "text/x-python",
   "name": "python",
   "nbconvert_exporter": "python",
   "pygments_lexer": "ipython3",
   "version": "3.11.3"
  },
  "orig_nbformat": 4
 },
 "nbformat": 4,
 "nbformat_minor": 2
}
