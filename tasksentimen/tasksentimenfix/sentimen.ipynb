{
 "cells": [
  {
   "cell_type": "markdown",
   "metadata": {},
   "source": [
    "### Task Sentimen "
   ]
  },
  {
   "cell_type": "code",
   "execution_count": 82,
   "metadata": {},
   "outputs": [],
   "source": [
    "import requests\n",
    "\n",
    "SENTIMENT_ANALYSIS_URL = \"http://116.254.100.218:9600/sentiment_analysis_single\"\n",
    "\n",
    "def get_sentiment(text):\n",
    "    # process ...\n",
    "    input_data = {\n",
    "        'text': text\n",
    "    }\n",
    "\n",
    "    result = requests.post(SENTIMENT_ANALYSIS_URL, json=input_data)\n",
    "\n",
    "    if result.status_code == 200:\n",
    "        result_data = result.json()['data']\n",
    "        sentiment = result_data['label']\n",
    "        confidence = result_data['confidence']\n",
    "    \n",
    "        # apa yang mau direturn\n",
    "        return sentiment, confidence\n",
    "    else:\n",
    "        return None, None"
   ]
  },
  {
   "cell_type": "code",
   "execution_count": null,
   "metadata": {},
   "outputs": [],
   "source": [
    "import numpy as np\n",
    "import pandas as pd\n",
    "df = pd.read_csv('./sentimentanalisis.csv')\n",
    "\n",
    "for sen in df.index:\n",
    "    # print(df['id'][sen], df['Kalimat'][sen])\n",
    "    text = df['Kalimat'][sen]\n",
    "    sentiment, confidence = get_sentiment(text)\n",
    "    print(sentiment, confidence)"
   ]
  },
  {
   "cell_type": "code",
   "execution_count": 71,
   "metadata": {},
   "outputs": [
    {
     "name": "stdout",
     "output_type": "stream",
     "text": [
      "Hutao mendaftar rekening bank dengan sales di mall\n",
      "{'text': 'Hutao mendaftar rekening bank dengan sales di mall'}\n",
      "<Response [200]>\n",
      "200\n",
      "<class 'int'>\n",
      "{'label': 'neutral', 'confidence': 0.997684121131897, 'index': None}\n",
      "<class 'dict'>\n",
      "neutral <class 'str'>\n",
      "0.997684121131897 <class 'float'>\n"
     ]
    }
   ],
   "source": [
    "import requests\n",
    "\n",
    "\n",
    "SENTIMENT_ANALYSIS_URL = \"http://116.254.100.218:9600/sentiment_analysis_single\"\n",
    "\n",
    "\n",
    "text = \"Hutao mendaftar rekening bank dengan sales di mall\"\n",
    "\n",
    "print(text)\n",
    "\n",
    "input_data = {\n",
    "    'text': text\n",
    "}\n",
    "\n",
    "print(input_data)\n",
    "\n",
    "result = requests.post(SENTIMENT_ANALYSIS_URL, json=input_data)\n",
    "\n",
    "print(result)\n",
    "print(result.status_code)\n",
    "print(type(result.status_code))\n",
    "\n",
    "if result.status_code == 200:\n",
    "    result_data = result.json()['data']\n",
    "    print(result_data)\n",
    "    print(type(result_data))\n",
    "    sentiment = result_data['label']\n",
    "    confidence = result_data['confidence']\n",
    "    print(sentiment, type(sentiment))\n",
    "    print(confidence, type(confidence))\n",
    "\n",
    "# if result.status_code != 200:\n",
    "#     print(\"- Failed -\")\n",
    "# else:\n",
    "#     result_data = result.json()['data']\n",
    "#     sentiment = result_data['label']\n",
    "#     confidence = result_data['confidence']\n",
    "#     print(sentiment, confidence)"
   ]
  },
  {
   "cell_type": "code",
   "execution_count": null,
   "metadata": {},
   "outputs": [],
   "source": [
    "import requests\n",
    "\n",
    "\n",
    "SENTIMENT_ANALYSIS_URL = \"http://116.254.100.218:9600/sentiment_analysis_single\"\n",
    "\n",
    "\n",
    "def get_sentiment(text):\n",
    "    input_data = {\n",
    "        'text': text \n",
    "    }\n",
    "    result = requests.post(SENTIMENT_ANALYSIS_URL, json=input_data)\n",
    "    result_data = result.json()['data']\n",
    "    sentiment = result_data['label']\n",
    "    confidence = result_data['confidence']\n",
    "    print(sentiment, confidence)\n",
    "    return(sentiment,confidence)\n",
    "    \n",
    "\n",
    "if result.status_code != 200:\n",
    "    print(\"- Failed -\")\n",
    "else:\n",
    "   \n",
    "    \n",
    "    print(sentiment, confidence)\n",
    "\n"
   ]
  },
  {
   "cell_type": "code",
   "execution_count": 64,
   "metadata": {},
   "outputs": [],
   "source": [
    "def func1(text):\n",
    "    text += '-ini tambahannya'\n",
    "\n",
    "    return text\n",
    "\n",
    "text = 'adam'\n",
    "# text += '-ini tambahannya'\n",
    "\n",
    "result = func1(text)"
   ]
  },
  {
   "cell_type": "code",
   "execution_count": 72,
   "metadata": {},
   "outputs": [
    {
     "name": "stdout",
     "output_type": "stream",
     "text": [
      "300\n"
     ]
    }
   ],
   "source": [
    "def func2(text):\n",
    "    input_data = {\n",
    "        'text': text\n",
    "    }\n",
    "\n",
    "a = 100\n",
    "b = 200\n",
    "c = a + b\n",
    "print(c)"
   ]
  },
  {
   "cell_type": "code",
   "execution_count": 76,
   "metadata": {},
   "outputs": [
    {
     "name": "stdout",
     "output_type": "stream",
     "text": [
      "11 7\n"
     ]
    }
   ],
   "source": [
    "def func3(a, b):\n",
    "    c = a + 10\n",
    "    d = b + 5\n",
    "\n",
    "    return c, d\n",
    "\n",
    "a = 1\n",
    "b = 2\n",
    "c, d = func3(a, b)\n",
    "print(c, d)"
   ]
  }
 ],
 "metadata": {
  "kernelspec": {
   "display_name": "base",
   "language": "python",
   "name": "python3"
  },
  "language_info": {
   "codemirror_mode": {
    "name": "ipython",
    "version": 3
   },
   "file_extension": ".py",
   "mimetype": "text/x-python",
   "name": "python",
   "nbconvert_exporter": "python",
   "pygments_lexer": "ipython3",
   "version": "3.11.3"
  },
  "orig_nbformat": 4
 },
 "nbformat": 4,
 "nbformat_minor": 2
}
