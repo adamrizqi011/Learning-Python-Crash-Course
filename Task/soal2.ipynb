{
 "cells": [
  {
   "cell_type": "markdown",
   "metadata": {},
   "source": [
    "## Soal No 1\n",
    "\n",
    "Write a Python script to sort (ascending and descending) a dictionary by value"
   ]
  },
  {
   "cell_type": "markdown",
   "metadata": {},
   "source": [
    "`` Jawaban ``"
   ]
  },
  {
   "cell_type": "code",
   "execution_count": 64,
   "metadata": {},
   "outputs": [
    {
     "name": "stdout",
     "output_type": "stream",
     "text": [
      "Original dictionary : {'red': 1, 'blue': 3, 'ocean': 5, 'white': 4, 'black': 6, 'yellow': 2}\n",
      "Dictionary in ascending order by value : [('red', 1), ('yellow', 2), ('blue', 3), ('white', 4), ('ocean', 5), ('black', 6)]\n",
      "Dictionary in descending order by value [('black', 6), ('ocean', 5), ('white', 4), ('blue', 3), ('yellow', 2), ('red', 1)]\n",
      "\n",
      "Ascending [('red', 1), ('cyan', 2), ('blue', 3), ('yellow', 4)]\n",
      "Descending [('yellow', 4), ('blue', 3), ('cyan', 2), ('red', 1)]\n",
      "Original Dictionary {'red': 1, 'blue': 3, 'cyan': 2, 'yellow': 4}\n"
     ]
    }
   ],
   "source": [
    "import operator\n",
    "i = {\"red\" : 1, \"blue\": 3, \"ocean\":5, \"white\":4, \"black\": 6, \"yellow\" : 2}\n",
    "print(\"Original dictionary :\" , i) # Original\n",
    "\n",
    "sorted_i = sorted(i.items(), key = operator.itemgetter(1),  reverse=False)\n",
    "print(\"Dictionary in ascending order by value :\", sorted_i) # Ascending\n",
    "\n",
    "sorted_i = sorted(i.items(), key = operator.itemgetter(1), reverse=True)\n",
    "print(\"Dictionary in descending order by value\", sorted_i) # Descending\n",
    "\n",
    "print()\n",
    "\n",
    "# Two , Write a Python script to sort (ascending and descending) a dictionary by value\n",
    "numbers = {\"red\": 1, \"blue\": 3, \"cyan\": 2, \"yellow\": 4}\n",
    "\n",
    "sorted_numbers = sorted(numbers.items(), reverse= False,key= lambda s:s[1]) # Ascending\n",
    "print(\"Ascending\", sorted_numbers)\n",
    "sorted_numbers = sorted(numbers.items(), reverse= True, key= lambda s:s[1]) # Descending\n",
    "print(\"Descending\", sorted_numbers)\n",
    "                                                                                                                                                                                                                                                               \n",
    "print(\"Original Dictionary\", numbers)\n",
    "\n",
    "# Output: [2, 4, 8, 12]"
   ]
  },
  {
   "cell_type": "markdown",
   "metadata": {},
   "source": [
    "## Soal No 2\n",
    "\n",
    "Write a Python script to add a key to a dictionary.\n",
    "\n",
    "Sample Dictionary : {0: 10, 1: 20}\n",
    "Expected Result : {0: 10, 1: 20, 2: 30}"
   ]
  },
  {
   "cell_type": "markdown",
   "metadata": {},
   "source": [
    "`` Jawaban ``"
   ]
  },
  {
   "cell_type": "code",
   "execution_count": 54,
   "metadata": {},
   "outputs": [
    {
     "name": "stdout",
     "output_type": "stream",
     "text": [
      "{0: 10, 1: 20, 2: 30}\n"
     ]
    }
   ],
   "source": [
    "a = {0:10, 1:20}\n",
    "a.update({2:30})\n",
    "print(a)"
   ]
  },
  {
   "cell_type": "markdown",
   "metadata": {},
   "source": [
    "## Soal No 3\n",
    "\n",
    "Sample Dictionary :\n",
    "\n",
    "dic1={1:10, 2:20}\n",
    "\n",
    "dic2={3:30, 4:40}\n",
    "\n",
    "dic3={5:50,6:60}\n",
    "\n",
    "Expected Result : {1: 10, 2: 20, 3: 30, 4: 40, 5: 50, 6: 60}"
   ]
  },
  {
   "cell_type": "markdown",
   "metadata": {},
   "source": [
    "`` Jawaban ``"
   ]
  },
  {
   "cell_type": "code",
   "execution_count": 30,
   "metadata": {},
   "outputs": [
    {
     "name": "stdout",
     "output_type": "stream",
     "text": [
      "{1: 10, 2: 20, 3: 30, 4: 40, 5: 50, 6: 60}\n"
     ]
    }
   ],
   "source": [
    "dic1= {1:10, 2:20}\n",
    "dic2= {3:30, 4:40}\n",
    "dic3= {5:50, 6:60}\n",
    "dic4= {}\n",
    "\n",
    "for d in (dic1, dic2, dic3): \n",
    "    dic4.update(d)\n",
    "\n",
    "# print(type(dic4))\n",
    "print(dic4)\n",
    "\n"
   ]
  },
  {
   "cell_type": "markdown",
   "metadata": {},
   "source": [
    "## Soal No 4\n",
    "\n",
    "Write a Python script to check whether a given key already exists in a dictionary."
   ]
  },
  {
   "cell_type": "markdown",
   "metadata": {},
   "source": [
    "`` Jawaban ``"
   ]
  },
  {
   "cell_type": "code",
   "execution_count": 37,
   "metadata": {},
   "outputs": [
    {
     "name": "stdout",
     "output_type": "stream",
     "text": [
      "True have key in given\n",
      "False not have key in given\n"
     ]
    }
   ],
   "source": [
    "given_key = {\"Code_One\" : 1, \"Code_Two\": 2, \"Code_Three\": 3, \"Code_Four\": 4, \"Code_Five\" : 5}\n",
    "def check_given_key(k):\n",
    "    if k in given_key:\n",
    "        print(\"True have key in given\")\n",
    "    else:\n",
    "        print(\"False not have key in given\")\n",
    "check_given_key(\"Code_Two\")\n",
    "check_given_key(\"Code_Six\")"
   ]
  },
  {
   "cell_type": "markdown",
   "metadata": {},
   "source": [
    "## Soal No 5\n",
    "\n",
    "Write a Python program to iterate over dictionaries using for loops."
   ]
  },
  {
   "cell_type": "markdown",
   "metadata": {},
   "source": [
    "``` Jawaban ```"
   ]
  },
  {
   "cell_type": "code",
   "execution_count": 34,
   "metadata": {},
   "outputs": [
    {
     "name": "stdout",
     "output_type": "stream",
     "text": [
      "Chicken Afrika -> 10\n",
      "French Fries -> 5\n",
      "Tea Oolong -> 3\n"
     ]
    }
   ],
   "source": [
    "dloop = {\"Chicken Afrika\" : 10, \"French Fries Jamaica\" : 5, \"Tea Oolong Japan\" : 3}\n",
    "for dloop_key, dloop_value, in dloop.items():\n",
    "    print(dloop_key, '->', dloop_value)\n"
   ]
  },
  {
   "cell_type": "markdown",
   "metadata": {},
   "source": [
    "## Soal No 6\n",
    "\n",
    "Write a Python script to generate and print a dictionary that contains a number (between 1 and n) in the form (x, x*x).\n",
    "\n",
    "Sample Dictionary ( n = 5) :\n",
    "\n",
    "Expected Output : {1: 1, 2: 4, 3: 9, 4: 16, 5: 25}"
   ]
  },
  {
   "cell_type": "markdown",
   "metadata": {},
   "source": [
    "``` Jawaban ```"
   ]
  },
  {
   "cell_type": "code",
   "execution_count": 58,
   "metadata": {},
   "outputs": [
    {
     "name": "stdout",
     "output_type": "stream",
     "text": [
      "{1: 1, 2: 4, 3: 9, 4: 16, 5: 25}\n"
     ]
    }
   ],
   "source": [
    "n = 5\n",
    "# dct = dict()\n",
    "dct ={}\n",
    "\n",
    "for ngt in range(1, n+1):\n",
    "    dct[ngt]  = ngt*ngt\n",
    "\n",
    "print(dct)\n",
    "\n",
    "# Variable"
   ]
  },
  {
   "cell_type": "markdown",
   "metadata": {},
   "source": [
    "## Soal No 7\n",
    "\n",
    "Write a Python script to print a dictionary where the keys are numbers between 1 and 15 (both included) and the values are the square of the keys.\n",
    "\n",
    "Sample Dictionary\n",
    "\n",
    "{1: 1, 2: 4, 3: 9, 4: 16, 5: 25, 6: 36, 7: 49, 8: 64, 9: 81, 10: 100, 11: 121, 12: 144, 13: 169, 14: 196, 15: 225}"
   ]
  },
  {
   "cell_type": "code",
   "execution_count": 62,
   "metadata": {},
   "outputs": [
    {
     "name": "stdout",
     "output_type": "stream",
     "text": [
      "{1: 1, 2: 4, 3: 9, 4: 16, 5: 25, 6: 36, 7: 49, 8: 64, 9: 81, 10: 100, 11: 121, 12: 144, 13: 169, 14: 196, 15: 225}\n"
     ]
    }
   ],
   "source": [
    "# samp_dict= dict() \n",
    "samp_dict= {}\n",
    "for x in range(1,15+1): \n",
    "    samp_dict[x] = x**2 \n",
    "\n",
    "print(samp_dict)"
   ]
  },
  {
   "cell_type": "markdown",
   "metadata": {},
   "source": [
    "## Soal No 8\n",
    "\n",
    "Write a Python script to merge two Python dictionaries."
   ]
  },
  {
   "cell_type": "markdown",
   "metadata": {},
   "source": [
    "``` Jawaban ```"
   ]
  },
  {
   "cell_type": "code",
   "execution_count": 23,
   "metadata": {},
   "outputs": [
    {
     "name": "stdout",
     "output_type": "stream",
     "text": [
      "{'cherry', 'apple', 'watermelon', 'strawberry', 'guava', 'pineapple'}\n"
     ]
    }
   ],
   "source": [
    "fruits1 = {\"apple\", \"watermelon\", \"guava\"}\n",
    "fruits2= {\"pineapple\", \"strawberry\", \"cherry\"}\n",
    "\n",
    "merge_fruits= fruits1.copy()\n",
    "merge_fruits.update(fruits2)\n",
    "\n",
    "print(merge_fruits)"
   ]
  },
  {
   "cell_type": "markdown",
   "metadata": {},
   "source": [
    "## Soal No 19\n",
    "\n",
    "Write a Python program to combine two dictionary by adding values for common keys.\n",
    "\n",
    "d1 = {'a': 100, 'b': 200, 'c':300}\n",
    "\n",
    "d2 = {'a': 300, 'b': 200, 'd':400}\n",
    "\n",
    "Sample output: Counter({'a': 400, 'b': 400, 'd': 400, 'c': 300})"
   ]
  },
  {
   "cell_type": "markdown",
   "metadata": {},
   "source": [
    "`` Jawaban ``"
   ]
  },
  {
   "cell_type": "code",
   "execution_count": 14,
   "metadata": {},
   "outputs": [
    {
     "name": "stdout",
     "output_type": "stream",
     "text": [
      "Counter({'a': 400, 'b': 400, 'd': 400, 'c': 300})\n"
     ]
    }
   ],
   "source": [
    "# from collections import Counter\n",
    "\n",
    "# buy_menu_foods= {\"Kwaci Arab\" : 100, \"Timun Bakar\" : 200, \"Es Goreng\" : 400}\n",
    "# buy_menu_drinks= {\"Mineral Water Korea Selatan\" : 300, \"Ale-ale Indonesia\" : 200, \"Pepsi USA\" : 400}\n",
    "\n",
    "# finale= Counter(buy_menu_foods) + Counter(buy_menu_drinks)\n",
    "# print(finale)\n",
    "\n",
    "from collections import Counter\n",
    "\n",
    "d1= {\"a\" : 100, \"b\" : 200, \"c\" : 300}\n",
    "d2= {\"a\" : 300, \"b\" : 200, \"d\" : 400}\n",
    "\n",
    "finale= Counter(d1) + Counter(d2)\n",
    "print(finale)"
   ]
  },
  {
   "cell_type": "markdown",
   "metadata": {},
   "source": [
    "## Soal No 20\n",
    "\n",
    "Write a Python program to print all distinct values in a dictionary.\n",
    "\n",
    "Sample Data : [{\"V\":\"S001\"}, {\"V\": \"S002\"}, {\"VI\": \"S001\"}, {\"VI\": \"S005\"}, {\"VII\":\"S005\"}, {\"V\":\"S009\"},{\"VIII\":\"S007\"}]\n",
    "\n",
    "Expected Output : Unique Values: {'S005', 'S002', 'S007', 'S001', 'S009'}"
   ]
  },
  {
   "cell_type": "markdown",
   "metadata": {},
   "source": [
    "``` Jawaban ```"
   ]
  },
  {
   "cell_type": "code",
   "execution_count": 65,
   "metadata": {},
   "outputs": [
    {
     "name": "stdout",
     "output_type": "stream",
     "text": [
      "Original List [{'V': 'S001'}, {'V': 'S002'}, {'VI': 'S001'}, {'VI': 'S005'}, {'VII': 'S005'}, {'V': 'S009'}, {'VIII': 'S007'}]\n",
      "Unique Values {'S007', 'S009', 'S002', 'S001', 'S005'}\n"
     ]
    }
   ],
   "source": [
    "sample_data = [{\"V\":\"S001\"}, {\"V\": \"S002\"}, {\"VI\": \"S001\"}, {\"VI\": \"S005\"}, {\"VII\":\"S005\"}, {\"V\":\"S009\"},{\"VIII\":\"S007\"}]\n",
    "print(\"Original List\", sample_data)\n",
    "result_value = set( value_data for dic_data in sample_data for value_data in dic_data.values())\n",
    "print(\"Unique Values\", result_value)"
   ]
  },
  {
   "cell_type": "markdown",
   "metadata": {},
   "source": [
    "## Soal No 21\n",
    "\n",
    "Write a Python program to create and display all combinations of letters, selecting each letter from a different key in a dictionary.\n",
    "\n",
    "Sample data : {'1':['a','b'], '2':['c','d']}\n",
    "\n",
    "Expected Output:\n",
    "\n",
    "ac\n",
    "\n",
    "ad\n",
    "\n",
    "bc\n",
    "\n",
    "bd\n",
    "\n",
    "<!-- Task, How? -->\n",
    "ac, ad, ae, af, bc, bd, be, bf, ce, cf, de, df"
   ]
  },
  {
   "cell_type": "markdown",
   "metadata": {},
   "source": [
    "``` Jawaban ```"
   ]
  },
  {
   "cell_type": "code",
   "execution_count": 17,
   "metadata": {},
   "outputs": [
    {
     "name": "stdout",
     "output_type": "stream",
     "text": [
      "ae\n",
      "af\n",
      "be\n",
      "bf\n"
     ]
    }
   ],
   "source": [
    "import itertools\n",
    "combinations_data_dictionary = {\"1\" : [\"a\",\"b\"], \"2\" : [\"c\",\"d\"], \"3\" : [\"e\",\"f\"]}\n",
    "# my_combination = {}\n",
    "# for combo in itertools.product(*[combinations_data_dictionary[i] for i in sorted(combinations_data_dictionary[1]())]):\n",
    "#     for x in itertools.product(*[combinations_data_dictionary[k] for k in sorted(combinations_data_dictionary[2]())]):\n",
    "\n",
    "# key_combinations = []\n",
    "# for key1 in combinations_data_dictionary.values():\n",
    "#     for key2 in combinations_data_dictionary.values():\n",
    "#         if key1 != key2:\n",
    "#             key_combinations.append((key1, key2))\n",
    "\n",
    "\n",
    "# print(\"The dictionary key pair list is : \" + str(key_combinations))\n",
    "\n",
    "\n",
    "# for p in combinations_data_dictionary[\"1\"]:\n",
    "#         for q in itertools.product (combinations_data_dictionary[\"2\"]):\n",
    "#                 print(p + q)\n",
    "\n",
    "for z in combinations_data_dictionary[\"1\"]:\n",
    "        for i in itertools.product(combinations_data_dictionary[\"2\"]) and sorted(combinations_data_dictionary[\"3\"]):\n",
    "                print(z + i)\n",
    "\n",
    "# for x in sorted(combinations_data_dictionary[\"1\"]) and sorted(combinations_data_dictionary[\"2\"]):\n",
    "#         for y in itertools.product(combinations_data_dictionary[\"3\"]):\n",
    "#                 print(x + y)\n",
    "                \n",
    "    # print((\"\".join(combo)))\n",
    "    # print(combo,type(combo))"
   ]
  },
  {
   "cell_type": "code",
   "execution_count": 261,
   "metadata": {},
   "outputs": [
    {
     "name": "stdout",
     "output_type": "stream",
     "text": [
      "Testing\n",
      "ac\n",
      "ad\n",
      "ae\n",
      "af\n",
      "ag\n",
      "ah\n",
      "ai\n",
      "aj\n",
      "bc\n",
      "bd\n",
      "be\n",
      "bf\n",
      "bg\n",
      "bh\n",
      "bi\n",
      "bj\n",
      "ce\n",
      "cf\n",
      "cg\n",
      "ch\n",
      "ci\n",
      "cj\n",
      "de\n",
      "df\n",
      "dg\n",
      "dh\n",
      "di\n",
      "dj\n",
      "eg\n",
      "eh\n",
      "ei\n",
      "ej\n",
      "fg\n",
      "fh\n",
      "fi\n",
      "fj\n",
      "gi\n",
      "gj\n",
      "hi\n",
      "hj\n"
     ]
    }
   ],
   "source": [
    "sample_dict = {\n",
    "    '1': ['a', 'b'],\n",
    "    '2': ['c', 'd'],\n",
    "    '3': ['e', 'f'],\n",
    "    '4': ['g', 'h'],\n",
    "    '5': ['i', 'j'],\n",
    "}\n",
    "\n",
    "\n",
    "# # Approach 1\n",
    "# print(\"Approach 1: using dictionary keys\")\n",
    "\n",
    "# keys = list(sample_dict.keys())\n",
    "\n",
    "# for i, key in enumerate(keys):\n",
    "#     for left_val in sample_dict[key]:\n",
    "#         for j in range(i+1, len(keys)):\n",
    "#             for right_val in sample_dict[keys[j]]:\n",
    "#                 print(''.join([left_val, right_val]))\n",
    "\n",
    "# # Approach 2\n",
    "# print(\"Approach 2: directly using dictionary values\")\n",
    "\n",
    "# values = list(sample_dict.values())\n",
    "\n",
    "# for i, value in enumerate(values):\n",
    "#     for left_val in value:\n",
    "#         for j in range(i+1, len(values)):\n",
    "#             for right_val in values[j]:\n",
    "#                 print(''.join([left_val, right_val]))\n",
    "\n",
    "\n",
    "print(\"Testing\")\n",
    "\n",
    "# values = [sample_dict.values]\n",
    "values = list(sample_dict.values())\n",
    "\n",
    "for i, value in enumerate(values):\n",
    "    for left_val in value:\n",
    "        for j in range(i+1, len(values)):\n",
    "            for right_val in values[j]:\n",
    "                print(\"\".join([left_val, right_val]))\n",
    "\n",
    "\n",
    "\n",
    "\n"
   ]
  },
  {
   "cell_type": "code",
   "execution_count": 6,
   "metadata": {},
   "outputs": [
    {
     "name": "stdout",
     "output_type": "stream",
     "text": [
      "(1, 'three') <class 'tuple'>\n",
      "(2, 'two') <class 'tuple'>\n",
      "(3, 'one') <class 'tuple'>\n"
     ]
    }
   ],
   "source": [
    "# Using enumerate() to set the starting count\n",
    "# courses=['java','python','pandas','sparks', \"two\",\"three\"]\n",
    "# for value in enumerate(courses, start= 1):\n",
    "#     print(value, type(value))\n",
    "\n",
    "learning= {\"one\", \"two\", \"three\"}\n",
    "for value in enumerate (learning, start= 1):\n",
    "    print(value, type(value))"
   ]
  },
  {
   "cell_type": "code",
   "execution_count": 4,
   "metadata": {},
   "outputs": [
    {
     "name": "stdout",
     "output_type": "stream",
     "text": [
      "Winning rules of the game ROCK PAPER SCISSORS are :\n",
      "Rock vs Paper -> Paper wins \n",
      "Rock vs Scissors -> Rock wins \n",
      "Paper vs Scissors -> Scissor wins \n",
      "\n",
      "Enter your choice \n",
      " 1 - Rock \n",
      " 2 - Paper \n",
      " 3 - Scissors \n",
      "\n"
     ]
    },
    {
     "name": "stdout",
     "output_type": "stream",
     "text": [
      "User choice is \n",
      " Rock\n",
      "Now its Computers Turn....\n",
      "Computer choice is \n",
      " papeR\n",
      "Rock Vs papeR\n",
      "paper wins =><== Computer wins ==>\n",
      "Do you want to play again? (Y/N)\n",
      "Enter your choice \n",
      " 1 - Rock \n",
      " 2 - Paper \n",
      " 3 - Scissors \n",
      "\n",
      "User choice is \n",
      " Scissors\n",
      "Now its Computers Turn....\n",
      "Computer choice is \n",
      " rocK\n",
      "Scissors Vs rocK\n",
      "Rock wins =>\n",
      "<== Computer wins ==>\n",
      "Do you want to play again? (Y/N)\n",
      "Enter your choice \n",
      " 1 - Rock \n",
      " 2 - Paper \n",
      " 3 - Scissors \n",
      "\n"
     ]
    },
    {
     "ename": "ValueError",
     "evalue": "invalid literal for int() with base 10: 'n'",
     "output_type": "error",
     "traceback": [
      "\u001b[1;31m---------------------------------------------------------------------------\u001b[0m",
      "\u001b[1;31mValueError\u001b[0m                                Traceback (most recent call last)",
      "\u001b[1;32mc:\\Users\\1846\\Documents\\crash-course\\Task\\soal2.ipynb Cell 35\u001b[0m line \u001b[0;36m1\n\u001b[0;32m     <a href='vscode-notebook-cell:/c%3A/Users/1846/Documents/crash-course/Task/soal2.ipynb#X46sZmlsZQ%3D%3D?line=11'>12</a>\u001b[0m \u001b[39mprint\u001b[39m(\u001b[39m\"\u001b[39m\u001b[39mEnter your choice \u001b[39m\u001b[39m\\n\u001b[39;00m\u001b[39m 1 - Rock \u001b[39m\u001b[39m\\n\u001b[39;00m\u001b[39m 2 - Paper \u001b[39m\u001b[39m\\n\u001b[39;00m\u001b[39m 3 - Scissors \u001b[39m\u001b[39m\\n\u001b[39;00m\u001b[39m\"\u001b[39m)\n\u001b[0;32m     <a href='vscode-notebook-cell:/c%3A/Users/1846/Documents/crash-course/Task/soal2.ipynb#X46sZmlsZQ%3D%3D?line=13'>14</a>\u001b[0m \u001b[39m# take the input from user\u001b[39;00m\n\u001b[1;32m---> <a href='vscode-notebook-cell:/c%3A/Users/1846/Documents/crash-course/Task/soal2.ipynb#X46sZmlsZQ%3D%3D?line=15'>16</a>\u001b[0m choice\u001b[39m=\u001b[39m\u001b[39mint\u001b[39;49m(\u001b[39minput\u001b[39;49m(\u001b[39m\"\u001b[39;49m\u001b[39mEnter your choice :\u001b[39;49m\u001b[39m\"\u001b[39;49m))\n\u001b[0;32m     <a href='vscode-notebook-cell:/c%3A/Users/1846/Documents/crash-course/Task/soal2.ipynb#X46sZmlsZQ%3D%3D?line=17'>18</a>\u001b[0m  \u001b[39m# OR is the short-circuit operator\u001b[39;00m\n\u001b[0;32m     <a href='vscode-notebook-cell:/c%3A/Users/1846/Documents/crash-course/Task/soal2.ipynb#X46sZmlsZQ%3D%3D?line=18'>19</a>\u001b[0m \u001b[39m# if any one of the condition is true\u001b[39;00m\n\u001b[0;32m     <a href='vscode-notebook-cell:/c%3A/Users/1846/Documents/crash-course/Task/soal2.ipynb#X46sZmlsZQ%3D%3D?line=19'>20</a>\u001b[0m \u001b[39m# then it return True value\u001b[39;00m\n\u001b[0;32m     <a href='vscode-notebook-cell:/c%3A/Users/1846/Documents/crash-course/Task/soal2.ipynb#X46sZmlsZQ%3D%3D?line=20'>21</a>\u001b[0m  \n\u001b[0;32m     <a href='vscode-notebook-cell:/c%3A/Users/1846/Documents/crash-course/Task/soal2.ipynb#X46sZmlsZQ%3D%3D?line=21'>22</a>\u001b[0m \u001b[39m# looping until user enter invalid input\u001b[39;00m\n\u001b[0;32m     <a href='vscode-notebook-cell:/c%3A/Users/1846/Documents/crash-course/Task/soal2.ipynb#X46sZmlsZQ%3D%3D?line=22'>23</a>\u001b[0m \u001b[39mwhile\u001b[39;00m choice \u001b[39m>\u001b[39m \u001b[39m3\u001b[39m \u001b[39mor\u001b[39;00m choice \u001b[39m<\u001b[39m\u001b[39m1\u001b[39m:\n",
      "\u001b[1;31mValueError\u001b[0m: invalid literal for int() with base 10: 'n'"
     ]
    }
   ],
   "source": [
    "# import random module\n",
    "import random\n",
    "# print multiline instruction\n",
    "# performstring concatenation of string\n",
    "print('Winning rules of the game ROCK PAPER SCISSORS are :\\n'\n",
    "      + \"Rock vs Paper -> Paper wins \\n\"\n",
    "      + \"Rock vs Scissors -> Rock wins \\n\"\n",
    "      + \"Paper vs Scissors -> Scissor wins \\n\")\n",
    " \n",
    "while True:\n",
    "     \n",
    "    print(\"Enter your choice \\n 1 - Rock \\n 2 - Paper \\n 3 - Scissors \\n\")\n",
    "     \n",
    "    # take the input from user\n",
    "     \n",
    "    choice=int(input(\"Enter your choice :\"))\n",
    "     \n",
    "     # OR is the short-circuit operator\n",
    "    # if any one of the condition is true\n",
    "    # then it return True value\n",
    "     \n",
    "    # looping until user enter invalid input\n",
    "    while choice > 3 or choice <1:\n",
    "      choice=int(input('Enter a valid choice please ☺'))\n",
    "         \n",
    "        # initialize value of choice_name variable\n",
    "    # corresponding to the choice value\n",
    "    if choice == 1:\n",
    "        choice_name= 'Rock'\n",
    "    elif choice == 2:\n",
    "        choice_name= 'Paper'\n",
    "    else:\n",
    "        choice_name= 'Scissors'\n",
    "         \n",
    "        # print user choice\n",
    "    print('User choice is \\n',choice_name)\n",
    "    print('Now its Computers Turn....')\n",
    "     \n",
    "    # Computer chooses randomly any number\n",
    "    # among 1 , 2 and 3. Using randint method\n",
    "    # of random module\n",
    "    comp_choice = random.randint(1,3)\n",
    "     \n",
    "    # looping until comp_choice value\n",
    "    # is equal to the choice value\n",
    "    while comp_choice == choice:\n",
    "        comp_choice = random.randint(1,3)\n",
    "         \n",
    "     # initialize value of comp_choice_name\n",
    "    # variable corresponding to the choice value\n",
    "    if comp_choice == 1:\n",
    "        comp_choice_name = 'rocK'\n",
    "    elif comp_choice == 2:\n",
    "        comp_choice_name = 'papeR'\n",
    "    else:\n",
    "        comp_choice_name = 'scissoR'\n",
    "    print(\"Computer choice is \\n\", comp_choice_name)\n",
    "    print(choice_name,'Vs',comp_choice_name)\n",
    "    # we need to check of a draw\n",
    "    if choice == comp_choice:\n",
    "        print('Its a Draw',end=\"\")\n",
    "        result=\"DRAW\"\n",
    "    # condition for winning     \n",
    "    if (choice==1 and comp_choice==2):\n",
    "        print('paper wins =>',end=\"\")\n",
    "        result='papeR'\n",
    "    elif (choice==2 and comp_choice==1):\n",
    "        print('paper wins =>',end=\"\")\n",
    "        result='Paper'\n",
    "         \n",
    "       \n",
    "    if (choice==1 and comp_choice==3):\n",
    "        print('Rock wins =>\\n',end= \"\")\n",
    "        result='Rock'\n",
    "    elif (choice==3 and comp_choice==1):\n",
    "        print('Rock wins =>\\n',end= \"\")\n",
    "        result='rocK'\n",
    "         \n",
    "    if (choice==2 and comp_choice==3):\n",
    "        print('Scissors wins =>',end=\"\")\n",
    "        result='scissoR'\n",
    "    elif (choice==3 and comp_choice==2):\n",
    "        print('Scissors wins =>',end=\"\")\n",
    "        result='Rock'\n",
    "     # Printing either user or computer wins or draw\n",
    "        if result == 'DRAW':\n",
    "            print(\"<== Its a tie ==>\")\n",
    "        if result == choice_name:\n",
    "            print(\"<== User wins ==>\")\n",
    "    else:\n",
    "        print(\"<== Computer wins ==>\")\n",
    "    print(\"Do you want to play again? (Y/N)\")\n",
    "    # if user input n or N then condition is True\n",
    "    ans = input().lower\n",
    "    if ans =='n':\n",
    "        break\n",
    "# after coming out of the while loop\n",
    "# we print thanks for playing\n",
    "print(\"thanks for playing\")"
   ]
  },
  {
   "cell_type": "code",
   "execution_count": 50,
   "metadata": {},
   "outputs": [
    {
     "name": "stdout",
     "output_type": "stream",
     "text": [
      "Tie!\n"
     ]
    }
   ],
   "source": [
    "from random import randint\n",
    "\n",
    "#create a list of play options\n",
    "t = [\"Rock\", \"Paper\", \"Scissors\"]\n",
    "\n",
    "#assign a random play to the computer\n",
    "computer = t[randint(0,2)]\n",
    "\n",
    "#set player to False\n",
    "player = False\n",
    "\n",
    "while player == False:\n",
    "#set player to True\n",
    "    player = input(\"Rock, Paper, Scissors?\")\n",
    "    if player == computer:\n",
    "        print(\"Tie!\")\n",
    "    elif player == \"Rock\":\n",
    "        if computer == \"Paper\":\n",
    "            print(\"You lose!\", computer, \"covers\", player)\n",
    "        else:\n",
    "            print(\"You win!\", player, \"smashes\", computer)\n",
    "    elif player == \"Paper\":\n",
    "        if computer == \"Scissors\":\n",
    "            print(\"You lose!\", computer, \"cut\", player)\n",
    "        else:\n",
    "            print(\"You win!\", player, \"covers\", computer)\n",
    "    elif player == \"Scissors\":\n",
    "        if computer == \"Rock\":\n",
    "            print(\"You lose...\", computer, \"smashes\", player)\n",
    "        else:\n",
    "            print(\"You win!\", player, \"cut\", computer)\n",
    "    else:\n",
    "        print(\"That's not a valid play. Check your spelling!\")\n",
    "    #player was set to True, but we want it to be False so the loop continues\n",
    "    player = False\n",
    "    computer = t[randint(0,2)]\n",
    "    "
   ]
  },
  {
   "cell_type": "code",
   "execution_count": 58,
   "metadata": {},
   "outputs": [
    {
     "name": "stdout",
     "output_type": "stream",
     "text": [
      "Yay! I choose cake!\n"
     ]
    }
   ],
   "source": [
    "# def dessert(cake):\n",
    "#     if cake == False:\n",
    "#         print(\"the cake is a lie!\")\n",
    "#     else:\n",
    "#         print(\"Om nom nom.\")\n",
    "\n",
    "# dessert(0)\n",
    "\n",
    "dinner = False\n",
    "cake = True\n",
    "\n",
    "if dinner or cake:\n",
    "    print(\"Yay! I choose cake!\")"
   ]
  }
 ],
 "metadata": {
  "kernelspec": {
   "display_name": "base",
   "language": "python",
   "name": "python3"
  },
  "language_info": {
   "codemirror_mode": {
    "name": "ipython",
    "version": 3
   },
   "file_extension": ".py",
   "mimetype": "text/x-python",
   "name": "python",
   "nbconvert_exporter": "python",
   "pygments_lexer": "ipython3",
   "version": "3.11.3"
  },
  "orig_nbformat": 4
 },
 "nbformat": 4,
 "nbformat_minor": 2
}
