{
 "cells": [
  {
   "cell_type": "code",
   "execution_count": 24,
   "metadata": {},
   "outputs": [
    {
     "data": {
      "text/plain": [
       "6"
      ]
     },
     "execution_count": 24,
     "metadata": {},
     "output_type": "execute_result"
    }
   ],
   "source": [
    "given_number = 123523\n",
    "given_number = str(given_number)\n",
    "len(given_number)\n"
   ]
  },
  {
   "cell_type": "code",
   "execution_count": 31,
   "metadata": {},
   "outputs": [
    {
     "name": "stdout",
     "output_type": "stream",
     "text": [
      "FizzBuzz\n",
      "1\n",
      "2\n",
      "3\n",
      "fizz\n",
      "buzz\n",
      "6\n",
      "7\n",
      "fizz\n",
      "9\n",
      "buzz\n",
      "11\n",
      "fizz\n",
      "13\n",
      "14\n",
      "buzz\n",
      "fizz\n",
      "17\n",
      "18\n",
      "19\n",
      "FizzBuzz\n"
     ]
    }
   ],
   "source": [
    "given_range = 20\n",
    "\n",
    "for i in range(given_range+1):\n",
    "    if i%4 == 0 and i%5 == 0:\n",
    "        print(\"FizzBuzz\")\n",
    "        continue\n",
    "\n",
    "    if i % 4 == 0 and i%5 != 0:\n",
    "        print(\"fizz\")\n",
    "        continue\n",
    "\n",
    "    if i % 5 == 0 and i %4 != 0:\n",
    "        print(\"buzz\")\n",
    "\n",
    "    else:\n",
    "        print(i)"
   ]
  },
  {
   "cell_type": "code",
   "execution_count": 38,
   "metadata": {},
   "outputs": [
    {
     "name": "stdout",
     "output_type": "stream",
     "text": [
      "Current Month September Current Year 2023\n"
     ]
    }
   ],
   "source": [
    "import datetime\n",
    "from datetime import datetime\n",
    "\n",
    "month= datetime.now().strftime(\"%B\")\n",
    "year= datetime.now().strftime(\"%Y\")\n",
    "\n",
    "print(\"Current Month\", month, \"Current Year\", year)"
   ]
  },
  {
   "cell_type": "code",
   "execution_count": null,
   "metadata": {},
   "outputs": [],
   "source": []
  }
 ],
 "metadata": {
  "kernelspec": {
   "display_name": "base",
   "language": "python",
   "name": "python3"
  },
  "language_info": {
   "codemirror_mode": {
    "name": "ipython",
    "version": 3
   },
   "file_extension": ".py",
   "mimetype": "text/x-python",
   "name": "python",
   "nbconvert_exporter": "python",
   "pygments_lexer": "ipython3",
   "version": "3.11.3"
  },
  "orig_nbformat": 4
 },
 "nbformat": 4,
 "nbformat_minor": 2
}
