{
 "cells": [
  {
   "cell_type": "markdown",
   "metadata": {},
   "source": [
    "# OS & shutil"
   ]
  },
  {
   "cell_type": "code",
   "execution_count": 5,
   "metadata": {},
   "outputs": [],
   "source": [
    "import os, shutil\n",
    "\n",
    "# make dummy txt file\n",
    "with open('file.txt', 'w') as file:\n",
    "    file.write('')"
   ]
  },
  {
   "cell_type": "code",
   "execution_count": 18,
   "metadata": {},
   "outputs": [
    {
     "name": "stdout",
     "output_type": "stream",
     "text": [
      "/Users/bobi/Documents/GitHub/crash-course/3. Python Basic Common Library\n",
      "/Users/bobi/Documents/GitHub/crash-course/3. Python Basic Common Library/sample\n",
      "True\n",
      "sample\n"
     ]
    },
    {
     "data": {
      "text/plain": [
       "'/Users/bobi/Documents/GitHub/crash-course/3. Python Basic Common Library/sample/file.text'"
      ]
     },
     "execution_count": 18,
     "metadata": {},
     "output_type": "execute_result"
    }
   ],
   "source": [
    "# get current directory\n",
    "print(os.getcwd())\n",
    "\n",
    "# make dir\n",
    "try:\n",
    "    os.mkdir('sample')\n",
    "except:\n",
    "    pass\n",
    "\n",
    "# join path\n",
    "cur_dir = os.getcwd()\n",
    "sample_dir = os.path.join(cur_dir, 'sample')\n",
    "print(sample_dir)\n",
    "\n",
    "# check exist\n",
    "print(os.path.exists(sample_dir))\n",
    "\n",
    "# get basename\n",
    "print(os.path.basename(sample_dir))\n",
    "\n",
    "# copy $ cut file\n",
    "src = os.path.join(cur_dir, 'file.txt')\n",
    "dst = os.path.join(sample_dir, 'file.text')\n",
    "shutil.move(src, dst)"
   ]
  },
  {
   "cell_type": "markdown",
   "metadata": {},
   "source": [
    "# Time & Datetime"
   ]
  },
  {
   "cell_type": "code",
   "execution_count": 20,
   "metadata": {},
   "outputs": [],
   "source": [
    "import time\n",
    "import datetime as dt"
   ]
  },
  {
   "cell_type": "code",
   "execution_count": 32,
   "metadata": {},
   "outputs": [
    {
     "name": "stdout",
     "output_type": "stream",
     "text": [
      "2023-08-04 14:28:24.907389\n",
      "<class 'datetime.datetime'>\n",
      "2023-08-04 14:28:24\n",
      "<class 'str'>\n",
      "2023-08-04 14:28:24\n",
      "<class 'datetime.datetime'>\n"
     ]
    }
   ],
   "source": [
    "# # get time\n",
    "# print(time.time())\n",
    "\n",
    "# sleep\n",
    "# print('hai')\n",
    "# time.sleep(5)\n",
    "# print('hello')\n",
    "\n",
    "# check process time\n",
    "# start_time = time.time()\n",
    "# time.sleep(3)\n",
    "# end_time = time.time()\n",
    "# print(end_time-start_time)\n",
    "\n",
    "# get current datetime\n",
    "cur_dt = dt.datetime.now()\n",
    "print(cur_dt)\n",
    "print(type(cur_dt))\n",
    "\n",
    "# datetime to string\n",
    "string_dt = cur_dt.strftime('%Y-%m-%d %H:%M:%S')\n",
    "print(string_dt)\n",
    "print(type(string_dt))\n",
    "\n",
    "# string to datetime\n",
    "cur_dt = dt.datetime.strptime(string_dt, '%Y-%m-%d %H:%M:%S')\n",
    "print(cur_dt)\n",
    "print(type(cur_dt))"
   ]
  },
  {
   "cell_type": "markdown",
   "metadata": {},
   "source": [
    "# Random"
   ]
  },
  {
   "cell_type": "code",
   "execution_count": 55,
   "metadata": {},
   "outputs": [
    {
     "data": {
      "text/plain": [
       "0"
      ]
     },
     "execution_count": 55,
     "metadata": {},
     "output_type": "execute_result"
    }
   ],
   "source": [
    "import random\n",
    "\n",
    "random.seed(10)\n",
    "\n",
    "random.randint(0, 1)"
   ]
  },
  {
   "cell_type": "code",
   "execution_count": 95,
   "metadata": {},
   "outputs": [
    {
     "data": {
      "text/plain": [
       "[1, 3]"
      ]
     },
     "execution_count": 95,
     "metadata": {},
     "output_type": "execute_result"
    }
   ],
   "source": [
    "import random\n",
    "\n",
    "# seeding\n",
    "# random.seed(0)\n",
    "\n",
    "# random range\n",
    "# random.randrange(0,2)\n",
    "# random.randint()\n",
    "\n",
    "# random float\n",
    "# random.random()\n",
    "# random.uniform(1,2)\n",
    "\n",
    "# sampling\n",
    "a = [1,2,3,4,5]\n",
    "# random.shuffle(a)\n",
    "# random.sample(a, k=5)\n",
    "# random.choice(a)\n",
    "random.choices(a, k=2)\n",
    "# print(a)"
   ]
  },
  {
   "cell_type": "markdown",
   "metadata": {},
   "source": [
    "# JSON"
   ]
  },
  {
   "cell_type": "code",
   "execution_count": 99,
   "metadata": {},
   "outputs": [
    {
     "name": "stdout",
     "output_type": "stream",
     "text": [
      "{'name': 'budi', 'height': 167, 'weight': 68.6} <class 'dict'>\n"
     ]
    }
   ],
   "source": [
    "import json\n",
    "\n",
    "dictionary = {\n",
    "    \"name\": \"budi\",\n",
    "    \"height\": 167,\n",
    "    \"weight\": 68.6\n",
    "}\n",
    " \n",
    "# writing json\n",
    "with open(\"sample.json\", \"w\") as outfile:\n",
    "    # # method 1\n",
    "    # json_object = json.dumps(dictionary)\n",
    "    # outfile.write(json_object)\n",
    "    # method 2\n",
    "    json.dump(dictionary, outfile)\n",
    "\n",
    "\n",
    "# reading json\n",
    "with open('sample.json', 'r') as openfile:\n",
    "    json_object = json.load(openfile)\n",
    "\n",
    "print(json_object, type(json_object))"
   ]
  },
  {
   "cell_type": "markdown",
   "metadata": {},
   "source": [
    "# Numpy"
   ]
  },
  {
   "cell_type": "markdown",
   "metadata": {},
   "source": [
    "other information source :\n",
    "https://numpy.org/doc/stable/user/absolute_beginners.html"
   ]
  },
  {
   "cell_type": "code",
   "execution_count": 115,
   "metadata": {},
   "outputs": [
    {
     "data": {
      "text/plain": [
       "(2,)"
      ]
     },
     "execution_count": 115,
     "metadata": {},
     "output_type": "execute_result"
    }
   ],
   "source": [
    "import numpy as np\n",
    "\n",
    "myarr = np.array([1,2])\n",
    "myarr2 = np.array([3,4])\n",
    "\n",
    "myarr.shape"
   ]
  },
  {
   "cell_type": "code",
   "execution_count": 125,
   "metadata": {},
   "outputs": [
    {
     "data": {
      "text/plain": [
       "1"
      ]
     },
     "execution_count": 125,
     "metadata": {},
     "output_type": "execute_result"
    }
   ],
   "source": [
    "import numpy as np\n",
    "\n",
    "# create array\n",
    "array_example = np.array([[[0, 1, 2, 3],\n",
    "                           [4, 5, 6, 7]],\n",
    "\n",
    "                          [[0, 1, 2, 3],\n",
    "                           [4, 5, 6, 7]],\n",
    "\n",
    "                          [[0 ,1 ,2, 3],\n",
    "                           [4, 5, 6, 7]]])\n",
    "\n",
    "# ndim, size, shape\n",
    "array_example.ndim\n",
    "\n",
    "# mean, median\n",
    "myarr = np.array([1,2,5])\n",
    "np.mean(myarr)\n",
    "np.min(myarr)\n",
    "\n",
    "# basic operation as "
   ]
  },
  {
   "cell_type": "markdown",
   "metadata": {},
   "source": [
    "# Pandas"
   ]
  },
  {
   "cell_type": "code",
   "execution_count": 154,
   "metadata": {},
   "outputs": [
    {
     "data": {
      "text/html": [
       "<div>\n",
       "<style scoped>\n",
       "    .dataframe tbody tr th:only-of-type {\n",
       "        vertical-align: middle;\n",
       "    }\n",
       "\n",
       "    .dataframe tbody tr th {\n",
       "        vertical-align: top;\n",
       "    }\n",
       "\n",
       "    .dataframe thead th {\n",
       "        text-align: right;\n",
       "    }\n",
       "</style>\n",
       "<table border=\"1\" class=\"dataframe\">\n",
       "  <thead>\n",
       "    <tr style=\"text-align: right;\">\n",
       "      <th></th>\n",
       "      <th>Name</th>\n",
       "      <th>Age</th>\n",
       "      <th>Height</th>\n",
       "    </tr>\n",
       "  </thead>\n",
       "  <tbody>\n",
       "    <tr>\n",
       "      <th>0</th>\n",
       "      <td>Tom</td>\n",
       "      <td>28</td>\n",
       "      <td>165.0</td>\n",
       "    </tr>\n",
       "    <tr>\n",
       "      <th>1</th>\n",
       "      <td>Jack</td>\n",
       "      <td>34</td>\n",
       "      <td>NaN</td>\n",
       "    </tr>\n",
       "    <tr>\n",
       "      <th>2</th>\n",
       "      <td>Steve</td>\n",
       "      <td>29</td>\n",
       "      <td>NaN</td>\n",
       "    </tr>\n",
       "    <tr>\n",
       "      <th>3</th>\n",
       "      <td>Ricky</td>\n",
       "      <td>42</td>\n",
       "      <td>NaN</td>\n",
       "    </tr>\n",
       "  </tbody>\n",
       "</table>\n",
       "</div>"
      ],
      "text/plain": [
       "    Name  Age  Height\n",
       "0    Tom   28   165.0\n",
       "1   Jack   34     NaN\n",
       "2  Steve   29     NaN\n",
       "3  Ricky   42     NaN"
      ]
     },
     "execution_count": 154,
     "metadata": {},
     "output_type": "execute_result"
    }
   ],
   "source": [
    "import pandas as pd\n",
    "\n",
    "# data = {\n",
    "#     'Name': ['Tom', 'Jack', 'Steve', 'Ricky'],\n",
    "#     'Age': [28,34,29,42]\n",
    "# }\n",
    "\n",
    "data = [\n",
    "    {'Name': 'Tom', 'Age': 28, 'Height':165},\n",
    "    {'Name': 'Jack', 'Age': 34},\n",
    "    {'Name': 'Steve', 'Age': 29},\n",
    "    {'Name': 'Ricky', 'Age': 42},\n",
    "]\n",
    "\n",
    "df = pd.DataFrame(data)\n",
    "df"
   ]
  },
  {
   "cell_type": "code",
   "execution_count": 166,
   "metadata": {},
   "outputs": [
    {
     "name": "stdout",
     "output_type": "stream",
     "text": [
      "[1, 2, 7, 5, 6]\n",
      "[1, 2, 5, 6, 7]\n"
     ]
    }
   ],
   "source": [
    "a = [1, 2, 7, 5, 6]\n",
    "print(a)\n",
    "a.sort()\n",
    "print(a)"
   ]
  },
  {
   "cell_type": "code",
   "execution_count": 170,
   "metadata": {},
   "outputs": [
    {
     "data": {
      "text/plain": [
       "4.2"
      ]
     },
     "execution_count": 170,
     "metadata": {},
     "output_type": "execute_result"
    }
   ],
   "source": [
    "avg = sum(a)/len(a)\n",
    "avg"
   ]
  },
  {
   "cell_type": "code",
   "execution_count": 169,
   "metadata": {},
   "outputs": [
    {
     "data": {
      "text/plain": [
       "count    5.000000\n",
       "mean     4.200000\n",
       "std      2.588436\n",
       "min      1.000000\n",
       "25%      2.000000\n",
       "50%      5.000000\n",
       "75%      6.000000\n",
       "max      7.000000\n",
       "dtype: float64"
      ]
     },
     "execution_count": 169,
     "metadata": {},
     "output_type": "execute_result"
    }
   ],
   "source": [
    "sr = pd.Series(a)\n",
    "sr.describe()"
   ]
  },
  {
   "cell_type": "code",
   "execution_count": 163,
   "metadata": {},
   "outputs": [
    {
     "data": {
      "text/html": [
       "<div>\n",
       "<style scoped>\n",
       "    .dataframe tbody tr th:only-of-type {\n",
       "        vertical-align: middle;\n",
       "    }\n",
       "\n",
       "    .dataframe tbody tr th {\n",
       "        vertical-align: top;\n",
       "    }\n",
       "\n",
       "    .dataframe thead th {\n",
       "        text-align: right;\n",
       "    }\n",
       "</style>\n",
       "<table border=\"1\" class=\"dataframe\">\n",
       "  <thead>\n",
       "    <tr style=\"text-align: right;\">\n",
       "      <th></th>\n",
       "      <th>Age</th>\n",
       "      <th>Height</th>\n",
       "    </tr>\n",
       "  </thead>\n",
       "  <tbody>\n",
       "    <tr>\n",
       "      <th>count</th>\n",
       "      <td>4.000000</td>\n",
       "      <td>1.0</td>\n",
       "    </tr>\n",
       "    <tr>\n",
       "      <th>mean</th>\n",
       "      <td>33.250000</td>\n",
       "      <td>165.0</td>\n",
       "    </tr>\n",
       "    <tr>\n",
       "      <th>std</th>\n",
       "      <td>6.396614</td>\n",
       "      <td>NaN</td>\n",
       "    </tr>\n",
       "    <tr>\n",
       "      <th>min</th>\n",
       "      <td>28.000000</td>\n",
       "      <td>165.0</td>\n",
       "    </tr>\n",
       "    <tr>\n",
       "      <th>25%</th>\n",
       "      <td>28.750000</td>\n",
       "      <td>165.0</td>\n",
       "    </tr>\n",
       "    <tr>\n",
       "      <th>50%</th>\n",
       "      <td>31.500000</td>\n",
       "      <td>165.0</td>\n",
       "    </tr>\n",
       "    <tr>\n",
       "      <th>75%</th>\n",
       "      <td>36.000000</td>\n",
       "      <td>165.0</td>\n",
       "    </tr>\n",
       "    <tr>\n",
       "      <th>max</th>\n",
       "      <td>42.000000</td>\n",
       "      <td>165.0</td>\n",
       "    </tr>\n",
       "  </tbody>\n",
       "</table>\n",
       "</div>"
      ],
      "text/plain": [
       "             Age  Height\n",
       "count   4.000000     1.0\n",
       "mean   33.250000   165.0\n",
       "std     6.396614     NaN\n",
       "min    28.000000   165.0\n",
       "25%    28.750000   165.0\n",
       "50%    31.500000   165.0\n",
       "75%    36.000000   165.0\n",
       "max    42.000000   165.0"
      ]
     },
     "execution_count": 163,
     "metadata": {},
     "output_type": "execute_result"
    }
   ],
   "source": [
    "df.describe()"
   ]
  },
  {
   "cell_type": "markdown",
   "metadata": {},
   "source": [
    "# Others"
   ]
  },
  {
   "cell_type": "markdown",
   "metadata": {},
   "source": [
    "- OpenCV\n",
    "- Pydub\n",
    "- Matplotlib\n",
    "- etc"
   ]
  }
 ],
 "metadata": {
  "kernelspec": {
   "display_name": "base",
   "language": "python",
   "name": "python3"
  },
  "language_info": {
   "codemirror_mode": {
    "name": "ipython",
    "version": 3
   },
   "file_extension": ".py",
   "mimetype": "text/x-python",
   "name": "python",
   "nbconvert_exporter": "python",
   "pygments_lexer": "ipython3",
   "version": "3.9.13"
  },
  "orig_nbformat": 4
 },
 "nbformat": 4,
 "nbformat_minor": 2
}
